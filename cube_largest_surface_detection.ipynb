{
 "cells": [
  {
   "attachments": {},
   "cell_type": "markdown",
   "metadata": {},
   "source": [
    "### Load YOLOv8 model (Run this first)"
   ]
  },
  {
   "cell_type": "code",
   "execution_count": 2,
   "metadata": {},
   "outputs": [],
   "source": [
    "import cv2\n",
    "from ultralytics import YOLO\n",
    "import time\n",
    "import numpy as np\n",
    "from scipy.spatial import cKDTree\n",
    "\n",
    "model = YOLO(\"yolov8n-seg-custom.pt\")  # 載入模型"
   ]
  },
  {
   "attachments": {},
   "cell_type": "markdown",
   "metadata": {},
   "source": [
    "### **Corner Detect**"
   ]
  },
  {
   "attachments": {},
   "cell_type": "markdown",
   "metadata": {},
   "source": [
    "#### Functions and Filters define"
   ]
  },
  {
   "attachments": {},
   "cell_type": "markdown",
   "metadata": {},
   "source": [
    "Functions:"
   ]
  },
  {
   "cell_type": "code",
   "execution_count": 3,
   "metadata": {},
   "outputs": [],
   "source": [
    "def color_detect(masked_image):\n",
    "    hsv_ranges = {\n",
    "        \"white\": np.array([[0, 15, 200], [75, 70, 255]], dtype=np.uint8),\n",
    "        \"red\": np.array([[122, 63, 56], [132, 255, 255]], dtype=np.uint8),\n",
    "        \"orange\": np.array([[100, 40, 170], [120, 255, 255]], dtype=np.uint8),\n",
    "        \"yellow\": np.array([[80, 90, 100], [100, 255, 255]], dtype=np.uint8),\n",
    "        \"green\": np.array([[50, 150, 60], [80, 210, 200]], dtype=np.uint8),\n",
    "        \"blue\": np.array([[0, 70, 25], [40, 255, 210]], dtype=np.uint8),\n",
    "    }\n",
    "\n",
    "    color_dict = {\n",
    "        \"red\": (0, 0, 255),  # 红色\n",
    "        \"orange\": (0, 165, 255),  # 橘色\n",
    "        \"yellow\": (0, 255, 255),  # 黄色\n",
    "        \"green\": (0, 128, 0),  # 綠色\n",
    "        \"blue\": (255, 0, 0),  # 藍色\n",
    "        \"white\": (255, 255, 255),  # 白色\n",
    "    }\n",
    "    hsv_image = cv2.cvtColor(masked_image, cv2.COLOR_RGB2HSV)\n",
    "    max_color = None\n",
    "    pixel_counts = {}\n",
    "    for color_name, hsv_range in hsv_ranges.items():\n",
    "        lower_bound = hsv_range[0]\n",
    "        upper_bound = hsv_range[1]\n",
    "\n",
    "        mask = cv2.inRange(hsv_image, lower_bound, upper_bound)\n",
    "        pixel_counts[color_name] = cv2.countNonZero(mask)\n",
    "\n",
    "    max_color = max(pixel_counts, key=pixel_counts.get)\n",
    "    return max_color, color_dict[max_color]\n",
    "\n",
    "\n",
    "def correct_coordinates(approx_points_pack, epsilon):\n",
    "    correct_approx_points_pack = []\n",
    "    # 取出所有端點座標\n",
    "    all_points = np.vstack([point for points in approx_points_pack for point in points])\n",
    "    # 做兩次凝聚相鄰座標點\n",
    "    all_points = merge_close_points(all_points, 3.5 * epsilon, iter=2)\n",
    "    update_points = set(tuple(point) for point in all_points)\n",
    "    # 更新舊多邊形端點座標成距離最近的凝聚座標點，並且紀錄有被更新到的座標點\n",
    "\n",
    "    for approx_points in approx_points_pack:\n",
    "        # new_points = np.empty((0, 1, 2), dtype=int)\n",
    "        for i in range(len(approx_points)):\n",
    "            target_point = np.array(approx_points[i])\n",
    "            distances = np.linalg.norm(all_points - target_point, axis=1)\n",
    "            nearest_index = np.argmin(distances)\n",
    "            # if np.any(approx_points[i] != all_points[nearest_index]):\n",
    "                # update_points.add(tuple(all_points[nearest_index]))\n",
    "                # new_points = np.concatenate(\n",
    "                #     (new_points, [[all_points[nearest_index]]]), axis=0\n",
    "                # )\n",
    "            approx_points[i] = all_points[nearest_index]\n",
    "\n",
    "        # correct_approx_points_pack.append(new_points)\n",
    "        correct_approx_points_pack.append(approx_points)\n",
    "    # 將校正過的多邊形同梱包，與有被更新到的座標返回\n",
    "    return correct_approx_points_pack, update_points\n",
    "\n",
    "\n",
    "def merge_close_points(coordinates, threshold_distance, iter):\n",
    "    # 建立KD樹\n",
    "\n",
    "    merged_points = []\n",
    "    # 進行最近鄰查詢，找到接近的點\n",
    "    for i in range(iter):\n",
    "        kdtree = cKDTree(coordinates)\n",
    "        merged_points = []\n",
    "        visited_points = set()\n",
    "        for j, point in enumerate(coordinates):\n",
    "            if j not in visited_points:\n",
    "                # 找到與當前點接近的所有點\n",
    "                close_indices = kdtree.query_ball_point(point, threshold_distance)\n",
    "                visited_points.update(close_indices)\n",
    "\n",
    "                # 計算接近的點的平均值，作為合併後的新點\n",
    "                avg_x = sum(coordinates[idx][0] for idx in close_indices) / len(\n",
    "                    close_indices\n",
    "                )\n",
    "                avg_y = sum(coordinates[idx][1] for idx in close_indices) / len(\n",
    "                    close_indices\n",
    "                )\n",
    "                if i != 0 or len(close_indices) > 1:\n",
    "                    merged_points.append((avg_x, avg_y))\n",
    "        coordinates = merged_points\n",
    "    return np.int0(merged_points)"
   ]
  },
  {
   "attachments": {},
   "cell_type": "markdown",
   "metadata": {},
   "source": [
    "**[Optional]**  \n",
    "Make sure you have already installed OpenCV with CUDA support.  \n",
    "\n",
    "Filters:\n"
   ]
  },
  {
   "cell_type": "code",
   "execution_count": 4,
   "metadata": {},
   "outputs": [],
   "source": [
    "sobelFilterX = cv2.cuda.createSobelFilter(0, cv2.CV_32F, 1, 0, 3)\n",
    "sobelFilterY = cv2.cuda.createSobelFilter(0, cv2.CV_32F, 0, 1, 3)\n",
    "cannyDetector = cv2.cuda.createCannyEdgeDetector(25, 100)\n",
    "\n"
   ]
  },
  {
   "attachments": {},
   "cell_type": "markdown",
   "metadata": {},
   "source": [
    "#### Main Function"
   ]
  },
  {
   "attachments": {},
   "cell_type": "markdown",
   "metadata": {},
   "source": [
    "##### CPU version"
   ]
  },
  {
   "cell_type": "code",
   "execution_count": 4,
   "metadata": {},
   "outputs": [
    {
     "name": "stderr",
     "output_type": "stream",
     "text": [
      "\n",
      "0: 480x640 7 cubes, 63.0ms\n",
      "Speed: 5.0ms preprocess, 63.0ms inference, 3.0ms postprocess per image at shape (1, 3, 480, 640)\n",
      "C:\\Users\\user\\AppData\\Local\\Temp\\ipykernel_31028\\3288770374.py:86: DeprecationWarning: `np.int0` is a deprecated alias for `np.intp`.  (Deprecated NumPy 1.24)\n",
      "  return np.int0(merged_points)\n"
     ]
    }
   ],
   "source": [
    "# CPU_VERSION\n",
    "# 物件檢測----------------------------------------------------\n",
    "img = cv2.imread(\"test6.jpg\")\n",
    "height = 600\n",
    "scale = height / img.shape[0]\n",
    "img = cv2.resize(img, None, fx=scale, fy=scale)\n",
    "results = model(img)[0]\n",
    "img_r = results[0].plot(labels=False, boxes=False, masks=True)\n",
    "mask = results.masks[0]\n",
    "box = results.boxes[0]\n",
    "# for box, mask in zip(results.boxes, results.masks):\n",
    "segment = np.where(mask.data.cpu()[0] != 0, 255, 0).astype(np.uint8)\n",
    "scale = height / segment.shape[0]\n",
    "segment = cv2.resize(segment, None, fx=scale, fy=scale)\n",
    "offset = (segment.shape[1] - img.shape[1]) // 2\n",
    "segment = segment[:, offset : offset + img.shape[1]]\n",
    "masked_image = cv2.bitwise_and(img, img, mask=segment)\n",
    "x1, y1, x2, y2 = box.xyxyn.cpu()[0].numpy()\n",
    "x1, x2 = map(lambda x: int(x * masked_image.shape[1]), [x1, x2])\n",
    "y1, y2 = map(lambda x: int(x * masked_image.shape[0]), [y1, y2])\n",
    "masked_image = masked_image[y1:y2, x1:x2]\n",
    "box_scale = 300 / masked_image.shape[0]\n",
    "masked_image = cv2.resize(masked_image, None, fx=box_scale, fy=box_scale)\n",
    "\n",
    "# 顏色檢測----------------------------------------------------\n",
    "color, color_rgb = color_detect(masked_image)\n",
    "\n",
    "# 角點檢測----------------------------------------------------\n",
    "cv2.convertScaleAbs(masked_image, masked_image, 1, 25)  # 畫面亮度調亮\n",
    "cv2.detailEnhance(masked_image, masked_image, 10, 0.01)  # 強化細節\n",
    "gray = cv2.cvtColor(masked_image, cv2.COLOR_BGR2GRAY)\n",
    "\n",
    "# 高斯模糊減少噪點\n",
    "kernel_size = 9\n",
    "gray = cv2.GaussianBlur(gray, (kernel_size, kernel_size), 1)\n",
    "\n",
    "cv2.edgePreservingFilter(gray, gray, 1, 120, 0.1)  # 減少噪點，而不模糊邊緣\n",
    "# gray = cv2.bilateralFilter(gray, 40, 10, 20)\n",
    "# sobel算子偵測邊緣\n",
    "sobel_x = cv2.Sobel(gray, cv2.CV_64F, 1, 0, ksize=3)\n",
    "sobel_y = cv2.Sobel(gray, cv2.CV_64F, 0, 1, ksize=3)  # 計算梯度幅值\n",
    "sobel_image = np.sqrt(sobel_x**2 + sobel_y**2)  # 將梯度幅值轉換為8位無符號整數\n",
    "sobel_image = np.uint8(255 * sobel_image / np.max(sobel_image))\n",
    "\n",
    "cv2.edgePreservingFilter(sobel_image,sobel_image,1,120,0.1)\n",
    "# 將遮罩輪廓繪製，避免邊緣偵測不清輪廓\n",
    "segment = segment[y1:y2, x1:x2]\n",
    "segment = cv2.resize(segment, None, fx=box_scale, fy=box_scale)\n",
    "contours_outer, _ = cv2.findContours(\n",
    "    segment, cv2.RETR_TREE, cv2.CHAIN_APPROX_SIMPLE\n",
    ")\n",
    "contour_outer = max(contours_outer, key=cv2.contourArea)\n",
    "sobel_image = cv2.drawContours(sobel_image, [contour_outer], -1, (255, 255, 255), 1)\n",
    "\n",
    "# sobel_image = cv2.bilateralFilter(sobel_image, 5, 10, 20)\n",
    "\n",
    "# 使用Canny算子邊緣檢測\n",
    "canny_image = cv2.Canny(sobel_image, 0, 100)\n",
    "kernel = np.ones((3, 3), dtype=np.uint8)\n",
    "canny_image = cv2.dilate(canny_image, kernel, iterations=2)\n",
    "canny_image = cv2.erode(canny_image, kernel, iterations=1)\n",
    "\n",
    "# 找尋輪廓，並繪製\n",
    "contours, hierarchy = cv2.findContours(\n",
    "    canny_image, cv2.RETR_TREE, cv2.CHAIN_APPROX_SIMPLE\n",
    ")\n",
    "contour_image = np.zeros(\n",
    "    (masked_image.shape[0], masked_image.shape[1], 3), dtype=np.uint8\n",
    ")\n",
    "contour_image = cv2.drawContours(contour_image, contours, -1, (0, 0, 255), 1)\n",
    "# 找出所有輪廓的近似多邊形\n",
    "epsilon = 0.02 * cv2.arcLength(contour_outer, True)\n",
    "outer_points = cv2.approxPolyDP(contour_outer, epsilon, True)\n",
    "delta = 0.04 * cv2.arcLength(contour_outer, True)\n",
    "\n",
    "# 把所有多邊形點打包整理，相鄰的端點合併，校正位置\n",
    "approx_points_pack = []\n",
    "isClosed = True\n",
    "contourArea_outer = cv2.contourArea(contour_outer)\n",
    "epsilon_outer = 0.01 * cv2.arcLength(contour_outer, isClosed)\n",
    "for i, contour in enumerate(contours):\n",
    "    if i == 0:\n",
    "        contour = contour_outer\n",
    "    if cv2.contourArea(contour) < 0.05 * contourArea_outer:\n",
    "        continue\n",
    "    epsilon = 0.02 * cv2.arcLength(contour, isClosed)\n",
    "    approx_points = cv2.approxPolyDP(contour, epsilon, isClosed)\n",
    "    approx_points_pack.append(approx_points)\n",
    "approx_image = np.zeros(\n",
    "    (masked_image.shape[0], masked_image.shape[1]), dtype=np.uint8\n",
    ")\n",
    "for approx_points in approx_points_pack:\n",
    "    approx_image = cv2.polylines(approx_image, [approx_points], isClosed, (255), 2)\n",
    "# 將打包的多邊形端點整理校正位置，首項為校正後的多邊形，次項為校正後的各個座標點\n",
    "correct_approx_points_pack, update_points = correct_coordinates(\n",
    "    approx_points_pack, epsilon=epsilon_outer\n",
    ")\n",
    "correct_approx_image = np.zeros(\n",
    "    (masked_image.shape[0], masked_image.shape[1]), dtype=np.uint8\n",
    ")\n",
    "for correct_approx_points in correct_approx_points_pack:\n",
    "    correct_approx_image = cv2.polylines(\n",
    "        correct_approx_image, [correct_approx_points], isClosed, (255), 2\n",
    "    )\n",
    "\n",
    "for point in update_points:\n",
    "    x, y = point\n",
    "    cv2.circle(masked_image, (x, y), 10, color_rgb, -1)\n",
    "    x = int(x / box_scale) + x1\n",
    "    y = int(y / box_scale) + y1\n",
    "    cv2.circle(img, (x, y), 10, color_rgb, -1)\n",
    "\n",
    "# img = cv2.resize(img, None, fx=scale, fy=scale)\n",
    "cv2.imshow(\"origin\", img)\n",
    "cv2.imshow(\"masked\", masked_image)\n",
    "cv2.imshow(\"gray\", gray)\n",
    "cv2.imshow(\"sobel\", sobel_image)\n",
    "cv2.imshow(\"canny\", canny_image)\n",
    "cv2.imshow(\"contour\", contour_image)\n",
    "cv2.imshow(\"approx\", approx_image)\n",
    "cv2.imshow(\"corner_masked\", masked_image)\n",
    "cv2.imshow(\"correct approx\", correct_approx_image)\n",
    "cv2.waitKey(0)\n",
    "cv2.destroyAllWindows()\n"
   ]
  },
  {
   "attachments": {},
   "cell_type": "markdown",
   "metadata": {},
   "source": [
    "##### GPU version"
   ]
  },
  {
   "attachments": {},
   "cell_type": "markdown",
   "metadata": {},
   "source": [
    "Make sure you have already installed OpenCV with CUDA support."
   ]
  },
  {
   "cell_type": "code",
   "execution_count": 3,
   "metadata": {},
   "outputs": [
    {
     "name": "stderr",
     "output_type": "stream",
     "text": [
      "\n",
      "0: 640x384 6 cubes, 64.0ms\n",
      "Speed: 4.0ms preprocess, 64.0ms inference, 4.0ms postprocess per image at shape (1, 3, 640, 384)\n"
     ]
    },
    {
     "ename": "NameError",
     "evalue": "name 'sobelFilterX' is not defined",
     "output_type": "error",
     "traceback": [
      "\u001b[1;31m---------------------------------------------------------------------------\u001b[0m",
      "\u001b[1;31mNameError\u001b[0m                                 Traceback (most recent call last)",
      "Cell \u001b[1;32mIn[3], line 40\u001b[0m\n\u001b[0;32m     38\u001b[0m gpu_img \u001b[39m=\u001b[39m cv2\u001b[39m.\u001b[39mcuda\u001b[39m.\u001b[39mbilateralFilter(gpu_img, \u001b[39m40\u001b[39m, \u001b[39m10\u001b[39m, \u001b[39m20\u001b[39m)\n\u001b[0;32m     39\u001b[0m \u001b[39m# sobel算子偵測邊緣\u001b[39;00m\n\u001b[1;32m---> 40\u001b[0m sobel_x \u001b[39m=\u001b[39m sobelFilterX\u001b[39m.\u001b[39mapply(gpu_img)\u001b[39m.\u001b[39mdownload()\n\u001b[0;32m     41\u001b[0m sobel_y \u001b[39m=\u001b[39m sobelFilterY\u001b[39m.\u001b[39mapply(gpu_img)\u001b[39m.\u001b[39mdownload()\n\u001b[0;32m     42\u001b[0m sobel_image \u001b[39m=\u001b[39m np\u001b[39m.\u001b[39msqrt(sobel_x\u001b[39m*\u001b[39m\u001b[39m*\u001b[39m\u001b[39m2\u001b[39m \u001b[39m+\u001b[39m sobel_y\u001b[39m*\u001b[39m\u001b[39m*\u001b[39m\u001b[39m2\u001b[39m)  \u001b[39m# 將梯度幅值轉換為8位無符號整數\u001b[39;00m\n",
      "\u001b[1;31mNameError\u001b[0m: name 'sobelFilterX' is not defined"
     ]
    }
   ],
   "source": [
    "#GPU_VERSION\n",
    "# 物件檢測----------------------------------------------------\n",
    "img = cv2.imread(\"test7.jpg\")\n",
    "height = 600\n",
    "scale = height / img.shape[0]\n",
    "img = cv2.resize(img, None, fx=scale, fy=scale)\n",
    "results = model(img)[0]\n",
    "img = results[0].plot(labels=False, boxes=False, masks=False)\n",
    "mask = results.masks[3]\n",
    "box = results.boxes[3]\n",
    "segment = np.where(mask.data.cpu()[0] != 0, 255, 0).astype(np.uint8)\n",
    "scale = height / segment.shape[0]\n",
    "segment = cv2.resize(segment, None, fx=scale, fy=scale)\n",
    "offset = (segment.shape[1] - img.shape[1]) // 2\n",
    "segment = segment[:, offset : offset + img.shape[1]]\n",
    "masked_image = cv2.bitwise_and(img, img, mask=segment)\n",
    "x1, y1, x2, y2 = box.xyxyn.cpu()[0].numpy()\n",
    "x1, x2 = map(lambda x: int(x * masked_image.shape[1]), [x1, x2])\n",
    "y1, y2 = map(lambda x: int(x * masked_image.shape[0]), [y1, y2])\n",
    "masked_image = masked_image[y1:y2, x1:x2]\n",
    "box_scale = 300 / masked_image.shape[0]\n",
    "masked_image = cv2.resize(masked_image, None, fx=box_scale, fy=box_scale)\n",
    "\n",
    "# 顏色檢測----------------------------------------------------\n",
    "color, color_rgb = color_detect(masked_image)  \n",
    "\n",
    "# 角點檢測----------------------------------------------------\n",
    "gpu_img = cv2.cuda.GpuMat()\n",
    "\n",
    "cv2.convertScaleAbs(masked_image, masked_image, 1, 25)  # 畫面亮度調亮\n",
    "gray = cv2.cvtColor(masked_image, cv2.COLOR_BGR2GRAY)\n",
    "# 高斯模糊 減少噪點\n",
    "kernel_size = 9\n",
    "gray = cv2.GaussianBlur(gray, (kernel_size, kernel_size), 1)\n",
    "\n",
    "# 雙邊濾波 減少噪點，而不模糊邊緣\n",
    "gpu_img.upload(gray)\n",
    "gpu_img = cv2.cuda.bilateralFilter(gpu_img, 40, 10, 20)\n",
    "# sobel算子偵測邊緣\n",
    "sobel_x = sobelFilterX.apply(gpu_img).download()\n",
    "sobel_y = sobelFilterY.apply(gpu_img).download()\n",
    "sobel_image = np.sqrt(sobel_x**2 + sobel_y**2)  # 將梯度幅值轉換為8位無符號整數\n",
    "sobel_image = np.uint8(255 * sobel_image / np.max(sobel_image))\n",
    "\n",
    "# 將遮罩輪廓繪製，避免邊緣偵測不清輪廓\n",
    "segment = segment[y1:y2, x1:x2]\n",
    "segment = cv2.resize(segment, None, fx=box_scale, fy=box_scale)\n",
    "contours_outer, _ = cv2.findContours(segment, cv2.RETR_TREE, cv2.CHAIN_APPROX_SIMPLE)\n",
    "contour_outer = max(contours_outer, key=cv2.contourArea)\n",
    "sobel_image = cv2.drawContours(sobel_image, [contour_outer], -1, (255, 255, 255), 1)\n",
    "\n",
    "gpu_img.upload(sobel_image)\n",
    "gpu_img = cv2.cuda.bilateralFilter(gpu_img, 5, 10, 20)\n",
    "\n",
    "# 使用Canny算子邊緣檢測\n",
    "cannyDetector.detect(gpu_img,gpu_img)\n",
    "canny_edges=gpu_img.download()\n",
    "canny_image = cv2.Canny(sobel_image, 0, 100)\n",
    "kernel = np.ones((3, 3), dtype=np.uint8)\n",
    "canny_image = cv2.dilate(canny_image, kernel, iterations=2)\n",
    "canny_image = cv2.erode(canny_image, kernel, iterations=1)\n",
    "\n",
    "# 找尋輪廓，並繪製\n",
    "contours, hierarchy = cv2.findContours(\n",
    "    canny_image, cv2.RETR_TREE, cv2.CHAIN_APPROX_SIMPLE\n",
    ")\n",
    "contour_image = np.zeros(\n",
    "    (masked_image.shape[0], masked_image.shape[1], 3), dtype=np.uint8\n",
    ")\n",
    "contour_image = cv2.drawContours(contour_image, contours, -1, (0, 0, 255), 1)\n",
    "# 找出所有輪廓的近似多邊形\n",
    "epsilon = 0.02 * cv2.arcLength(contour_outer, True)\n",
    "outer_points = cv2.approxPolyDP(contour_outer, epsilon, True)\n",
    "delta = 0.04 * cv2.arcLength(contour_outer, True)\n",
    "\n",
    "\n",
    "# 把所有多邊形點打包整理，相鄰的端點合併，校正位置\n",
    "approx_points_pack = []\n",
    "isClosed = True\n",
    "contourArea_outer = cv2.contourArea(contour_outer)\n",
    "epsilon_outer = 0.01 * cv2.arcLength(contour_outer, isClosed)\n",
    "for i, contour in enumerate(contours):\n",
    "    if i == 0:\n",
    "        contour = contour_outer\n",
    "    if cv2.contourArea(contour) < 0.05 * contourArea_outer:\n",
    "        continue\n",
    "    epsilon = 0.02 * cv2.arcLength(contour, isClosed)\n",
    "    approx_points = cv2.approxPolyDP(contour, epsilon, isClosed)\n",
    "    approx_points_pack.append(approx_points)\n",
    "approx_image = np.zeros((masked_image.shape[0], masked_image.shape[1]), dtype=np.uint8)\n",
    "for approx_points in approx_points_pack:\n",
    "    approx_image = cv2.polylines(approx_image, [approx_points], isClosed, (255), 2)\n",
    "# 將打包的多邊形端點整理校正位置，首項為校正後的多邊形，次項為校正後的各個座標點\n",
    "correct_approx_points_pack, update_points = correct_coordinates(\n",
    "    approx_points_pack, epsilon=epsilon_outer\n",
    ")\n",
    "correct_approx_image = np.zeros(\n",
    "    (masked_image.shape[0], masked_image.shape[1]), dtype=np.uint8\n",
    ")\n",
    "for correct_approx_points in correct_approx_points_pack:\n",
    "    correct_approx_image = cv2.polylines(\n",
    "        correct_approx_image, [correct_approx_points], isClosed, (255), 2\n",
    "    )\n",
    "\n",
    "\n",
    "for point in update_points:\n",
    "    x, y = point\n",
    "    cv2.circle(masked_image, (x, y), 5, color_rgb, -1)\n",
    "    x = int(x / box_scale) + x1\n",
    "    y = int(y / box_scale) + y1\n",
    "    cv2.circle(img, (x, y), 5, color_rgb, -1)\n",
    "img = cv2.resize(img, None, fx=scale, fy=scale)\n",
    "cv2.imshow(\"origin\", img)\n",
    "cv2.imshow(\"masked\", masked_image)\n",
    "cv2.imshow(\"gray\", gray)\n",
    "cv2.imshow(\"sobel\", sobel_image)\n",
    "cv2.imshow(\"canny\", canny_image)\n",
    "cv2.imshow(\"contour\", contour_image)\n",
    "cv2.imshow(\"approx\", approx_image)\n",
    "cv2.imshow(\"corner_masked\", masked_image)\n",
    "cv2.imshow(\"correct approx\", correct_approx_image)\n",
    "cv2.waitKey(0)\n",
    "cv2.destroyAllWindows()"
   ]
  },
  {
   "cell_type": "code",
   "execution_count": null,
   "metadata": {},
   "outputs": [],
   "source": []
  },
  {
   "attachments": {},
   "cell_type": "markdown",
   "metadata": {},
   "source": [
    "### **Real time object detection**"
   ]
  },
  {
   "attachments": {},
   "cell_type": "markdown",
   "metadata": {},
   "source": [
    "Open web_cam "
   ]
  },
  {
   "cell_type": "code",
   "execution_count": 37,
   "metadata": {},
   "outputs": [],
   "source": [
    "cap = cv2.VideoCapture(0)"
   ]
  },
  {
   "attachments": {},
   "cell_type": "markdown",
   "metadata": {},
   "source": [
    "Close web_cam (Run this after finish the task)"
   ]
  },
  {
   "cell_type": "code",
   "execution_count": 36,
   "metadata": {},
   "outputs": [],
   "source": [
    "cap.release()"
   ]
  },
  {
   "attachments": {},
   "cell_type": "markdown",
   "metadata": {},
   "source": [
    "#### Functions and Filters define"
   ]
  },
  {
   "attachments": {},
   "cell_type": "markdown",
   "metadata": {},
   "source": [
    "Functions:"
   ]
  },
  {
   "cell_type": "code",
   "execution_count": null,
   "metadata": {},
   "outputs": [],
   "source": [
    "def color_detect(masked_image):\n",
    "    hsv_ranges = {\n",
    "        \"white\": np.array([[0, 15, 200], [75, 70, 255]], dtype=np.uint8),\n",
    "        \"red\": np.array([[122, 63, 56], [132, 255, 255]], dtype=np.uint8),\n",
    "        \"orange\": np.array([[100, 40, 170], [120, 255, 255]], dtype=np.uint8),\n",
    "        \"yellow\": np.array([[80, 90, 100], [100, 255, 255]], dtype=np.uint8),\n",
    "        \"green\": np.array([[50, 150, 60], [80, 210, 200]], dtype=np.uint8),\n",
    "        \"blue\": np.array([[0, 70, 25], [40, 255, 210]], dtype=np.uint8),\n",
    "    }\n",
    "\n",
    "    color_dict = {\n",
    "        \"red\": (0, 0, 255),  # 红色\n",
    "        \"orange\": (0, 165, 255),  # 橘色\n",
    "        \"yellow\": (0, 255, 255),  # 黄色\n",
    "        \"green\": (0, 128, 0),  # 绿色\n",
    "        \"blue\": (255, 0, 0),  # 蓝色\n",
    "        \"white\": (255, 255, 255),  # 白色\n",
    "    }\n",
    "    hsv_image = cv2.cvtColor(masked_image, cv2.COLOR_RGB2HSV)\n",
    "    max_color = None\n",
    "    pixel_counts = {}\n",
    "    for color_name, hsv_range in hsv_ranges.items():\n",
    "        lower_bound = hsv_range[0]\n",
    "        upper_bound = hsv_range[1]\n",
    "\n",
    "        mask = cv2.inRange(hsv_image, lower_bound, upper_bound)\n",
    "        pixel_counts[color_name] = cv2.countNonZero(mask)\n",
    "\n",
    "    print(pixel_counts.get)\n",
    "    max_color = max(pixel_counts, key=pixel_counts.get)\n",
    "    return max_color, color_dict[max_color]\n",
    "\n",
    "\n",
    "\n",
    "def correct_coordinates(approx_points_pack, epsilon):\n",
    "    correct_approx_points_pack = []\n",
    "    update_points = set()\n",
    "    # 取出所有端點座標\n",
    "    all_points = np.vstack([point for points in approx_points_pack for point in points]) \n",
    "    # 做兩次凝聚相鄰座標點\n",
    "    all_points = merge_close_points(all_points, 3.5 * epsilon)\n",
    "    all_points = merge_close_points(all_points, 3.5 * epsilon)\n",
    "\n",
    "    # 更新舊多邊形端點座標成距離最近的凝聚座標點，並且紀錄有被更新到的座標點\n",
    "    for approx_points in approx_points_pack:\n",
    "        for i in range(len(approx_points)):\n",
    "            target_point = np.array(approx_points[i])\n",
    "            distances = np.linalg.norm(all_points - target_point, axis=1)\n",
    "            nearest_index = np.argmin(distances)\n",
    "            if np.any(approx_points[i] != all_points[nearest_index]):\n",
    "                update_points.add(tuple(all_points[nearest_index]))\n",
    "            approx_points[i] = all_points[nearest_index]\n",
    "        correct_approx_points_pack.append(approx_points)\n",
    "    # 將校正過的多邊形同梱包，與有被更新到的座標返回\n",
    "    return correct_approx_points_pack, update_points\n",
    "\n",
    "def merge_close_points(coordinates, threshold_distance):\n",
    "    # 建立KD樹\n",
    "    kdtree = cKDTree(coordinates)\n",
    "\n",
    "    # 進行最近鄰查詢，找到接近的點\n",
    "    merged_points = []\n",
    "    visited_points = set()\n",
    "    for i, point in enumerate(coordinates):\n",
    "        if i not in visited_points:\n",
    "            # 找到與當前點接近的所有點\n",
    "            close_indices = kdtree.query_ball_point(point, threshold_distance)\n",
    "            visited_points.update(close_indices)\n",
    "\n",
    "            # 計算接近的點的平均值，作為合併後的新點\n",
    "            avg_x = sum(coordinates[idx][0] for idx in close_indices) / len(\n",
    "                close_indices\n",
    "            )\n",
    "            avg_y = sum(coordinates[idx][1] for idx in close_indices) / len(\n",
    "                close_indices\n",
    "            )\n",
    "            merged_points.append((avg_x, avg_y))\n",
    "\n",
    "    return np.int0(merged_points)\n"
   ]
  },
  {
   "attachments": {},
   "cell_type": "markdown",
   "metadata": {},
   "source": [
    "**[Optional]**  \n",
    "Make sure you have already installed OpenCV with CUDA support.  \n",
    "\n",
    "Filters:\n"
   ]
  },
  {
   "cell_type": "code",
   "execution_count": null,
   "metadata": {},
   "outputs": [],
   "source": [
    "sobelFilterX = cv2.cuda.createSobelFilter(0, cv2.CV_32F, 1, 0, 3)\n",
    "sobelFilterY = cv2.cuda.createSobelFilter(0, cv2.CV_32F, 0, 1, 3)\n",
    "cannyDetector = cv2.cuda.createCannyEdgeDetector(25, 100)\n"
   ]
  },
  {
   "attachments": {},
   "cell_type": "markdown",
   "metadata": {},
   "source": [
    "#### CPU version"
   ]
  },
  {
   "cell_type": "code",
   "execution_count": 42,
   "metadata": {},
   "outputs": [
    {
     "name": "stderr",
     "output_type": "stream",
     "text": [
      "\n"
     ]
    },
    {
     "name": "stderr",
     "output_type": "stream",
     "text": [
      "0: 480x640 (no detections), 87.0ms\n",
      "Speed: 15.0ms preprocess, 87.0ms inference, 2.0ms postprocess per image at shape (1, 3, 480, 640)\n",
      "\n"
     ]
    },
    {
     "name": "stdout",
     "output_type": "stream",
     "text": [
      "No Mask\n"
     ]
    },
    {
     "name": "stderr",
     "output_type": "stream",
     "text": [
      "0: 480x640 1 cube, 118.6ms\n",
      "Speed: 7.0ms preprocess, 118.6ms inference, 3.0ms postprocess per image at shape (1, 3, 480, 640)\n",
      "\n",
      "0: 480x640 1 cube, 10.5ms\n",
      "Speed: 2.0ms preprocess, 10.5ms inference, 3.0ms postprocess per image at shape (1, 3, 480, 640)\n",
      "\n",
      "0: 480x640 1 cube, 9.0ms\n",
      "Speed: 2.0ms preprocess, 9.0ms inference, 3.0ms postprocess per image at shape (1, 3, 480, 640)\n",
      "\n",
      "0: 480x640 1 cube, 9.5ms\n",
      "Speed: 2.0ms preprocess, 9.5ms inference, 2.0ms postprocess per image at shape (1, 3, 480, 640)\n",
      "\n"
     ]
    },
    {
     "name": "stdout",
     "output_type": "stream",
     "text": [
      "box not found\n",
      "總執行時間：0.146566 秒 ####################\n",
      "box not found\n",
      "總執行時間：0.038517 秒 ####################\n",
      "box not found\n",
      "總執行時間：0.041001 秒 ####################\n",
      "box not found\n",
      "總執行時間：0.030030 秒 ####################\n"
     ]
    },
    {
     "name": "stderr",
     "output_type": "stream",
     "text": [
      "0: 480x640 1 cube, 9.0ms\n",
      "Speed: 1.0ms preprocess, 9.0ms inference, 3.0ms postprocess per image at shape (1, 3, 480, 640)\n",
      "\n",
      "0: 480x640 (no detections), 8.0ms\n",
      "Speed: 2.0ms preprocess, 8.0ms inference, 1.0ms postprocess per image at shape (1, 3, 480, 640)\n",
      "\n",
      "0: 480x640 (no detections), 9.0ms\n",
      "Speed: 2.0ms preprocess, 9.0ms inference, 1.0ms postprocess per image at shape (1, 3, 480, 640)\n",
      "\n",
      "0: 480x640 (no detections), 8.0ms\n",
      "Speed: 2.0ms preprocess, 8.0ms inference, 1.0ms postprocess per image at shape (1, 3, 480, 640)\n",
      "\n",
      "0: 480x640 1 cube, 9.0ms\n",
      "Speed: 2.0ms preprocess, 9.0ms inference, 3.0ms postprocess per image at shape (1, 3, 480, 640)\n",
      "\n",
      "0: 480x640 1 cube, 8.0ms\n",
      "Speed: 2.0ms preprocess, 8.0ms inference, 4.0ms postprocess per image at shape (1, 3, 480, 640)\n",
      "\n",
      "0: 480x640 1 cube, 8.0ms\n"
     ]
    },
    {
     "name": "stdout",
     "output_type": "stream",
     "text": [
      "box not found\n",
      "總執行時間：0.031029 秒 ####################\n",
      "No Mask\n",
      "No Mask\n",
      "No Mask\n",
      "box not found\n",
      "總執行時間：0.031617 秒 ####################\n",
      "box not found\n",
      "總執行時間：0.029997 秒 ####################\n"
     ]
    },
    {
     "name": "stderr",
     "output_type": "stream",
     "text": [
      "Speed: 2.0ms preprocess, 8.0ms inference, 2.0ms postprocess per image at shape (1, 3, 480, 640)\n",
      "\n",
      "0: 480x640 1 cube, 8.0ms\n",
      "Speed: 3.0ms preprocess, 8.0ms inference, 2.0ms postprocess per image at shape (1, 3, 480, 640)\n",
      "\n",
      "0: 480x640 (no detections), 9.0ms\n",
      "Speed: 2.0ms preprocess, 9.0ms inference, 1.0ms postprocess per image at shape (1, 3, 480, 640)\n",
      "\n",
      "0: 480x640 (no detections), 8.0ms\n",
      "Speed: 3.0ms preprocess, 8.0ms inference, 0.0ms postprocess per image at shape (1, 3, 480, 640)\n",
      "\n",
      "0: 480x640 (no detections), 8.5ms\n",
      "Speed: 2.0ms preprocess, 8.5ms inference, 1.0ms postprocess per image at shape (1, 3, 480, 640)\n",
      "\n",
      "0: 480x640 (no detections), 8.0ms\n",
      "Speed: 2.0ms preprocess, 8.0ms inference, 0.0ms postprocess per image at shape (1, 3, 480, 640)\n",
      "\n",
      "0: 480x640 (no detections), 9.0ms\n",
      "Speed: 2.0ms preprocess, 9.0ms inference, 1.0ms postprocess per image at shape (1, 3, 480, 640)\n"
     ]
    },
    {
     "name": "stdout",
     "output_type": "stream",
     "text": [
      "box not found\n",
      "總執行時間：0.030031 秒 ####################\n",
      "box not found\n",
      "總執行時間：0.028001 秒 ####################\n",
      "No Mask\n",
      "No Mask\n",
      "No Mask\n",
      "No Mask\n",
      "No Mask\n"
     ]
    },
    {
     "name": "stderr",
     "output_type": "stream",
     "text": [
      "\n",
      "0: 480x640 1 cube, 8.0ms\n",
      "Speed: 1.5ms preprocess, 8.0ms inference, 2.0ms postprocess per image at shape (1, 3, 480, 640)\n",
      "\n",
      "0: 480x640 1 cube, 8.0ms\n",
      "Speed: 3.0ms preprocess, 8.0ms inference, 2.0ms postprocess per image at shape (1, 3, 480, 640)\n",
      "\n",
      "0: 480x640 (no detections), 9.0ms\n",
      "Speed: 2.0ms preprocess, 9.0ms inference, 0.0ms postprocess per image at shape (1, 3, 480, 640)\n",
      "\n",
      "0: 480x640 (no detections), 8.0ms\n",
      "Speed: 2.0ms preprocess, 8.0ms inference, 1.0ms postprocess per image at shape (1, 3, 480, 640)\n",
      "\n",
      "0: 480x640 (no detections), 9.0ms\n",
      "Speed: 2.0ms preprocess, 9.0ms inference, 0.0ms postprocess per image at shape (1, 3, 480, 640)\n",
      "\n",
      "0: 480x640 (no detections), 9.0ms\n",
      "Speed: 1.0ms preprocess, 9.0ms inference, 1.0ms postprocess per image at shape (1, 3, 480, 640)\n",
      "\n"
     ]
    },
    {
     "name": "stdout",
     "output_type": "stream",
     "text": [
      "box not found\n",
      "總執行時間：0.028511 秒 ####################\n",
      "box not found\n",
      "總執行時間：0.029002 秒 ####################\n",
      "No Mask\n",
      "No Mask\n",
      "No Mask\n",
      "No Mask\n"
     ]
    },
    {
     "name": "stderr",
     "output_type": "stream",
     "text": [
      "0: 480x640 (no detections), 8.0ms\n",
      "Speed: 2.0ms preprocess, 8.0ms inference, 1.0ms postprocess per image at shape (1, 3, 480, 640)\n",
      "\n",
      "0: 480x640 (no detections), 10.0ms\n",
      "Speed: 2.0ms preprocess, 10.0ms inference, 0.0ms postprocess per image at shape (1, 3, 480, 640)\n",
      "\n",
      "0: 480x640 (no detections), 8.0ms\n",
      "Speed: 2.0ms preprocess, 8.0ms inference, 1.0ms postprocess per image at shape (1, 3, 480, 640)\n",
      "\n",
      "0: 480x640 (no detections), 8.0ms\n",
      "Speed: 2.0ms preprocess, 8.0ms inference, 1.0ms postprocess per image at shape (1, 3, 480, 640)\n",
      "\n",
      "0: 480x640 (no detections), 9.0ms\n",
      "Speed: 2.0ms preprocess, 9.0ms inference, 1.0ms postprocess per image at shape (1, 3, 480, 640)\n",
      "\n",
      "0: 480x640 (no detections), 8.0ms\n",
      "Speed: 3.0ms preprocess, 8.0ms inference, 0.0ms postprocess per image at shape (1, 3, 480, 640)\n"
     ]
    },
    {
     "name": "stdout",
     "output_type": "stream",
     "text": [
      "No Mask\n",
      "No Mask\n",
      "No Mask\n",
      "No Mask\n",
      "No Mask\n"
     ]
    },
    {
     "name": "stderr",
     "output_type": "stream",
     "text": [
      "\n",
      "0: 480x640 (no detections), 9.0ms\n",
      "Speed: 2.0ms preprocess, 9.0ms inference, 1.0ms postprocess per image at shape (1, 3, 480, 640)\n",
      "\n",
      "0: 480x640 (no detections), 9.0ms\n",
      "Speed: 3.0ms preprocess, 9.0ms inference, 1.0ms postprocess per image at shape (1, 3, 480, 640)\n",
      "\n",
      "0: 480x640 (no detections), 9.0ms\n",
      "Speed: 2.0ms preprocess, 9.0ms inference, 1.0ms postprocess per image at shape (1, 3, 480, 640)\n",
      "\n",
      "0: 480x640 (no detections), 9.0ms\n",
      "Speed: 2.0ms preprocess, 9.0ms inference, 1.0ms postprocess per image at shape (1, 3, 480, 640)\n",
      "\n",
      "0: 480x640 (no detections), 7.8ms\n",
      "Speed: 2.6ms preprocess, 7.8ms inference, 1.1ms postprocess per image at shape (1, 3, 480, 640)\n",
      "\n"
     ]
    },
    {
     "name": "stdout",
     "output_type": "stream",
     "text": [
      "No Mask\n",
      "No Mask\n",
      "No Mask\n",
      "No Mask\n",
      "No Mask\n",
      "No Mask\n"
     ]
    },
    {
     "name": "stderr",
     "output_type": "stream",
     "text": [
      "0: 480x640 (no detections), 9.0ms\n",
      "Speed: 2.0ms preprocess, 9.0ms inference, 0.0ms postprocess per image at shape (1, 3, 480, 640)\n",
      "\n",
      "0: 480x640 (no detections), 8.0ms\n",
      "Speed: 2.0ms preprocess, 8.0ms inference, 1.0ms postprocess per image at shape (1, 3, 480, 640)\n",
      "\n",
      "0: 480x640 1 cube, 9.0ms\n",
      "Speed: 2.0ms preprocess, 9.0ms inference, 4.0ms postprocess per image at shape (1, 3, 480, 640)\n",
      "\n",
      "0: 480x640 1 cube, 8.0ms\n",
      "Speed: 2.0ms preprocess, 8.0ms inference, 2.0ms postprocess per image at shape (1, 3, 480, 640)\n",
      "\n",
      "0: 480x640 1 cube, 8.0ms\n",
      "Speed: 2.0ms preprocess, 8.0ms inference, 4.0ms postprocess per image at shape (1, 3, 480, 640)\n"
     ]
    },
    {
     "name": "stdout",
     "output_type": "stream",
     "text": [
      "No Mask\n",
      "No Mask\n",
      "box not found\n",
      "總執行時間：0.031001 秒 ####################\n",
      "box not found\n",
      "總執行時間：0.032001 秒 ####################\n"
     ]
    },
    {
     "name": "stderr",
     "output_type": "stream",
     "text": [
      "C:\\Users\\user\\AppData\\Local\\Temp\\ipykernel_22960\\3288770374.py:86: DeprecationWarning: `np.int0` is a deprecated alias for `np.intp`.  (Deprecated NumPy 1.24)\n",
      "  return np.int0(merged_points)\n",
      "\n",
      "0: 480x640 1 cube, 9.0ms\n",
      "Speed: 2.0ms preprocess, 9.0ms inference, 2.0ms postprocess per image at shape (1, 3, 480, 640)\n",
      "\n",
      "0: 480x640 (no detections), 10.0ms\n",
      "Speed: 1.0ms preprocess, 10.0ms inference, 0.0ms postprocess per image at shape (1, 3, 480, 640)\n",
      "\n",
      "0: 480x640 (no detections), 8.0ms\n",
      "Speed: 2.0ms preprocess, 8.0ms inference, 1.0ms postprocess per image at shape (1, 3, 480, 640)\n",
      "\n",
      "0: 480x640 (no detections), 8.0ms\n",
      "Speed: 2.0ms preprocess, 8.0ms inference, 1.0ms postprocess per image at shape (1, 3, 480, 640)\n"
     ]
    },
    {
     "name": "stdout",
     "output_type": "stream",
     "text": [
      "總執行時間：0.063999 秒 ####################\n",
      "總執行時間：0.070999 秒 ####################\n",
      "No Mask\n",
      "No Mask\n",
      "No Mask\n"
     ]
    },
    {
     "name": "stderr",
     "output_type": "stream",
     "text": [
      "\n",
      "0: 480x640 1 cube, 8.0ms\n",
      "Speed: 2.0ms preprocess, 8.0ms inference, 3.0ms postprocess per image at shape (1, 3, 480, 640)\n",
      "\n",
      "0: 480x640 1 cube, 8.0ms\n",
      "Speed: 2.0ms preprocess, 8.0ms inference, 3.0ms postprocess per image at shape (1, 3, 480, 640)\n",
      "\n",
      "0: 480x640 (no detections), 9.0ms\n",
      "Speed: 2.0ms preprocess, 9.0ms inference, 0.0ms postprocess per image at shape (1, 3, 480, 640)\n",
      "\n",
      "0: 480x640 (no detections), 7.0ms\n",
      "Speed: 2.0ms preprocess, 7.0ms inference, 1.0ms postprocess per image at shape (1, 3, 480, 640)\n",
      "\n",
      "0: 480x640 1 cube, 9.0ms\n",
      "Speed: 2.0ms preprocess, 9.0ms inference, 2.0ms postprocess per image at shape (1, 3, 480, 640)\n",
      "\n",
      "0: 480x640 1 cube, 9.5ms\n",
      "Speed: 1.5ms preprocess, 9.5ms inference, 2.0ms postprocess per image at shape (1, 3, 480, 640)\n"
     ]
    },
    {
     "name": "stdout",
     "output_type": "stream",
     "text": [
      "box not found\n",
      "總執行時間：0.033002 秒 ####################\n",
      "box not found\n",
      "總執行時間：0.028998 秒 ####################\n",
      "No Mask\n",
      "No Mask\n",
      "box not found\n",
      "總執行時間：0.030041 秒 ####################\n",
      "box not found\n",
      "總執行時間：0.031024 秒 ####################\n"
     ]
    },
    {
     "name": "stderr",
     "output_type": "stream",
     "text": [
      "\n",
      "0: 480x640 1 cube, 8.0ms\n",
      "Speed: 2.0ms preprocess, 8.0ms inference, 3.0ms postprocess per image at shape (1, 3, 480, 640)\n",
      "\n",
      "0: 480x640 1 cube, 8.0ms\n",
      "Speed: 2.0ms preprocess, 8.0ms inference, 3.0ms postprocess per image at shape (1, 3, 480, 640)\n",
      "\n",
      "0: 480x640 (no detections), 8.0ms\n",
      "Speed: 2.0ms preprocess, 8.0ms inference, 1.0ms postprocess per image at shape (1, 3, 480, 640)\n",
      "\n",
      "0: 480x640 (no detections), 9.0ms\n",
      "Speed: 2.0ms preprocess, 9.0ms inference, 1.0ms postprocess per image at shape (1, 3, 480, 640)\n",
      "\n",
      "0: 480x640 (no detections), 8.0ms\n",
      "Speed: 2.0ms preprocess, 8.0ms inference, 1.0ms postprocess per image at shape (1, 3, 480, 640)\n"
     ]
    },
    {
     "name": "stdout",
     "output_type": "stream",
     "text": [
      "box not found\n",
      "總執行時間：0.031000 秒 ####################\n",
      "box not found\n",
      "總執行時間：0.026998 秒 ####################\n",
      "No Mask\n",
      "No Mask\n",
      "No Mask\n"
     ]
    },
    {
     "name": "stderr",
     "output_type": "stream",
     "text": [
      "\n",
      "0: 480x640 (no detections), 9.0ms\n",
      "Speed: 2.0ms preprocess, 9.0ms inference, 1.0ms postprocess per image at shape (1, 3, 480, 640)\n",
      "\n",
      "0: 480x640 (no detections), 8.0ms\n",
      "Speed: 2.0ms preprocess, 8.0ms inference, 1.0ms postprocess per image at shape (1, 3, 480, 640)\n",
      "\n",
      "0: 480x640 1 cube, 8.0ms\n",
      "Speed: 2.0ms preprocess, 8.0ms inference, 3.0ms postprocess per image at shape (1, 3, 480, 640)\n",
      "\n",
      "0: 480x640 1 cube, 9.0ms\n",
      "Speed: 1.0ms preprocess, 9.0ms inference, 3.0ms postprocess per image at shape (1, 3, 480, 640)\n",
      "\n",
      "0: 480x640 (no detections), 8.0ms\n",
      "Speed: 2.0ms preprocess, 8.0ms inference, 0.0ms postprocess per image at shape (1, 3, 480, 640)\n",
      "\n",
      "0: 480x640 (no detections), 9.0ms\n",
      "Speed: 2.0ms preprocess, 9.0ms inference, 1.0ms postprocess per image at shape (1, 3, 480, 640)\n",
      "\n"
     ]
    },
    {
     "name": "stdout",
     "output_type": "stream",
     "text": [
      "No Mask\n",
      "No Mask\n",
      "box not found\n",
      "總執行時間：0.028997 秒 ####################\n",
      "box not found\n",
      "總執行時間：0.031030 秒 ####################\n",
      "No Mask\n",
      "No Mask\n"
     ]
    },
    {
     "name": "stderr",
     "output_type": "stream",
     "text": [
      "0: 480x640 1 cube, 8.0ms\n",
      "Speed: 3.0ms preprocess, 8.0ms inference, 2.0ms postprocess per image at shape (1, 3, 480, 640)\n",
      "\n",
      "0: 480x640 1 cube, 8.0ms\n",
      "Speed: 2.0ms preprocess, 8.0ms inference, 2.0ms postprocess per image at shape (1, 3, 480, 640)\n",
      "\n",
      "0: 480x640 (no detections), 9.0ms\n",
      "Speed: 2.0ms preprocess, 9.0ms inference, 0.0ms postprocess per image at shape (1, 3, 480, 640)\n",
      "\n",
      "0: 480x640 (no detections), 8.0ms\n",
      "Speed: 2.0ms preprocess, 8.0ms inference, 1.0ms postprocess per image at shape (1, 3, 480, 640)\n",
      "\n",
      "0: 480x640 (no detections), 9.0ms\n",
      "Speed: 2.0ms preprocess, 9.0ms inference, 1.0ms postprocess per image at shape (1, 3, 480, 640)\n",
      "\n",
      "0: 480x640 (no detections), 8.0ms\n",
      "Speed: 2.0ms preprocess, 8.0ms inference, 1.0ms postprocess per image at shape (1, 3, 480, 640)\n"
     ]
    },
    {
     "name": "stdout",
     "output_type": "stream",
     "text": [
      "box not found\n",
      "總執行時間：0.032003 秒 ####################\n",
      "box not found\n",
      "總執行時間：0.066997 秒 ####################\n",
      "No Mask\n",
      "No Mask\n",
      "No Mask\n",
      "No Mask\n"
     ]
    },
    {
     "name": "stderr",
     "output_type": "stream",
     "text": [
      "\n",
      "0: 480x640 1 cube, 8.0ms\n",
      "Speed: 2.0ms preprocess, 8.0ms inference, 3.0ms postprocess per image at shape (1, 3, 480, 640)\n",
      "\n",
      "0: 480x640 1 cube, 8.0ms\n",
      "Speed: 1.5ms preprocess, 8.0ms inference, 3.0ms postprocess per image at shape (1, 3, 480, 640)\n",
      "\n",
      "0: 480x640 (no detections), 8.0ms\n",
      "Speed: 2.0ms preprocess, 8.0ms inference, 1.0ms postprocess per image at shape (1, 3, 480, 640)\n",
      "\n",
      "0: 480x640 (no detections), 10.0ms\n",
      "Speed: 2.0ms preprocess, 10.0ms inference, 1.0ms postprocess per image at shape (1, 3, 480, 640)\n",
      "\n",
      "0: 480x640 1 cube, 8.0ms\n",
      "Speed: 2.0ms preprocess, 8.0ms inference, 3.0ms postprocess per image at shape (1, 3, 480, 640)\n",
      "\n"
     ]
    },
    {
     "name": "stdout",
     "output_type": "stream",
     "text": [
      "box not found\n",
      "總執行時間：0.031002 秒 ####################\n",
      "box not found\n",
      "總執行時間：0.034034 秒 ####################\n",
      "No Mask\n",
      "No Mask\n",
      "box not found\n",
      "總執行時間：0.032018 秒 ####################\n"
     ]
    },
    {
     "name": "stderr",
     "output_type": "stream",
     "text": [
      "0: 480x640 1 cube, 8.0ms\n",
      "Speed: 2.0ms preprocess, 8.0ms inference, 3.0ms postprocess per image at shape (1, 3, 480, 640)\n",
      "\n",
      "0: 480x640 (no detections), 9.0ms\n",
      "Speed: 2.0ms preprocess, 9.0ms inference, 1.0ms postprocess per image at shape (1, 3, 480, 640)\n",
      "\n",
      "0: 480x640 (no detections), 9.0ms\n",
      "Speed: 2.0ms preprocess, 9.0ms inference, 0.0ms postprocess per image at shape (1, 3, 480, 640)\n",
      "\n",
      "0: 480x640 (no detections), 8.0ms\n",
      "Speed: 2.0ms preprocess, 8.0ms inference, 1.0ms postprocess per image at shape (1, 3, 480, 640)\n",
      "\n",
      "0: 480x640 (no detections), 9.0ms\n",
      "Speed: 2.0ms preprocess, 9.0ms inference, 1.0ms postprocess per image at shape (1, 3, 480, 640)\n",
      "\n"
     ]
    },
    {
     "name": "stdout",
     "output_type": "stream",
     "text": [
      "box not found\n",
      "總執行時間：0.034999 秒 ####################\n",
      "No Mask\n",
      "No Mask\n",
      "No Mask\n",
      "No Mask\n"
     ]
    },
    {
     "name": "stderr",
     "output_type": "stream",
     "text": [
      "0: 480x640 (no detections), 9.0ms\n",
      "Speed: 2.0ms preprocess, 9.0ms inference, 0.0ms postprocess per image at shape (1, 3, 480, 640)\n",
      "\n",
      "0: 480x640 1 cube, 9.0ms\n",
      "Speed: 2.0ms preprocess, 9.0ms inference, 5.0ms postprocess per image at shape (1, 3, 480, 640)\n",
      "\n",
      "0: 480x640 1 cube, 9.0ms\n",
      "Speed: 2.0ms preprocess, 9.0ms inference, 2.0ms postprocess per image at shape (1, 3, 480, 640)\n",
      "\n",
      "0: 480x640 (no detections), 8.0ms\n",
      "Speed: 2.5ms preprocess, 8.0ms inference, 1.0ms postprocess per image at shape (1, 3, 480, 640)\n",
      "\n",
      "0: 480x640 (no detections), 8.0ms\n",
      "Speed: 2.0ms preprocess, 8.0ms inference, 1.0ms postprocess per image at shape (1, 3, 480, 640)\n",
      "\n",
      "0: 480x640 (no detections), 9.0ms\n"
     ]
    },
    {
     "name": "stdout",
     "output_type": "stream",
     "text": [
      "No Mask\n",
      "box not found\n",
      "總執行時間：0.034001 秒 ####################\n",
      "box not found\n",
      "總執行時間：0.031506 秒 ####################\n",
      "No Mask\n",
      "No Mask\n"
     ]
    },
    {
     "name": "stderr",
     "output_type": "stream",
     "text": [
      "Speed: 2.0ms preprocess, 9.0ms inference, 1.0ms postprocess per image at shape (1, 3, 480, 640)\n",
      "\n",
      "0: 480x640 (no detections), 9.0ms\n",
      "Speed: 2.0ms preprocess, 9.0ms inference, 1.0ms postprocess per image at shape (1, 3, 480, 640)\n",
      "\n",
      "0: 480x640 (no detections), 9.0ms\n",
      "Speed: 2.0ms preprocess, 9.0ms inference, 1.0ms postprocess per image at shape (1, 3, 480, 640)\n",
      "\n",
      "0: 480x640 (no detections), 9.0ms\n",
      "Speed: 2.0ms preprocess, 9.0ms inference, 1.0ms postprocess per image at shape (1, 3, 480, 640)\n",
      "\n",
      "0: 480x640 1 cube, 8.0ms\n",
      "Speed: 2.0ms preprocess, 8.0ms inference, 2.0ms postprocess per image at shape (1, 3, 480, 640)\n",
      "\n",
      "0: 480x640 1 cube, 10.0ms\n",
      "Speed: 2.0ms preprocess, 10.0ms inference, 2.0ms postprocess per image at shape (1, 3, 480, 640)\n",
      "\n"
     ]
    },
    {
     "name": "stdout",
     "output_type": "stream",
     "text": [
      "No Mask\n",
      "No Mask\n",
      "No Mask\n",
      "No Mask\n",
      "box not found\n",
      "總執行時間：0.033000 秒 ####################\n",
      "box not found\n",
      "總執行時間：0.031123 秒 ####################\n"
     ]
    },
    {
     "name": "stderr",
     "output_type": "stream",
     "text": [
      "0: 480x640 (no detections), 8.0ms\n",
      "Speed: 2.0ms preprocess, 8.0ms inference, 1.0ms postprocess per image at shape (1, 3, 480, 640)\n",
      "\n",
      "0: 480x640 (no detections), 8.0ms\n",
      "Speed: 2.0ms preprocess, 8.0ms inference, 1.0ms postprocess per image at shape (1, 3, 480, 640)\n",
      "\n",
      "0: 480x640 1 cube, 8.7ms\n",
      "Speed: 2.0ms preprocess, 8.7ms inference, 2.0ms postprocess per image at shape (1, 3, 480, 640)\n",
      "\n",
      "0: 480x640 1 cube, 8.0ms\n",
      "Speed: 2.0ms preprocess, 8.0ms inference, 3.0ms postprocess per image at shape (1, 3, 480, 640)\n",
      "\n",
      "0: 480x640 1 cube, 8.0ms\n",
      "Speed: 2.0ms preprocess, 8.0ms inference, 3.0ms postprocess per image at shape (1, 3, 480, 640)\n",
      "\n"
     ]
    },
    {
     "name": "stdout",
     "output_type": "stream",
     "text": [
      "No Mask\n",
      "No Mask\n",
      "box not found\n",
      "總執行時間：0.028756 秒 ####################\n",
      "box not found\n",
      "總執行時間：0.032999 秒 ####################\n",
      "box not found\n",
      "總執行時間：0.031001 秒 ####################\n"
     ]
    },
    {
     "name": "stderr",
     "output_type": "stream",
     "text": [
      "0: 480x640 1 cube, 9.0ms\n",
      "Speed: 2.0ms preprocess, 9.0ms inference, 2.0ms postprocess per image at shape (1, 3, 480, 640)\n",
      "\n",
      "0: 480x640 (no detections), 8.0ms\n",
      "Speed: 2.0ms preprocess, 8.0ms inference, 1.0ms postprocess per image at shape (1, 3, 480, 640)\n",
      "\n",
      "0: 480x640 (no detections), 8.0ms\n",
      "Speed: 2.0ms preprocess, 8.0ms inference, 1.0ms postprocess per image at shape (1, 3, 480, 640)\n",
      "\n",
      "0: 480x640 (no detections), 9.0ms\n",
      "Speed: 2.0ms preprocess, 9.0ms inference, 1.0ms postprocess per image at shape (1, 3, 480, 640)\n",
      "\n",
      "0: 480x640 (no detections), 8.0ms\n",
      "Speed: 2.0ms preprocess, 8.0ms inference, 1.0ms postprocess per image at shape (1, 3, 480, 640)\n",
      "\n",
      "0: 480x640 (no detections), 9.0ms\n",
      "Speed: 2.0ms preprocess, 9.0ms inference, 0.0ms postprocess per image at shape (1, 3, 480, 640)\n",
      "\n",
      "0: 480x640 (no detections), 9.0ms\n",
      "Speed: 2.0ms preprocess, 9.0ms inference, 1.0ms postprocess per image at shape (1, 3, 480, 640)\n",
      "\n"
     ]
    },
    {
     "name": "stdout",
     "output_type": "stream",
     "text": [
      "box not found\n",
      "總執行時間：0.030001 秒 ####################\n",
      "No Mask\n",
      "No Mask\n",
      "No Mask\n",
      "No Mask\n",
      "No Mask\n",
      "No Mask\n"
     ]
    },
    {
     "name": "stderr",
     "output_type": "stream",
     "text": [
      "0: 480x640 1 cube, 9.0ms\n",
      "Speed: 2.0ms preprocess, 9.0ms inference, 3.0ms postprocess per image at shape (1, 3, 480, 640)\n",
      "\n",
      "0: 480x640 1 cube, 8.0ms\n",
      "Speed: 2.0ms preprocess, 8.0ms inference, 3.0ms postprocess per image at shape (1, 3, 480, 640)\n",
      "\n",
      "0: 480x640 2 cubes, 8.0ms\n",
      "Speed: 2.0ms preprocess, 8.0ms inference, 3.0ms postprocess per image at shape (1, 3, 480, 640)\n",
      "\n"
     ]
    },
    {
     "name": "stdout",
     "output_type": "stream",
     "text": [
      "box not found\n",
      "總執行時間：0.030000 秒 ####################\n",
      "box not found\n",
      "總執行時間：0.061000 秒 ####################\n",
      "box not found\n",
      "box not found\n",
      "總執行時間：0.032999 秒 ####################\n"
     ]
    },
    {
     "name": "stderr",
     "output_type": "stream",
     "text": [
      "0: 480x640 1 cube, 8.0ms\n",
      "Speed: 2.0ms preprocess, 8.0ms inference, 2.0ms postprocess per image at shape (1, 3, 480, 640)\n",
      "\n",
      "0: 480x640 1 cube, 8.0ms\n",
      "Speed: 2.0ms preprocess, 8.0ms inference, 3.0ms postprocess per image at shape (1, 3, 480, 640)\n",
      "\n",
      "0: 480x640 (no detections), 9.0ms\n",
      "Speed: 2.0ms preprocess, 9.0ms inference, 0.0ms postprocess per image at shape (1, 3, 480, 640)\n",
      "\n",
      "0: 480x640 (no detections), 8.0ms\n",
      "Speed: 2.0ms preprocess, 8.0ms inference, 1.0ms postprocess per image at shape (1, 3, 480, 640)\n",
      "\n",
      "0: 480x640 1 cube, 9.0ms\n",
      "Speed: 2.0ms preprocess, 9.0ms inference, 2.0ms postprocess per image at shape (1, 3, 480, 640)\n",
      "\n",
      "0: 480x640 1 cube, 9.0ms\n",
      "Speed: 2.0ms preprocess, 9.0ms inference, 3.0ms postprocess per image at shape (1, 3, 480, 640)\n"
     ]
    },
    {
     "name": "stdout",
     "output_type": "stream",
     "text": [
      "box not found\n",
      "總執行時間：0.031001 秒 ####################\n",
      "box not found\n",
      "總執行時間：0.029001 秒 ####################\n",
      "No Mask\n",
      "No Mask\n",
      "box not found\n",
      "總執行時間：0.034001 秒 ####################\n",
      "box not found\n",
      "總執行時間：0.031999 秒 ####################\n"
     ]
    },
    {
     "name": "stderr",
     "output_type": "stream",
     "text": [
      "\n",
      "0: 480x640 (no detections), 8.0ms\n",
      "Speed: 2.0ms preprocess, 8.0ms inference, 1.0ms postprocess per image at shape (1, 3, 480, 640)\n",
      "\n",
      "0: 480x640 (no detections), 9.0ms\n",
      "Speed: 2.0ms preprocess, 9.0ms inference, 1.0ms postprocess per image at shape (1, 3, 480, 640)\n",
      "\n",
      "0: 480x640 (no detections), 8.0ms\n",
      "Speed: 3.0ms preprocess, 8.0ms inference, 1.0ms postprocess per image at shape (1, 3, 480, 640)\n",
      "\n",
      "0: 480x640 (no detections), 9.0ms\n",
      "Speed: 2.0ms preprocess, 9.0ms inference, 1.0ms postprocess per image at shape (1, 3, 480, 640)\n",
      "\n",
      "0: 480x640 (no detections), 8.5ms\n",
      "Speed: 2.0ms preprocess, 8.5ms inference, 1.0ms postprocess per image at shape (1, 3, 480, 640)\n",
      "\n",
      "0: 480x640 (no detections), 8.0ms\n",
      "Speed: 2.0ms preprocess, 8.0ms inference, 1.0ms postprocess per image at shape (1, 3, 480, 640)\n",
      "\n",
      "0: 480x640 (no detections), 8.5ms\n",
      "Speed: 2.0ms preprocess, 8.5ms inference, 1.0ms postprocess per image at shape (1, 3, 480, 640)\n",
      "\n",
      "0: 480x640 (no detections), 9.0ms\n"
     ]
    },
    {
     "name": "stdout",
     "output_type": "stream",
     "text": [
      "No Mask\n",
      "No Mask\n",
      "No Mask\n",
      "No Mask\n",
      "No Mask\n",
      "No Mask\n",
      "No Mask\n"
     ]
    },
    {
     "name": "stderr",
     "output_type": "stream",
     "text": [
      "Speed: 2.0ms preprocess, 9.0ms inference, 0.0ms postprocess per image at shape (1, 3, 480, 640)\n",
      "\n",
      "0: 480x640 1 cube, 9.0ms\n",
      "Speed: 2.0ms preprocess, 9.0ms inference, 2.0ms postprocess per image at shape (1, 3, 480, 640)\n",
      "\n",
      "0: 480x640 1 cube, 9.0ms\n",
      "Speed: 2.0ms preprocess, 9.0ms inference, 2.0ms postprocess per image at shape (1, 3, 480, 640)\n",
      "\n",
      "0: 480x640 (no detections), 8.0ms\n",
      "Speed: 2.0ms preprocess, 8.0ms inference, 1.0ms postprocess per image at shape (1, 3, 480, 640)\n",
      "\n",
      "0: 480x640 (no detections), 7.0ms\n",
      "Speed: 2.0ms preprocess, 7.0ms inference, 1.0ms postprocess per image at shape (1, 3, 480, 640)\n",
      "\n"
     ]
    },
    {
     "name": "stdout",
     "output_type": "stream",
     "text": [
      "No Mask\n",
      "box not found\n",
      "總執行時間：0.029001 秒 ####################\n",
      "box not found\n",
      "總執行時間：0.031001 秒 ####################\n",
      "No Mask\n",
      "No Mask\n"
     ]
    },
    {
     "name": "stderr",
     "output_type": "stream",
     "text": [
      "0: 480x640 (no detections), 8.5ms\n",
      "Speed: 2.0ms preprocess, 8.5ms inference, 1.0ms postprocess per image at shape (1, 3, 480, 640)\n",
      "\n",
      "0: 480x640 (no detections), 8.0ms\n",
      "Speed: 2.0ms preprocess, 8.0ms inference, 1.0ms postprocess per image at shape (1, 3, 480, 640)\n",
      "\n",
      "0: 480x640 (no detections), 9.0ms\n",
      "Speed: 2.0ms preprocess, 9.0ms inference, 1.0ms postprocess per image at shape (1, 3, 480, 640)\n",
      "\n",
      "0: 480x640 (no detections), 9.0ms\n",
      "Speed: 2.0ms preprocess, 9.0ms inference, 0.0ms postprocess per image at shape (1, 3, 480, 640)\n",
      "\n",
      "0: 480x640 (no detections), 7.0ms\n",
      "Speed: 2.0ms preprocess, 7.0ms inference, 1.0ms postprocess per image at shape (1, 3, 480, 640)\n",
      "\n",
      "0: 480x640 (no detections), 9.0ms\n",
      "Speed: 2.0ms preprocess, 9.0ms inference, 0.0ms postprocess per image at shape (1, 3, 480, 640)\n",
      "\n",
      "0: 480x640 (no detections), 8.0ms\n"
     ]
    },
    {
     "name": "stdout",
     "output_type": "stream",
     "text": [
      "No Mask\n",
      "No Mask\n",
      "No Mask\n",
      "No Mask\n",
      "No Mask\n",
      "No Mask\n"
     ]
    },
    {
     "name": "stderr",
     "output_type": "stream",
     "text": [
      "Speed: 2.0ms preprocess, 8.0ms inference, 1.0ms postprocess per image at shape (1, 3, 480, 640)\n",
      "\n",
      "0: 480x640 (no detections), 8.0ms\n",
      "Speed: 2.0ms preprocess, 8.0ms inference, 1.0ms postprocess per image at shape (1, 3, 480, 640)\n",
      "\n",
      "0: 480x640 (no detections), 9.0ms\n",
      "Speed: 2.0ms preprocess, 9.0ms inference, 0.0ms postprocess per image at shape (1, 3, 480, 640)\n",
      "\n",
      "0: 480x640 (no detections), 8.0ms\n",
      "Speed: 2.0ms preprocess, 8.0ms inference, 0.0ms postprocess per image at shape (1, 3, 480, 640)\n",
      "\n",
      "0: 480x640 (no detections), 9.0ms\n",
      "Speed: 2.0ms preprocess, 9.0ms inference, 1.0ms postprocess per image at shape (1, 3, 480, 640)\n",
      "\n",
      "0: 480x640 (no detections), 8.0ms\n",
      "Speed: 2.0ms preprocess, 8.0ms inference, 1.0ms postprocess per image at shape (1, 3, 480, 640)\n",
      "\n"
     ]
    },
    {
     "name": "stdout",
     "output_type": "stream",
     "text": [
      "No Mask\n",
      "No Mask\n",
      "No Mask\n",
      "No Mask\n",
      "No Mask\n",
      "No Mask\n"
     ]
    },
    {
     "name": "stderr",
     "output_type": "stream",
     "text": [
      "0: 480x640 1 cube, 8.0ms\n",
      "Speed: 2.0ms preprocess, 8.0ms inference, 3.0ms postprocess per image at shape (1, 3, 480, 640)\n",
      "\n",
      "0: 480x640 1 cube, 9.0ms\n",
      "Speed: 2.0ms preprocess, 9.0ms inference, 3.0ms postprocess per image at shape (1, 3, 480, 640)\n",
      "\n",
      "0: 480x640 1 cube, 8.0ms\n",
      "Speed: 2.0ms preprocess, 8.0ms inference, 2.0ms postprocess per image at shape (1, 3, 480, 640)\n",
      "\n",
      "0: 480x640 1 cube, 8.0ms\n",
      "Speed: 2.0ms preprocess, 8.0ms inference, 3.0ms postprocess per image at shape (1, 3, 480, 640)\n"
     ]
    },
    {
     "name": "stdout",
     "output_type": "stream",
     "text": [
      "box not found\n",
      "總執行時間：0.081002 秒 ####################\n",
      "box not found\n",
      "總執行時間：0.032999 秒 ####################\n",
      "box not found\n",
      "總執行時間：0.031999 秒 ####################\n",
      "box not found\n",
      "總執行時間：0.031000 秒 ####################\n"
     ]
    },
    {
     "name": "stderr",
     "output_type": "stream",
     "text": [
      "\n",
      "0: 480x640 1 cube, 9.0ms\n",
      "Speed: 2.0ms preprocess, 9.0ms inference, 2.0ms postprocess per image at shape (1, 3, 480, 640)\n",
      "\n",
      "0: 480x640 1 cube, 8.0ms\n",
      "Speed: 2.0ms preprocess, 8.0ms inference, 3.0ms postprocess per image at shape (1, 3, 480, 640)\n",
      "\n",
      "0: 480x640 1 cube, 9.0ms\n",
      "Speed: 2.0ms preprocess, 9.0ms inference, 3.0ms postprocess per image at shape (1, 3, 480, 640)\n",
      "\n",
      "0: 480x640 (no detections), 8.5ms\n",
      "Speed: 2.0ms preprocess, 8.5ms inference, 0.5ms postprocess per image at shape (1, 3, 480, 640)\n",
      "\n"
     ]
    },
    {
     "name": "stdout",
     "output_type": "stream",
     "text": [
      "box not found\n",
      "總執行時間：0.034001 秒 ####################\n",
      "box not found\n",
      "總執行時間：0.069055 秒 ####################\n",
      "box not found\n",
      "總執行時間：0.032025 秒 ####################\n",
      "No Mask\n"
     ]
    },
    {
     "name": "stderr",
     "output_type": "stream",
     "text": [
      "0: 480x640 (no detections), 7.0ms\n",
      "Speed: 2.0ms preprocess, 7.0ms inference, 1.0ms postprocess per image at shape (1, 3, 480, 640)\n",
      "\n",
      "0: 480x640 (no detections), 8.5ms\n",
      "Speed: 2.0ms preprocess, 8.5ms inference, 1.0ms postprocess per image at shape (1, 3, 480, 640)\n",
      "\n",
      "0: 480x640 (no detections), 8.0ms\n",
      "Speed: 2.0ms preprocess, 8.0ms inference, 1.0ms postprocess per image at shape (1, 3, 480, 640)\n",
      "\n",
      "0: 480x640 (no detections), 9.0ms\n",
      "Speed: 2.0ms preprocess, 9.0ms inference, 1.0ms postprocess per image at shape (1, 3, 480, 640)\n",
      "\n",
      "0: 480x640 1 cube, 9.5ms\n",
      "Speed: 2.0ms preprocess, 9.5ms inference, 3.0ms postprocess per image at shape (1, 3, 480, 640)\n",
      "\n",
      "0: 480x640 1 cube, 8.0ms\n"
     ]
    },
    {
     "name": "stdout",
     "output_type": "stream",
     "text": [
      "No Mask\n",
      "No Mask\n",
      "No Mask\n",
      "No Mask\n",
      "box not found\n",
      "總執行時間：0.031024 秒 ####################\n"
     ]
    },
    {
     "name": "stderr",
     "output_type": "stream",
     "text": [
      "Speed: 2.0ms preprocess, 8.0ms inference, 2.0ms postprocess per image at shape (1, 3, 480, 640)\n",
      "\n",
      "0: 480x640 (no detections), 9.0ms\n",
      "Speed: 2.0ms preprocess, 9.0ms inference, 1.0ms postprocess per image at shape (1, 3, 480, 640)\n",
      "\n",
      "0: 480x640 (no detections), 9.0ms\n",
      "Speed: 2.0ms preprocess, 9.0ms inference, 1.0ms postprocess per image at shape (1, 3, 480, 640)\n",
      "\n",
      "0: 480x640 (no detections), 8.0ms\n",
      "Speed: 2.0ms preprocess, 8.0ms inference, 0.0ms postprocess per image at shape (1, 3, 480, 640)\n",
      "\n",
      "0: 480x640 (no detections), 8.0ms\n",
      "Speed: 2.0ms preprocess, 8.0ms inference, 1.0ms postprocess per image at shape (1, 3, 480, 640)\n",
      "\n",
      "0: 480x640 (no detections), 8.0ms\n",
      "Speed: 2.0ms preprocess, 8.0ms inference, 1.0ms postprocess per image at shape (1, 3, 480, 640)\n",
      "\n",
      "0: 480x640 (no detections), 8.0ms\n",
      "Speed: 2.0ms preprocess, 8.0ms inference, 1.0ms postprocess per image at shape (1, 3, 480, 640)\n",
      "\n"
     ]
    },
    {
     "name": "stdout",
     "output_type": "stream",
     "text": [
      "box not found\n",
      "總執行時間：0.033001 秒 ####################\n",
      "No Mask\n",
      "No Mask\n",
      "No Mask\n",
      "No Mask\n",
      "No Mask\n",
      "No Mask\n"
     ]
    },
    {
     "name": "stderr",
     "output_type": "stream",
     "text": [
      "0: 480x640 1 cube, 7.0ms\n",
      "Speed: 2.0ms preprocess, 7.0ms inference, 3.0ms postprocess per image at shape (1, 3, 480, 640)\n",
      "\n",
      "0: 480x640 1 cube, 9.0ms\n",
      "Speed: 2.0ms preprocess, 9.0ms inference, 3.0ms postprocess per image at shape (1, 3, 480, 640)\n",
      "\n",
      "0: 480x640 1 cube, 9.0ms\n",
      "Speed: 2.0ms preprocess, 9.0ms inference, 2.5ms postprocess per image at shape (1, 3, 480, 640)\n",
      "\n",
      "0: 480x640 1 cube, 8.0ms\n",
      "Speed: 2.0ms preprocess, 8.0ms inference, 3.0ms postprocess per image at shape (1, 3, 480, 640)\n",
      "\n",
      "0: 480x640 (no detections), 8.0ms\n"
     ]
    },
    {
     "name": "stdout",
     "output_type": "stream",
     "text": [
      "box not found\n",
      "總執行時間：0.028512 秒 ####################\n",
      "box not found\n",
      "總執行時間：0.030999 秒 ####################\n",
      "box not found\n",
      "總執行時間：0.030027 秒 ####################\n",
      "box not found\n",
      "總執行時間：0.028997 秒 ####################\n"
     ]
    },
    {
     "name": "stderr",
     "output_type": "stream",
     "text": [
      "Speed: 2.0ms preprocess, 8.0ms inference, 1.0ms postprocess per image at shape (1, 3, 480, 640)\n",
      "\n",
      "0: 480x640 (no detections), 9.5ms\n",
      "Speed: 2.0ms preprocess, 9.5ms inference, 1.0ms postprocess per image at shape (1, 3, 480, 640)\n",
      "\n",
      "0: 480x640 (no detections), 9.0ms\n",
      "Speed: 2.0ms preprocess, 9.0ms inference, 0.0ms postprocess per image at shape (1, 3, 480, 640)\n",
      "\n",
      "0: 480x640 (no detections), 9.0ms\n",
      "Speed: 2.0ms preprocess, 9.0ms inference, 1.0ms postprocess per image at shape (1, 3, 480, 640)\n",
      "\n",
      "0: 480x640 (no detections), 7.0ms\n",
      "Speed: 2.0ms preprocess, 7.0ms inference, 1.0ms postprocess per image at shape (1, 3, 480, 640)\n",
      "\n",
      "0: 480x640 (no detections), 9.0ms\n",
      "Speed: 2.0ms preprocess, 9.0ms inference, 1.0ms postprocess per image at shape (1, 3, 480, 640)\n",
      "\n",
      "0: 480x640 1 cube, 8.0ms\n",
      "Speed: 2.0ms preprocess, 8.0ms inference, 3.0ms postprocess per image at shape (1, 3, 480, 640)\n",
      "\n"
     ]
    },
    {
     "name": "stdout",
     "output_type": "stream",
     "text": [
      "No Mask\n",
      "No Mask\n",
      "No Mask\n",
      "No Mask\n",
      "No Mask\n",
      "No Mask\n",
      "box not found\n",
      "總執行時間：0.036030 秒 ####################\n"
     ]
    },
    {
     "name": "stderr",
     "output_type": "stream",
     "text": [
      "0: 480x640 1 cube, 9.0ms\n",
      "Speed: 2.0ms preprocess, 9.0ms inference, 3.0ms postprocess per image at shape (1, 3, 480, 640)\n",
      "\n",
      "0: 480x640 (no detections), 8.0ms\n",
      "Speed: 2.0ms preprocess, 8.0ms inference, 1.0ms postprocess per image at shape (1, 3, 480, 640)\n",
      "\n",
      "0: 480x640 (no detections), 8.0ms\n",
      "Speed: 2.0ms preprocess, 8.0ms inference, 1.0ms postprocess per image at shape (1, 3, 480, 640)\n",
      "\n",
      "0: 480x640 1 cube, 8.0ms\n",
      "Speed: 2.0ms preprocess, 8.0ms inference, 3.0ms postprocess per image at shape (1, 3, 480, 640)\n",
      "\n",
      "0: 480x640 1 cube, 9.0ms\n",
      "Speed: 2.0ms preprocess, 9.0ms inference, 3.0ms postprocess per image at shape (1, 3, 480, 640)\n",
      "\n"
     ]
    },
    {
     "name": "stdout",
     "output_type": "stream",
     "text": [
      "box not found\n",
      "總執行時間：0.036027 秒 ####################\n",
      "No Mask\n",
      "No Mask\n",
      "box not found\n",
      "總執行時間：0.031509 秒 ####################\n",
      "box not found\n",
      "總執行時間：0.029679 秒 ####################\n"
     ]
    },
    {
     "name": "stderr",
     "output_type": "stream",
     "text": [
      "0: 480x640 1 cube, 9.0ms\n",
      "Speed: 2.0ms preprocess, 9.0ms inference, 2.0ms postprocess per image at shape (1, 3, 480, 640)\n",
      "\n",
      "0: 480x640 (no detections), 9.0ms\n",
      "Speed: 2.0ms preprocess, 9.0ms inference, 0.0ms postprocess per image at shape (1, 3, 480, 640)\n",
      "\n",
      "0: 480x640 (no detections), 8.0ms\n",
      "Speed: 2.0ms preprocess, 8.0ms inference, 1.0ms postprocess per image at shape (1, 3, 480, 640)\n",
      "\n",
      "0: 480x640 (no detections), 8.0ms\n",
      "Speed: 2.0ms preprocess, 8.0ms inference, 1.0ms postprocess per image at shape (1, 3, 480, 640)\n",
      "\n",
      "0: 480x640 (no detections), 8.0ms\n",
      "Speed: 2.0ms preprocess, 8.0ms inference, 1.0ms postprocess per image at shape (1, 3, 480, 640)\n",
      "\n"
     ]
    },
    {
     "name": "stdout",
     "output_type": "stream",
     "text": [
      "box not found\n",
      "總執行時間：0.033001 秒 ####################\n",
      "No Mask\n",
      "No Mask\n",
      "No Mask\n",
      "No Mask\n"
     ]
    },
    {
     "name": "stderr",
     "output_type": "stream",
     "text": [
      "0: 480x640 (no detections), 8.0ms\n",
      "Speed: 2.0ms preprocess, 8.0ms inference, 1.0ms postprocess per image at shape (1, 3, 480, 640)\n",
      "\n",
      "0: 480x640 (no detections), 8.0ms\n",
      "Speed: 2.0ms preprocess, 8.0ms inference, 1.0ms postprocess per image at shape (1, 3, 480, 640)\n",
      "\n",
      "0: 480x640 (no detections), 8.0ms\n",
      "Speed: 2.0ms preprocess, 8.0ms inference, 1.0ms postprocess per image at shape (1, 3, 480, 640)\n",
      "\n",
      "0: 480x640 (no detections), 9.0ms\n",
      "Speed: 2.0ms preprocess, 9.0ms inference, 1.0ms postprocess per image at shape (1, 3, 480, 640)\n",
      "\n",
      "0: 480x640 (no detections), 8.0ms\n",
      "Speed: 2.0ms preprocess, 8.0ms inference, 1.0ms postprocess per image at shape (1, 3, 480, 640)\n",
      "\n",
      "0: 480x640 (no detections), 9.0ms\n",
      "Speed: 2.0ms preprocess, 9.0ms inference, 1.0ms postprocess per image at shape (1, 3, 480, 640)\n",
      "\n",
      "0: 480x640 (no detections), 8.0ms\n"
     ]
    },
    {
     "name": "stdout",
     "output_type": "stream",
     "text": [
      "No Mask\n",
      "No Mask\n",
      "No Mask\n",
      "No Mask\n",
      "No Mask\n",
      "No Mask\n"
     ]
    },
    {
     "name": "stderr",
     "output_type": "stream",
     "text": [
      "Speed: 2.0ms preprocess, 8.0ms inference, 1.0ms postprocess per image at shape (1, 3, 480, 640)\n",
      "\n",
      "0: 480x640 (no detections), 10.0ms\n",
      "Speed: 2.0ms preprocess, 10.0ms inference, 1.0ms postprocess per image at shape (1, 3, 480, 640)\n",
      "\n",
      "0: 480x640 (no detections), 9.0ms\n",
      "Speed: 2.0ms preprocess, 9.0ms inference, 1.0ms postprocess per image at shape (1, 3, 480, 640)\n",
      "\n",
      "0: 480x640 (no detections), 9.0ms\n",
      "Speed: 2.0ms preprocess, 9.0ms inference, 1.0ms postprocess per image at shape (1, 3, 480, 640)\n",
      "\n",
      "0: 480x640 (no detections), 8.0ms\n",
      "Speed: 2.0ms preprocess, 8.0ms inference, 1.0ms postprocess per image at shape (1, 3, 480, 640)\n",
      "\n"
     ]
    },
    {
     "name": "stdout",
     "output_type": "stream",
     "text": [
      "No Mask\n",
      "No Mask\n",
      "No Mask\n",
      "No Mask\n",
      "No Mask\n"
     ]
    },
    {
     "name": "stderr",
     "output_type": "stream",
     "text": [
      "0: 480x640 (no detections), 9.0ms\n",
      "Speed: 2.0ms preprocess, 9.0ms inference, 1.0ms postprocess per image at shape (1, 3, 480, 640)\n",
      "\n",
      "0: 480x640 (no detections), 8.5ms\n",
      "Speed: 2.0ms preprocess, 8.5ms inference, 1.0ms postprocess per image at shape (1, 3, 480, 640)\n",
      "\n",
      "0: 480x640 (no detections), 8.0ms\n",
      "Speed: 2.5ms preprocess, 8.0ms inference, 1.0ms postprocess per image at shape (1, 3, 480, 640)\n",
      "\n",
      "0: 480x640 1 cube, 9.0ms\n",
      "Speed: 2.0ms preprocess, 9.0ms inference, 4.0ms postprocess per image at shape (1, 3, 480, 640)\n",
      "\n",
      "0: 480x640 1 cube, 9.0ms\n",
      "Speed: 2.0ms preprocess, 9.0ms inference, 2.0ms postprocess per image at shape (1, 3, 480, 640)\n",
      "\n",
      "0: 480x640 (no detections), 8.0ms\n",
      "Speed: 2.0ms preprocess, 8.0ms inference, 1.0ms postprocess per image at shape (1, 3, 480, 640)\n"
     ]
    },
    {
     "name": "stdout",
     "output_type": "stream",
     "text": [
      "No Mask\n",
      "No Mask\n",
      "No Mask\n",
      "box not found\n",
      "總執行時間：0.036999 秒 ####################\n",
      "box not found\n",
      "總執行時間：0.032001 秒 ####################\n",
      "No Mask\n"
     ]
    },
    {
     "name": "stderr",
     "output_type": "stream",
     "text": [
      "\n",
      "0: 480x640 (no detections), 8.0ms\n",
      "Speed: 2.0ms preprocess, 8.0ms inference, 1.0ms postprocess per image at shape (1, 3, 480, 640)\n",
      "\n",
      "0: 480x640 1 cube, 9.0ms\n",
      "Speed: 2.0ms preprocess, 9.0ms inference, 3.0ms postprocess per image at shape (1, 3, 480, 640)\n",
      "\n",
      "0: 480x640 1 cube, 8.0ms\n",
      "Speed: 2.0ms preprocess, 8.0ms inference, 2.0ms postprocess per image at shape (1, 3, 480, 640)\n",
      "\n",
      "0: 480x640 (no detections), 9.0ms\n",
      "Speed: 2.0ms preprocess, 9.0ms inference, 1.0ms postprocess per image at shape (1, 3, 480, 640)\n",
      "\n",
      "0: 480x640 1 cube, 8.0ms\n",
      "Speed: 2.0ms preprocess, 8.0ms inference, 3.0ms postprocess per image at shape (1, 3, 480, 640)\n",
      "\n"
     ]
    },
    {
     "name": "stdout",
     "output_type": "stream",
     "text": [
      "No Mask\n",
      "box not found\n",
      "總執行時間：0.035998 秒 ####################\n",
      "box not found\n",
      "總執行時間：0.033000 秒 ####################\n",
      "No Mask\n",
      "box not found\n",
      "總執行時間：0.031999 秒 ####################\n"
     ]
    },
    {
     "name": "stderr",
     "output_type": "stream",
     "text": [
      "0: 480x640 1 cube, 8.0ms\n",
      "Speed: 2.0ms preprocess, 8.0ms inference, 3.0ms postprocess per image at shape (1, 3, 480, 640)\n",
      "\n",
      "0: 480x640 1 cube, 9.0ms\n",
      "Speed: 2.0ms preprocess, 9.0ms inference, 3.0ms postprocess per image at shape (1, 3, 480, 640)\n",
      "\n",
      "0: 480x640 1 cube, 8.0ms\n",
      "Speed: 2.0ms preprocess, 8.0ms inference, 3.0ms postprocess per image at shape (1, 3, 480, 640)\n"
     ]
    },
    {
     "name": "stdout",
     "output_type": "stream",
     "text": [
      "box not found\n",
      "總執行時間：0.054002 秒 ####################\n",
      "box not found\n",
      "總執行時間：0.041000 秒 ####################\n",
      "box not found\n",
      "總執行時間：0.075497 秒 ####################\n"
     ]
    },
    {
     "name": "stderr",
     "output_type": "stream",
     "text": [
      "\n",
      "0: 480x640 1 cube, 7.8ms\n",
      "Speed: 2.0ms preprocess, 7.8ms inference, 2.5ms postprocess per image at shape (1, 3, 480, 640)\n",
      "\n",
      "0: 480x640 (no detections), 7.8ms\n",
      "Speed: 2.0ms preprocess, 7.8ms inference, 1.0ms postprocess per image at shape (1, 3, 480, 640)\n",
      "\n",
      "0: 480x640 (no detections), 8.0ms\n",
      "Speed: 2.0ms preprocess, 8.0ms inference, 1.0ms postprocess per image at shape (1, 3, 480, 640)\n",
      "\n",
      "0: 480x640 (no detections), 8.0ms\n",
      "Speed: 2.0ms preprocess, 8.0ms inference, 1.0ms postprocess per image at shape (1, 3, 480, 640)\n",
      "\n",
      "0: 480x640 1 cube, 8.0ms\n",
      "Speed: 2.0ms preprocess, 8.0ms inference, 3.0ms postprocess per image at shape (1, 3, 480, 640)\n",
      "\n"
     ]
    },
    {
     "name": "stdout",
     "output_type": "stream",
     "text": [
      "box not found\n",
      "總執行時間：0.032965 秒 ####################\n",
      "No Mask\n",
      "No Mask\n",
      "No Mask\n",
      "box not found\n",
      "總執行時間：0.028504 秒 ####################\n"
     ]
    },
    {
     "name": "stderr",
     "output_type": "stream",
     "text": [
      "0: 480x640 1 cube, 8.0ms\n",
      "Speed: 2.0ms preprocess, 8.0ms inference, 3.0ms postprocess per image at shape (1, 3, 480, 640)\n",
      "\n",
      "0: 480x640 1 cube, 9.0ms\n",
      "Speed: 2.5ms preprocess, 9.0ms inference, 3.0ms postprocess per image at shape (1, 3, 480, 640)\n",
      "\n",
      "0: 480x640 1 cube, 9.0ms\n",
      "Speed: 2.0ms preprocess, 9.0ms inference, 3.0ms postprocess per image at shape (1, 3, 480, 640)\n",
      "\n",
      "0: 480x640 (no detections), 8.0ms\n",
      "Speed: 2.0ms preprocess, 8.0ms inference, 0.0ms postprocess per image at shape (1, 3, 480, 640)\n",
      "\n",
      "0: 480x640 (no detections), 8.0ms\n",
      "Speed: 2.0ms preprocess, 8.0ms inference, 1.0ms postprocess per image at shape (1, 3, 480, 640)\n",
      "\n"
     ]
    },
    {
     "name": "stdout",
     "output_type": "stream",
     "text": [
      "box not found\n",
      "總執行時間：0.031005 秒 ####################\n",
      "box not found\n",
      "總執行時間：0.029514 秒 ####################\n",
      "box not found\n",
      "總執行時間：0.037058 秒 ####################\n",
      "No Mask\n",
      "No Mask\n"
     ]
    },
    {
     "name": "stderr",
     "output_type": "stream",
     "text": [
      "0: 480x640 (no detections), 9.5ms\n",
      "Speed: 2.0ms preprocess, 9.5ms inference, 1.0ms postprocess per image at shape (1, 3, 480, 640)\n",
      "\n",
      "0: 480x640 1 cube, 8.0ms\n",
      "Speed: 2.0ms preprocess, 8.0ms inference, 3.0ms postprocess per image at shape (1, 3, 480, 640)\n",
      "\n",
      "0: 480x640 1 cube, 8.0ms\n",
      "Speed: 2.0ms preprocess, 8.0ms inference, 3.0ms postprocess per image at shape (1, 3, 480, 640)\n",
      "\n",
      "0: 480x640 (no detections), 9.0ms\n"
     ]
    },
    {
     "name": "stdout",
     "output_type": "stream",
     "text": [
      "No Mask\n",
      "box not found\n",
      "總執行時間：0.051000 秒 ####################\n",
      "box not found\n",
      "總執行時間：0.038509 秒 ####################\n"
     ]
    },
    {
     "name": "stderr",
     "output_type": "stream",
     "text": [
      "Speed: 2.0ms preprocess, 9.0ms inference, 0.0ms postprocess per image at shape (1, 3, 480, 640)\n",
      "\n",
      "0: 480x640 (no detections), 9.0ms\n",
      "Speed: 2.0ms preprocess, 9.0ms inference, 0.0ms postprocess per image at shape (1, 3, 480, 640)\n",
      "\n",
      "0: 480x640 1 cube, 8.0ms\n",
      "Speed: 2.0ms preprocess, 8.0ms inference, 3.0ms postprocess per image at shape (1, 3, 480, 640)\n",
      "\n",
      "0: 480x640 1 cube, 9.0ms\n",
      "Speed: 2.0ms preprocess, 9.0ms inference, 3.0ms postprocess per image at shape (1, 3, 480, 640)\n",
      "\n"
     ]
    },
    {
     "name": "stdout",
     "output_type": "stream",
     "text": [
      "No Mask\n",
      "No Mask\n",
      "box not found\n",
      "總執行時間：0.061000 秒 ####################\n",
      "box not found\n",
      "總執行時間：0.034998 秒 ####################\n"
     ]
    },
    {
     "name": "stderr",
     "output_type": "stream",
     "text": [
      "0: 480x640 (no detections), 8.0ms\n",
      "Speed: 2.0ms preprocess, 8.0ms inference, 1.0ms postprocess per image at shape (1, 3, 480, 640)\n",
      "\n",
      "0: 480x640 (no detections), 8.0ms\n",
      "Speed: 2.0ms preprocess, 8.0ms inference, 1.0ms postprocess per image at shape (1, 3, 480, 640)\n",
      "\n",
      "0: 480x640 (no detections), 8.0ms\n",
      "Speed: 3.0ms preprocess, 8.0ms inference, 1.0ms postprocess per image at shape (1, 3, 480, 640)\n",
      "\n",
      "0: 480x640 (no detections), 8.5ms\n",
      "Speed: 2.0ms preprocess, 8.5ms inference, 1.0ms postprocess per image at shape (1, 3, 480, 640)\n",
      "\n",
      "0: 480x640 (no detections), 9.0ms\n",
      "Speed: 2.0ms preprocess, 9.0ms inference, 1.0ms postprocess per image at shape (1, 3, 480, 640)\n",
      "\n",
      "0: 480x640 1 cube, 10.0ms\n",
      "Speed: 2.0ms preprocess, 10.0ms inference, 4.0ms postprocess per image at shape (1, 3, 480, 640)\n",
      "\n"
     ]
    },
    {
     "name": "stdout",
     "output_type": "stream",
     "text": [
      "No Mask\n",
      "No Mask\n",
      "No Mask\n",
      "No Mask\n",
      "No Mask\n",
      "box not found\n",
      "總執行時間：0.035001 秒 ####################\n"
     ]
    },
    {
     "name": "stderr",
     "output_type": "stream",
     "text": [
      "0: 480x640 1 cube, 8.0ms\n",
      "Speed: 2.0ms preprocess, 8.0ms inference, 3.0ms postprocess per image at shape (1, 3, 480, 640)\n",
      "\n",
      "0: 480x640 (no detections), 9.0ms\n",
      "Speed: 2.0ms preprocess, 9.0ms inference, 1.0ms postprocess per image at shape (1, 3, 480, 640)\n",
      "\n",
      "0: 480x640 (no detections), 9.0ms\n",
      "Speed: 2.0ms preprocess, 9.0ms inference, 1.0ms postprocess per image at shape (1, 3, 480, 640)\n",
      "\n",
      "0: 480x640 (no detections), 8.0ms\n",
      "Speed: 2.0ms preprocess, 8.0ms inference, 1.0ms postprocess per image at shape (1, 3, 480, 640)\n",
      "\n",
      "0: 480x640 (no detections), 8.0ms\n",
      "Speed: 2.0ms preprocess, 8.0ms inference, 1.0ms postprocess per image at shape (1, 3, 480, 640)\n",
      "\n",
      "0: 480x640 (no detections), 9.0ms\n",
      "Speed: 2.0ms preprocess, 9.0ms inference, 0.0ms postprocess per image at shape (1, 3, 480, 640)\n",
      "\n",
      "0: 480x640 (no detections), 9.0ms\n",
      "Speed: 2.0ms preprocess, 9.0ms inference, 0.0ms postprocess per image at shape (1, 3, 480, 640)\n",
      "\n",
      "0: 480x640 (no detections), 8.0ms\n",
      "Speed: 2.0ms preprocess, 8.0ms inference, 1.0ms postprocess per image at shape (1, 3, 480, 640)\n"
     ]
    },
    {
     "name": "stdout",
     "output_type": "stream",
     "text": [
      "box not found\n",
      "總執行時間：0.030026 秒 ####################\n",
      "No Mask\n",
      "No Mask\n",
      "No Mask\n",
      "No Mask\n",
      "No Mask\n",
      "No Mask\n",
      "No Mask\n"
     ]
    },
    {
     "name": "stderr",
     "output_type": "stream",
     "text": [
      "\n",
      "0: 480x640 (no detections), 9.0ms\n",
      "Speed: 2.0ms preprocess, 9.0ms inference, 1.0ms postprocess per image at shape (1, 3, 480, 640)\n",
      "\n",
      "0: 480x640 (no detections), 9.0ms\n",
      "Speed: 2.0ms preprocess, 9.0ms inference, 1.0ms postprocess per image at shape (1, 3, 480, 640)\n",
      "\n",
      "0: 480x640 (no detections), 8.0ms\n",
      "Speed: 3.0ms preprocess, 8.0ms inference, 0.0ms postprocess per image at shape (1, 3, 480, 640)\n",
      "\n",
      "0: 480x640 (no detections), 9.0ms\n",
      "Speed: 2.0ms preprocess, 9.0ms inference, 1.0ms postprocess per image at shape (1, 3, 480, 640)\n",
      "\n",
      "0: 480x640 (no detections), 8.0ms\n",
      "Speed: 3.0ms preprocess, 8.0ms inference, 0.0ms postprocess per image at shape (1, 3, 480, 640)\n",
      "\n"
     ]
    },
    {
     "name": "stdout",
     "output_type": "stream",
     "text": [
      "No Mask\n",
      "No Mask\n",
      "No Mask\n",
      "No Mask\n",
      "No Mask\n"
     ]
    },
    {
     "name": "stderr",
     "output_type": "stream",
     "text": [
      "0: 480x640 1 cube, 8.0ms\n",
      "Speed: 3.0ms preprocess, 8.0ms inference, 3.0ms postprocess per image at shape (1, 3, 480, 640)\n",
      "\n",
      "0: 480x640 1 cube, 9.0ms\n",
      "Speed: 2.0ms preprocess, 9.0ms inference, 3.0ms postprocess per image at shape (1, 3, 480, 640)\n",
      "\n",
      "0: 480x640 (no detections), 8.0ms\n",
      "Speed: 2.0ms preprocess, 8.0ms inference, 1.0ms postprocess per image at shape (1, 3, 480, 640)\n",
      "\n",
      "0: 480x640 (no detections), 8.0ms\n",
      "Speed: 2.0ms preprocess, 8.0ms inference, 1.0ms postprocess per image at shape (1, 3, 480, 640)\n",
      "\n",
      "0: 480x640 1 cube, 8.0ms\n",
      "Speed: 2.0ms preprocess, 8.0ms inference, 3.0ms postprocess per image at shape (1, 3, 480, 640)\n",
      "\n"
     ]
    },
    {
     "name": "stdout",
     "output_type": "stream",
     "text": [
      "box not found\n",
      "總執行時間：0.038514 秒 ####################\n",
      "box not found\n",
      "總執行時間：0.035513 秒 ####################\n",
      "No Mask\n",
      "No Mask\n",
      "box not found\n",
      "總執行時間：0.031001 秒 ####################\n"
     ]
    },
    {
     "name": "stderr",
     "output_type": "stream",
     "text": [
      "0: 480x640 1 cube, 8.0ms\n",
      "Speed: 2.0ms preprocess, 8.0ms inference, 2.0ms postprocess per image at shape (1, 3, 480, 640)\n",
      "\n",
      "0: 480x640 1 cube, 8.0ms\n",
      "Speed: 2.0ms preprocess, 8.0ms inference, 3.0ms postprocess per image at shape (1, 3, 480, 640)\n",
      "\n",
      "0: 480x640 (no detections), 8.0ms\n",
      "Speed: 2.0ms preprocess, 8.0ms inference, 1.0ms postprocess per image at shape (1, 3, 480, 640)\n",
      "\n",
      "0: 480x640 (no detections), 8.0ms\n",
      "Speed: 2.0ms preprocess, 8.0ms inference, 1.0ms postprocess per image at shape (1, 3, 480, 640)\n",
      "\n",
      "0: 480x640 (no detections), 8.3ms\n",
      "Speed: 2.0ms preprocess, 8.3ms inference, 1.0ms postprocess per image at shape (1, 3, 480, 640)\n",
      "\n",
      "0: 480x640 (no detections), 8.0ms\n",
      "Speed: 2.0ms preprocess, 8.0ms inference, 1.0ms postprocess per image at shape (1, 3, 480, 640)\n",
      "\n",
      "0: 480x640 (no detections), 8.0ms\n",
      "Speed: 2.0ms preprocess, 8.0ms inference, 1.0ms postprocess per image at shape (1, 3, 480, 640)\n"
     ]
    },
    {
     "name": "stdout",
     "output_type": "stream",
     "text": [
      "box not found\n",
      "總執行時間：0.028998 秒 ####################\n",
      "box not found\n",
      "總執行時間：0.030001 秒 ####################\n",
      "No Mask\n",
      "No Mask\n",
      "No Mask\n",
      "No Mask\n",
      "No Mask\n"
     ]
    },
    {
     "name": "stderr",
     "output_type": "stream",
     "text": [
      "\n",
      "0: 480x640 (no detections), 8.0ms\n",
      "Speed: 2.0ms preprocess, 8.0ms inference, 1.0ms postprocess per image at shape (1, 3, 480, 640)\n",
      "\n",
      "0: 480x640 (no detections), 9.0ms\n",
      "Speed: 2.0ms preprocess, 9.0ms inference, 1.0ms postprocess per image at shape (1, 3, 480, 640)\n",
      "\n",
      "0: 480x640 (no detections), 9.0ms\n",
      "Speed: 2.0ms preprocess, 9.0ms inference, 1.0ms postprocess per image at shape (1, 3, 480, 640)\n",
      "\n",
      "0: 480x640 (no detections), 8.0ms\n",
      "Speed: 2.0ms preprocess, 8.0ms inference, 1.0ms postprocess per image at shape (1, 3, 480, 640)\n",
      "\n",
      "0: 480x640 (no detections), 9.0ms\n",
      "Speed: 2.0ms preprocess, 9.0ms inference, 1.0ms postprocess per image at shape (1, 3, 480, 640)\n",
      "\n",
      "0: 480x640 (no detections), 8.0ms\n",
      "Speed: 1.5ms preprocess, 8.0ms inference, 1.0ms postprocess per image at shape (1, 3, 480, 640)\n",
      "\n",
      "0: 480x640 (no detections), 8.0ms\n",
      "Speed: 2.0ms preprocess, 8.0ms inference, 1.0ms postprocess per image at shape (1, 3, 480, 640)\n",
      "\n"
     ]
    },
    {
     "name": "stdout",
     "output_type": "stream",
     "text": [
      "No Mask\n",
      "No Mask\n",
      "No Mask\n",
      "No Mask\n",
      "No Mask\n",
      "No Mask\n",
      "No Mask\n"
     ]
    },
    {
     "name": "stderr",
     "output_type": "stream",
     "text": [
      "0: 480x640 (no detections), 8.0ms\n",
      "Speed: 2.0ms preprocess, 8.0ms inference, 1.0ms postprocess per image at shape (1, 3, 480, 640)\n",
      "\n",
      "0: 480x640 1 cube, 9.0ms\n",
      "Speed: 2.0ms preprocess, 9.0ms inference, 2.0ms postprocess per image at shape (1, 3, 480, 640)\n",
      "\n",
      "0: 480x640 1 cube, 8.0ms\n",
      "Speed: 2.0ms preprocess, 8.0ms inference, 2.0ms postprocess per image at shape (1, 3, 480, 640)\n",
      "\n",
      "0: 480x640 1 cube, 8.0ms\n",
      "Speed: 2.0ms preprocess, 8.0ms inference, 3.0ms postprocess per image at shape (1, 3, 480, 640)\n",
      "\n",
      "0: 480x640 1 cube, 9.0ms\n"
     ]
    },
    {
     "name": "stdout",
     "output_type": "stream",
     "text": [
      "No Mask\n",
      "box not found\n",
      "總執行時間：0.029001 秒 ####################\n",
      "box not found\n",
      "總執行時間：0.030002 秒 ####################\n",
      "box not found\n",
      "總執行時間：0.031002 秒 ####################\n"
     ]
    },
    {
     "name": "stderr",
     "output_type": "stream",
     "text": [
      "Speed: 2.0ms preprocess, 9.0ms inference, 2.0ms postprocess per image at shape (1, 3, 480, 640)\n",
      "\n",
      "0: 480x640 (no detections), 9.0ms\n",
      "Speed: 2.0ms preprocess, 9.0ms inference, 1.0ms postprocess per image at shape (1, 3, 480, 640)\n",
      "\n",
      "0: 480x640 (no detections), 8.0ms\n",
      "Speed: 2.0ms preprocess, 8.0ms inference, 1.0ms postprocess per image at shape (1, 3, 480, 640)\n",
      "\n",
      "0: 480x640 1 cube, 8.0ms\n",
      "Speed: 2.0ms preprocess, 8.0ms inference, 3.0ms postprocess per image at shape (1, 3, 480, 640)\n",
      "\n",
      "0: 480x640 1 cube, 8.0ms\n",
      "Speed: 2.0ms preprocess, 8.0ms inference, 3.0ms postprocess per image at shape (1, 3, 480, 640)\n",
      "\n",
      "0: 480x640 (no detections), 9.0ms\n",
      "Speed: 1.5ms preprocess, 9.0ms inference, 1.0ms postprocess per image at shape (1, 3, 480, 640)\n"
     ]
    },
    {
     "name": "stdout",
     "output_type": "stream",
     "text": [
      "box not found\n",
      "總執行時間：0.028004 秒 ####################\n",
      "No Mask\n",
      "No Mask\n",
      "box not found\n",
      "總執行時間：0.030004 秒 ####################\n",
      "box not found\n",
      "總執行時間：0.029999 秒 ####################\n",
      "No Mask\n"
     ]
    },
    {
     "name": "stderr",
     "output_type": "stream",
     "text": [
      "\n",
      "0: 480x640 (no detections), 8.0ms\n",
      "Speed: 2.0ms preprocess, 8.0ms inference, 1.0ms postprocess per image at shape (1, 3, 480, 640)\n",
      "\n",
      "0: 480x640 1 cube, 9.0ms\n",
      "Speed: 2.0ms preprocess, 9.0ms inference, 3.0ms postprocess per image at shape (1, 3, 480, 640)\n",
      "\n",
      "0: 480x640 1 cube, 8.0ms\n",
      "Speed: 2.0ms preprocess, 8.0ms inference, 3.0ms postprocess per image at shape (1, 3, 480, 640)\n",
      "\n",
      "0: 480x640 (no detections), 9.0ms\n",
      "Speed: 2.0ms preprocess, 9.0ms inference, 1.0ms postprocess per image at shape (1, 3, 480, 640)\n",
      "\n",
      "0: 480x640 (no detections), 9.0ms\n",
      "Speed: 2.0ms preprocess, 9.0ms inference, 1.0ms postprocess per image at shape (1, 3, 480, 640)\n",
      "\n",
      "0: 480x640 (no detections), 9.0ms\n",
      "Speed: 2.0ms preprocess, 9.0ms inference, 0.0ms postprocess per image at shape (1, 3, 480, 640)\n",
      "\n",
      "0: 480x640 (no detections), 10.0ms\n"
     ]
    },
    {
     "name": "stdout",
     "output_type": "stream",
     "text": [
      "No Mask\n",
      "box not found\n",
      "總執行時間：0.034999 秒 ####################\n",
      "box not found\n",
      "總執行時間：0.030998 秒 ####################\n",
      "No Mask\n",
      "No Mask\n",
      "No Mask\n"
     ]
    },
    {
     "name": "stderr",
     "output_type": "stream",
     "text": [
      "Speed: 2.0ms preprocess, 10.0ms inference, 1.0ms postprocess per image at shape (1, 3, 480, 640)\n",
      "\n",
      "0: 480x640 1 cube, 8.0ms\n",
      "Speed: 2.0ms preprocess, 8.0ms inference, 3.0ms postprocess per image at shape (1, 3, 480, 640)\n",
      "\n",
      "0: 480x640 1 cube, 9.0ms\n",
      "Speed: 2.0ms preprocess, 9.0ms inference, 3.0ms postprocess per image at shape (1, 3, 480, 640)\n",
      "\n",
      "0: 480x640 (no detections), 8.0ms\n",
      "Speed: 2.0ms preprocess, 8.0ms inference, 1.0ms postprocess per image at shape (1, 3, 480, 640)\n",
      "\n",
      "0: 480x640 (no detections), 9.5ms\n",
      "Speed: 2.0ms preprocess, 9.5ms inference, 1.0ms postprocess per image at shape (1, 3, 480, 640)\n",
      "\n"
     ]
    },
    {
     "name": "stdout",
     "output_type": "stream",
     "text": [
      "No Mask\n",
      "box not found\n",
      "總執行時間：0.038029 秒 ####################\n",
      "box not found\n",
      "總執行時間：0.051001 秒 ####################\n",
      "No Mask\n",
      "No Mask\n"
     ]
    },
    {
     "name": "stderr",
     "output_type": "stream",
     "text": [
      "0: 480x640 (no detections), 9.0ms\n",
      "Speed: 2.0ms preprocess, 9.0ms inference, 1.0ms postprocess per image at shape (1, 3, 480, 640)\n",
      "\n",
      "0: 480x640 (no detections), 8.0ms\n",
      "Speed: 3.0ms preprocess, 8.0ms inference, 0.0ms postprocess per image at shape (1, 3, 480, 640)\n",
      "\n",
      "0: 480x640 (no detections), 9.0ms\n",
      "Speed: 2.0ms preprocess, 9.0ms inference, 0.0ms postprocess per image at shape (1, 3, 480, 640)\n",
      "\n",
      "0: 480x640 (no detections), 8.0ms\n",
      "Speed: 2.0ms preprocess, 8.0ms inference, 1.0ms postprocess per image at shape (1, 3, 480, 640)\n",
      "\n",
      "0: 480x640 (no detections), 9.0ms\n",
      "Speed: 2.0ms preprocess, 9.0ms inference, 0.0ms postprocess per image at shape (1, 3, 480, 640)\n",
      "\n",
      "0: 480x640 (no detections), 8.0ms\n",
      "Speed: 3.0ms preprocess, 8.0ms inference, 0.0ms postprocess per image at shape (1, 3, 480, 640)\n",
      "\n",
      "0: 480x640 (no detections), 9.5ms\n",
      "Speed: 2.0ms preprocess, 9.5ms inference, 0.0ms postprocess per image at shape (1, 3, 480, 640)\n",
      "\n",
      "0: 480x640 (no detections), 8.0ms\n",
      "Speed: 2.0ms preprocess, 8.0ms inference, 0.0ms postprocess per image at shape (1, 3, 480, 640)\n",
      "\n",
      "0: 480x640 1 cube, 9.0ms\n"
     ]
    },
    {
     "name": "stdout",
     "output_type": "stream",
     "text": [
      "No Mask\n",
      "No Mask\n",
      "No Mask\n",
      "No Mask\n",
      "No Mask\n",
      "No Mask\n",
      "No Mask\n",
      "No Mask\n"
     ]
    },
    {
     "name": "stderr",
     "output_type": "stream",
     "text": [
      "Speed: 2.0ms preprocess, 9.0ms inference, 3.0ms postprocess per image at shape (1, 3, 480, 640)\n",
      "\n",
      "0: 480x640 1 cube, 8.0ms\n",
      "Speed: 2.0ms preprocess, 8.0ms inference, 3.0ms postprocess per image at shape (1, 3, 480, 640)\n",
      "\n",
      "0: 480x640 (no detections), 8.0ms\n",
      "Speed: 2.0ms preprocess, 8.0ms inference, 1.0ms postprocess per image at shape (1, 3, 480, 640)\n",
      "\n",
      "0: 480x640 (no detections), 9.0ms\n",
      "Speed: 2.0ms preprocess, 9.0ms inference, 1.0ms postprocess per image at shape (1, 3, 480, 640)\n",
      "\n",
      "0: 480x640 1 cube, 9.0ms\n",
      "Speed: 2.0ms preprocess, 9.0ms inference, 2.0ms postprocess per image at shape (1, 3, 480, 640)\n",
      "\n"
     ]
    },
    {
     "name": "stdout",
     "output_type": "stream",
     "text": [
      "box not found\n",
      "總執行時間：0.031512 秒 ####################\n",
      "box not found\n",
      "總執行時間：0.031000 秒 ####################\n",
      "No Mask\n",
      "No Mask\n",
      "box not found\n",
      "總執行時間：0.055001 秒 ####################\n"
     ]
    },
    {
     "name": "stderr",
     "output_type": "stream",
     "text": [
      "0: 480x640 1 cube, 9.0ms\n",
      "Speed: 2.0ms preprocess, 9.0ms inference, 3.0ms postprocess per image at shape (1, 3, 480, 640)\n",
      "\n",
      "0: 480x640 1 cube, 8.0ms\n",
      "Speed: 2.0ms preprocess, 8.0ms inference, 3.0ms postprocess per image at shape (1, 3, 480, 640)\n",
      "\n",
      "0: 480x640 1 cube, 8.0ms\n",
      "Speed: 2.0ms preprocess, 8.0ms inference, 3.0ms postprocess per image at shape (1, 3, 480, 640)\n",
      "\n",
      "0: 480x640 (no detections), 8.0ms\n",
      "Speed: 2.0ms preprocess, 8.0ms inference, 0.0ms postprocess per image at shape (1, 3, 480, 640)\n",
      "\n",
      "0: 480x640 1 cube, 8.0ms\n",
      "Speed: 2.0ms preprocess, 8.0ms inference, 3.0ms postprocess per image at shape (1, 3, 480, 640)\n"
     ]
    },
    {
     "name": "stdout",
     "output_type": "stream",
     "text": [
      "box not found\n",
      "總執行時間：0.032002 秒 ####################\n",
      "box not found\n",
      "總執行時間：0.029998 秒 ####################\n",
      "box not found\n",
      "總執行時間：0.031000 秒 ####################\n",
      "No Mask\n",
      "box not found\n",
      "總執行時間：0.027999 秒 ####################\n"
     ]
    },
    {
     "name": "stderr",
     "output_type": "stream",
     "text": [
      "\n",
      "0: 480x640 1 cube, 9.0ms\n",
      "Speed: 2.0ms preprocess, 9.0ms inference, 3.0ms postprocess per image at shape (1, 3, 480, 640)\n",
      "\n",
      "0: 480x640 (no detections), 8.0ms\n",
      "Speed: 2.0ms preprocess, 8.0ms inference, 1.0ms postprocess per image at shape (1, 3, 480, 640)\n",
      "\n",
      "0: 480x640 (no detections), 8.5ms\n",
      "Speed: 2.0ms preprocess, 8.5ms inference, 1.0ms postprocess per image at shape (1, 3, 480, 640)\n",
      "\n",
      "0: 480x640 1 cube, 8.0ms\n",
      "Speed: 2.0ms preprocess, 8.0ms inference, 3.0ms postprocess per image at shape (1, 3, 480, 640)\n",
      "\n",
      "0: 480x640 1 cube, 9.6ms\n",
      "Speed: 2.0ms preprocess, 9.6ms inference, 2.7ms postprocess per image at shape (1, 3, 480, 640)\n",
      "\n",
      "0: 480x640 1 cube, 8.8ms\n",
      "Speed: 2.0ms preprocess, 8.8ms inference, 2.5ms postprocess per image at shape (1, 3, 480, 640)\n",
      "\n"
     ]
    },
    {
     "name": "stdout",
     "output_type": "stream",
     "text": [
      "box not found\n",
      "總執行時間：0.031034 秒 ####################\n",
      "No Mask\n",
      "No Mask\n",
      "box not found\n",
      "總執行時間：0.032001 秒 ####################\n",
      "box not found\n",
      "總執行時間：0.035557 秒 ####################\n",
      "box not found\n",
      "總執行時間：0.030769 秒 ####################\n"
     ]
    },
    {
     "name": "stderr",
     "output_type": "stream",
     "text": [
      "0: 480x640 1 cube, 9.0ms\n",
      "Speed: 2.0ms preprocess, 9.0ms inference, 2.0ms postprocess per image at shape (1, 3, 480, 640)\n",
      "\n",
      "0: 480x640 (no detections), 8.5ms\n",
      "Speed: 2.0ms preprocess, 8.5ms inference, 0.0ms postprocess per image at shape (1, 3, 480, 640)\n",
      "\n",
      "0: 480x640 (no detections), 8.0ms\n",
      "Speed: 2.0ms preprocess, 8.0ms inference, 1.0ms postprocess per image at shape (1, 3, 480, 640)\n",
      "\n",
      "0: 480x640 (no detections), 8.0ms\n",
      "Speed: 2.0ms preprocess, 8.0ms inference, 1.0ms postprocess per image at shape (1, 3, 480, 640)\n",
      "\n",
      "0: 480x640 (no detections), 8.0ms\n",
      "Speed: 2.0ms preprocess, 8.0ms inference, 1.0ms postprocess per image at shape (1, 3, 480, 640)\n",
      "\n",
      "0: 480x640 1 cube, 8.5ms\n",
      "Speed: 2.0ms preprocess, 8.5ms inference, 3.0ms postprocess per image at shape (1, 3, 480, 640)\n",
      "\n",
      "0: 480x640 1 cube, 8.0ms\n",
      "Speed: 2.0ms preprocess, 8.0ms inference, 3.0ms postprocess per image at shape (1, 3, 480, 640)\n"
     ]
    },
    {
     "name": "stdout",
     "output_type": "stream",
     "text": [
      "box not found\n",
      "總執行時間：0.032514 秒 ####################\n",
      "No Mask\n",
      "No Mask\n",
      "No Mask\n",
      "No Mask\n",
      "box not found\n",
      "總執行時間：0.031505 秒 ####################\n",
      "box not found\n",
      "總執行時間：0.030999 秒 ####################\n"
     ]
    },
    {
     "name": "stderr",
     "output_type": "stream",
     "text": [
      "\n",
      "0: 480x640 (no detections), 9.0ms\n",
      "Speed: 2.0ms preprocess, 9.0ms inference, 1.0ms postprocess per image at shape (1, 3, 480, 640)\n",
      "\n",
      "0: 480x640 (no detections), 8.0ms\n",
      "Speed: 2.0ms preprocess, 8.0ms inference, 1.0ms postprocess per image at shape (1, 3, 480, 640)\n",
      "\n",
      "0: 480x640 1 cube, 9.0ms\n",
      "Speed: 2.0ms preprocess, 9.0ms inference, 2.0ms postprocess per image at shape (1, 3, 480, 640)\n",
      "\n",
      "0: 480x640 1 cube, 8.0ms\n",
      "Speed: 2.5ms preprocess, 8.0ms inference, 2.0ms postprocess per image at shape (1, 3, 480, 640)\n",
      "\n",
      "0: 480x640 1 cube, 8.0ms\n",
      "Speed: 2.1ms preprocess, 8.0ms inference, 3.0ms postprocess per image at shape (1, 3, 480, 640)\n",
      "\n"
     ]
    },
    {
     "name": "stdout",
     "output_type": "stream",
     "text": [
      "No Mask\n",
      "No Mask\n",
      "box not found\n",
      "總執行時間：0.030000 秒 ####################\n",
      "box not found\n",
      "總執行時間：0.030516 秒 ####################\n",
      "box not found\n",
      "總執行時間：0.031039 秒 ####################\n"
     ]
    },
    {
     "name": "stderr",
     "output_type": "stream",
     "text": [
      "0: 480x640 1 cube, 8.0ms\n",
      "Speed: 2.0ms preprocess, 8.0ms inference, 2.0ms postprocess per image at shape (1, 3, 480, 640)\n",
      "\n",
      "0: 480x640 (no detections), 8.0ms\n",
      "Speed: 3.0ms preprocess, 8.0ms inference, 1.0ms postprocess per image at shape (1, 3, 480, 640)\n",
      "\n",
      "0: 480x640 (no detections), 8.0ms\n",
      "Speed: 2.0ms preprocess, 8.0ms inference, 1.0ms postprocess per image at shape (1, 3, 480, 640)\n",
      "\n",
      "0: 480x640 (no detections), 8.0ms\n",
      "Speed: 2.0ms preprocess, 8.0ms inference, 1.0ms postprocess per image at shape (1, 3, 480, 640)\n",
      "\n",
      "0: 480x640 (no detections), 8.0ms\n",
      "Speed: 2.0ms preprocess, 8.0ms inference, 1.0ms postprocess per image at shape (1, 3, 480, 640)\n",
      "\n",
      "0: 480x640 (no detections), 8.0ms\n",
      "Speed: 2.0ms preprocess, 8.0ms inference, 1.0ms postprocess per image at shape (1, 3, 480, 640)\n"
     ]
    },
    {
     "name": "stdout",
     "output_type": "stream",
     "text": [
      "box not found\n",
      "總執行時間：0.032545 秒 ####################\n",
      "No Mask\n",
      "No Mask\n",
      "No Mask\n",
      "No Mask\n",
      "No Mask\n"
     ]
    },
    {
     "name": "stderr",
     "output_type": "stream",
     "text": [
      "\n",
      "0: 480x640 (no detections), 8.0ms\n",
      "Speed: 2.0ms preprocess, 8.0ms inference, 1.0ms postprocess per image at shape (1, 3, 480, 640)\n",
      "\n",
      "0: 480x640 (no detections), 8.0ms\n",
      "Speed: 2.0ms preprocess, 8.0ms inference, 1.0ms postprocess per image at shape (1, 3, 480, 640)\n",
      "\n",
      "0: 480x640 1 cube, 8.0ms\n",
      "Speed: 2.0ms preprocess, 8.0ms inference, 3.0ms postprocess per image at shape (1, 3, 480, 640)\n",
      "\n",
      "0: 480x640 1 cube, 9.0ms\n",
      "Speed: 2.0ms preprocess, 9.0ms inference, 2.5ms postprocess per image at shape (1, 3, 480, 640)\n"
     ]
    },
    {
     "name": "stdout",
     "output_type": "stream",
     "text": [
      "No Mask\n",
      "No Mask\n",
      "box not found\n",
      "總執行時間：0.084002 秒 ####################\n",
      "box not found\n",
      "總執行時間：0.036513 秒 ####################\n"
     ]
    },
    {
     "name": "stderr",
     "output_type": "stream",
     "text": [
      "\n",
      "0: 480x640 1 cube, 8.0ms\n",
      "Speed: 2.0ms preprocess, 8.0ms inference, 3.0ms postprocess per image at shape (1, 3, 480, 640)\n",
      "\n",
      "0: 480x640 (no detections), 8.0ms\n",
      "Speed: 2.0ms preprocess, 8.0ms inference, 1.0ms postprocess per image at shape (1, 3, 480, 640)\n",
      "\n",
      "0: 480x640 (no detections), 8.0ms\n",
      "Speed: 2.0ms preprocess, 8.0ms inference, 1.0ms postprocess per image at shape (1, 3, 480, 640)\n",
      "\n",
      "0: 480x640 (no detections), 8.0ms\n",
      "Speed: 3.0ms preprocess, 8.0ms inference, 1.0ms postprocess per image at shape (1, 3, 480, 640)\n",
      "\n",
      "0: 480x640 (no detections), 8.0ms\n",
      "Speed: 2.0ms preprocess, 8.0ms inference, 1.0ms postprocess per image at shape (1, 3, 480, 640)\n",
      "\n",
      "0: 480x640 1 cube, 9.0ms\n",
      "Speed: 2.0ms preprocess, 9.0ms inference, 2.0ms postprocess per image at shape (1, 3, 480, 640)\n"
     ]
    },
    {
     "name": "stdout",
     "output_type": "stream",
     "text": [
      "box not found\n",
      "總執行時間：0.033001 秒 ####################\n",
      "No Mask\n",
      "No Mask\n",
      "No Mask\n",
      "No Mask\n",
      "box not found\n",
      "總執行時間：0.031001 秒 ####################\n"
     ]
    },
    {
     "name": "stderr",
     "output_type": "stream",
     "text": [
      "\n",
      "0: 480x640 1 cube, 9.0ms\n",
      "Speed: 2.0ms preprocess, 9.0ms inference, 2.0ms postprocess per image at shape (1, 3, 480, 640)\n",
      "\n",
      "0: 480x640 (no detections), 8.0ms\n",
      "Speed: 2.0ms preprocess, 8.0ms inference, 1.0ms postprocess per image at shape (1, 3, 480, 640)\n",
      "\n",
      "0: 480x640 (no detections), 7.0ms\n",
      "Speed: 2.0ms preprocess, 7.0ms inference, 1.0ms postprocess per image at shape (1, 3, 480, 640)\n",
      "\n",
      "0: 480x640 (no detections), 9.0ms\n",
      "Speed: 2.0ms preprocess, 9.0ms inference, 1.0ms postprocess per image at shape (1, 3, 480, 640)\n",
      "\n",
      "0: 480x640 (no detections), 8.0ms\n",
      "Speed: 2.0ms preprocess, 8.0ms inference, 1.0ms postprocess per image at shape (1, 3, 480, 640)\n",
      "\n",
      "0: 480x640 1 cube, 8.0ms\n",
      "Speed: 2.0ms preprocess, 8.0ms inference, 3.0ms postprocess per image at shape (1, 3, 480, 640)\n",
      "\n",
      "0: 480x640 1 cube, 10.0ms\n",
      "Speed: 2.0ms preprocess, 10.0ms inference, 2.0ms postprocess per image at shape (1, 3, 480, 640)\n"
     ]
    },
    {
     "name": "stdout",
     "output_type": "stream",
     "text": [
      "box not found\n",
      "總執行時間：0.032002 秒 ####################\n",
      "No Mask\n",
      "No Mask\n",
      "No Mask\n",
      "No Mask\n",
      "box not found\n",
      "總執行時間：0.030000 秒 ####################\n",
      "box not found\n",
      "總執行時間：0.033000 秒 ####################\n"
     ]
    },
    {
     "name": "stderr",
     "output_type": "stream",
     "text": [
      "\n",
      "0: 480x640 (no detections), 8.0ms\n",
      "Speed: 2.0ms preprocess, 8.0ms inference, 1.0ms postprocess per image at shape (1, 3, 480, 640)\n",
      "\n",
      "0: 480x640 (no detections), 8.0ms\n",
      "Speed: 2.0ms preprocess, 8.0ms inference, 1.0ms postprocess per image at shape (1, 3, 480, 640)\n",
      "\n",
      "0: 480x640 (no detections), 8.0ms\n",
      "Speed: 2.0ms preprocess, 8.0ms inference, 1.0ms postprocess per image at shape (1, 3, 480, 640)\n",
      "\n",
      "0: 480x640 (no detections), 8.0ms\n",
      "Speed: 2.0ms preprocess, 8.0ms inference, 1.0ms postprocess per image at shape (1, 3, 480, 640)\n",
      "\n",
      "0: 480x640 (no detections), 9.0ms\n",
      "Speed: 2.0ms preprocess, 9.0ms inference, 1.0ms postprocess per image at shape (1, 3, 480, 640)\n",
      "\n",
      "0: 480x640 (no detections), 8.5ms\n",
      "Speed: 2.0ms preprocess, 8.5ms inference, 1.0ms postprocess per image at shape (1, 3, 480, 640)\n",
      "\n",
      "0: 480x640 (no detections), 8.0ms\n"
     ]
    },
    {
     "name": "stdout",
     "output_type": "stream",
     "text": [
      "No Mask\n",
      "No Mask\n",
      "No Mask\n",
      "No Mask\n",
      "No Mask\n",
      "No Mask\n"
     ]
    },
    {
     "name": "stderr",
     "output_type": "stream",
     "text": [
      "Speed: 2.0ms preprocess, 8.0ms inference, 0.0ms postprocess per image at shape (1, 3, 480, 640)\n",
      "\n",
      "0: 480x640 (no detections), 8.5ms\n",
      "Speed: 2.0ms preprocess, 8.5ms inference, 1.0ms postprocess per image at shape (1, 3, 480, 640)\n",
      "\n",
      "0: 480x640 1 cube, 9.0ms\n",
      "Speed: 2.0ms preprocess, 9.0ms inference, 2.0ms postprocess per image at shape (1, 3, 480, 640)\n",
      "\n",
      "0: 480x640 1 cube, 8.0ms\n",
      "Speed: 2.0ms preprocess, 8.0ms inference, 3.0ms postprocess per image at shape (1, 3, 480, 640)\n",
      "\n",
      "0: 480x640 (no detections), 8.0ms\n",
      "Speed: 2.0ms preprocess, 8.0ms inference, 1.0ms postprocess per image at shape (1, 3, 480, 640)\n",
      "\n",
      "0: 480x640 (no detections), 9.0ms\n",
      "Speed: 2.0ms preprocess, 9.0ms inference, 1.0ms postprocess per image at shape (1, 3, 480, 640)\n",
      "\n",
      "0: 480x640 1 cube, 8.0ms\n"
     ]
    },
    {
     "name": "stdout",
     "output_type": "stream",
     "text": [
      "No Mask\n",
      "No Mask\n",
      "box not found\n",
      "總執行時間：0.031000 秒 ####################\n",
      "box not found\n",
      "總執行時間：0.029000 秒 ####################\n",
      "No Mask\n",
      "No Mask\n"
     ]
    },
    {
     "name": "stderr",
     "output_type": "stream",
     "text": [
      "Speed: 2.0ms preprocess, 8.0ms inference, 2.0ms postprocess per image at shape (1, 3, 480, 640)\n",
      "\n",
      "0: 480x640 1 cube, 9.0ms\n",
      "Speed: 3.0ms preprocess, 9.0ms inference, 3.0ms postprocess per image at shape (1, 3, 480, 640)\n",
      "\n",
      "0: 480x640 (no detections), 9.0ms\n",
      "Speed: 2.0ms preprocess, 9.0ms inference, 1.0ms postprocess per image at shape (1, 3, 480, 640)\n",
      "\n",
      "0: 480x640 (no detections), 8.0ms\n",
      "Speed: 2.0ms preprocess, 8.0ms inference, 1.0ms postprocess per image at shape (1, 3, 480, 640)\n",
      "\n",
      "0: 480x640 (no detections), 8.0ms\n",
      "Speed: 3.0ms preprocess, 8.0ms inference, 1.0ms postprocess per image at shape (1, 3, 480, 640)\n",
      "\n",
      "0: 480x640 (no detections), 8.0ms\n",
      "Speed: 2.0ms preprocess, 8.0ms inference, 2.0ms postprocess per image at shape (1, 3, 480, 640)\n",
      "\n"
     ]
    },
    {
     "name": "stdout",
     "output_type": "stream",
     "text": [
      "box not found\n",
      "總執行時間：0.036002 秒 ####################\n",
      "box not found\n",
      "總執行時間：0.040000 秒 ####################\n",
      "No Mask\n",
      "No Mask\n",
      "No Mask\n",
      "No Mask\n"
     ]
    },
    {
     "name": "stderr",
     "output_type": "stream",
     "text": [
      "0: 480x640 1 cube, 9.0ms\n",
      "Speed: 2.0ms preprocess, 9.0ms inference, 3.0ms postprocess per image at shape (1, 3, 480, 640)\n",
      "\n",
      "0: 480x640 1 cube, 9.0ms\n",
      "Speed: 2.0ms preprocess, 9.0ms inference, 2.0ms postprocess per image at shape (1, 3, 480, 640)\n",
      "\n",
      "0: 480x640 (no detections), 8.0ms\n",
      "Speed: 2.0ms preprocess, 8.0ms inference, 1.0ms postprocess per image at shape (1, 3, 480, 640)\n",
      "\n",
      "0: 480x640 (no detections), 8.0ms\n",
      "Speed: 2.0ms preprocess, 8.0ms inference, 1.0ms postprocess per image at shape (1, 3, 480, 640)\n",
      "\n",
      "0: 480x640 (no detections), 9.0ms\n",
      "Speed: 2.0ms preprocess, 9.0ms inference, 0.0ms postprocess per image at shape (1, 3, 480, 640)\n",
      "\n",
      "0: 480x640 (no detections), 9.0ms\n",
      "Speed: 2.0ms preprocess, 9.0ms inference, 0.0ms postprocess per image at shape (1, 3, 480, 640)\n",
      "\n",
      "0: 480x640 1 cube, 9.0ms\n",
      "Speed: 2.0ms preprocess, 9.0ms inference, 2.0ms postprocess per image at shape (1, 3, 480, 640)\n"
     ]
    },
    {
     "name": "stdout",
     "output_type": "stream",
     "text": [
      "box not found\n",
      "總執行時間：0.031002 秒 ####################\n",
      "box not found\n",
      "總執行時間：0.033000 秒 ####################\n",
      "No Mask\n",
      "No Mask\n",
      "No Mask\n",
      "No Mask\n",
      "box not found\n",
      "總執行時間：0.030000 秒 ####################\n"
     ]
    },
    {
     "name": "stderr",
     "output_type": "stream",
     "text": [
      "\n",
      "0: 480x640 1 cube, 8.0ms\n",
      "Speed: 2.0ms preprocess, 8.0ms inference, 4.0ms postprocess per image at shape (1, 3, 480, 640)\n",
      "\n",
      "0: 480x640 (no detections), 9.0ms\n",
      "Speed: 2.0ms preprocess, 9.0ms inference, 1.0ms postprocess per image at shape (1, 3, 480, 640)\n",
      "\n",
      "0: 480x640 (no detections), 8.0ms\n",
      "Speed: 2.0ms preprocess, 8.0ms inference, 1.0ms postprocess per image at shape (1, 3, 480, 640)\n",
      "\n",
      "0: 480x640 (no detections), 8.0ms\n",
      "Speed: 2.0ms preprocess, 8.0ms inference, 1.0ms postprocess per image at shape (1, 3, 480, 640)\n",
      "\n",
      "0: 480x640 (no detections), 8.0ms\n",
      "Speed: 2.0ms preprocess, 8.0ms inference, 1.0ms postprocess per image at shape (1, 3, 480, 640)\n",
      "\n",
      "0: 480x640 (no detections), 8.0ms\n",
      "Speed: 2.0ms preprocess, 8.0ms inference, 1.0ms postprocess per image at shape (1, 3, 480, 640)\n"
     ]
    },
    {
     "name": "stdout",
     "output_type": "stream",
     "text": [
      "box not found\n",
      "總執行時間：0.083514 秒 ####################\n",
      "No Mask\n",
      "No Mask\n",
      "No Mask\n",
      "No Mask\n",
      "No Mask\n"
     ]
    },
    {
     "name": "stderr",
     "output_type": "stream",
     "text": [
      "\n",
      "0: 480x640 (no detections), 8.0ms\n",
      "Speed: 2.0ms preprocess, 8.0ms inference, 2.0ms postprocess per image at shape (1, 3, 480, 640)\n",
      "\n",
      "0: 480x640 (no detections), 9.0ms\n",
      "Speed: 2.0ms preprocess, 9.0ms inference, 0.0ms postprocess per image at shape (1, 3, 480, 640)\n",
      "\n",
      "0: 480x640 (no detections), 7.0ms\n",
      "Speed: 2.0ms preprocess, 7.0ms inference, 1.0ms postprocess per image at shape (1, 3, 480, 640)\n",
      "\n",
      "0: 480x640 (no detections), 9.0ms\n",
      "Speed: 2.0ms preprocess, 9.0ms inference, 1.0ms postprocess per image at shape (1, 3, 480, 640)\n",
      "\n",
      "0: 480x640 (no detections), 9.0ms\n",
      "Speed: 2.0ms preprocess, 9.0ms inference, 0.0ms postprocess per image at shape (1, 3, 480, 640)\n",
      "\n",
      "0: 480x640 (no detections), 9.0ms\n",
      "Speed: 2.0ms preprocess, 9.0ms inference, 1.0ms postprocess per image at shape (1, 3, 480, 640)\n",
      "\n",
      "0: 480x640 (no detections), 8.0ms\n"
     ]
    },
    {
     "name": "stdout",
     "output_type": "stream",
     "text": [
      "No Mask\n",
      "No Mask\n",
      "No Mask\n",
      "No Mask\n",
      "No Mask\n",
      "No Mask\n"
     ]
    },
    {
     "name": "stderr",
     "output_type": "stream",
     "text": [
      "Speed: 2.0ms preprocess, 8.0ms inference, 0.0ms postprocess per image at shape (1, 3, 480, 640)\n",
      "\n",
      "0: 480x640 (no detections), 10.0ms\n",
      "Speed: 2.0ms preprocess, 10.0ms inference, 1.0ms postprocess per image at shape (1, 3, 480, 640)\n",
      "\n",
      "0: 480x640 (no detections), 8.0ms\n",
      "Speed: 2.0ms preprocess, 8.0ms inference, 1.0ms postprocess per image at shape (1, 3, 480, 640)\n",
      "\n",
      "0: 480x640 1 cube, 8.0ms\n",
      "Speed: 2.0ms preprocess, 8.0ms inference, 3.0ms postprocess per image at shape (1, 3, 480, 640)\n",
      "\n",
      "0: 480x640 1 cube, 9.0ms\n"
     ]
    },
    {
     "name": "stdout",
     "output_type": "stream",
     "text": [
      "No Mask\n",
      "No Mask\n",
      "No Mask\n",
      "box not found\n",
      "總執行時間：0.029998 秒 ####################\n"
     ]
    },
    {
     "name": "stderr",
     "output_type": "stream",
     "text": [
      "Speed: 2.0ms preprocess, 9.0ms inference, 2.0ms postprocess per image at shape (1, 3, 480, 640)\n",
      "\n",
      "0: 480x640 1 cube, 8.0ms\n",
      "Speed: 2.0ms preprocess, 8.0ms inference, 3.0ms postprocess per image at shape (1, 3, 480, 640)\n",
      "\n",
      "0: 480x640 (no detections), 9.0ms\n",
      "Speed: 2.0ms preprocess, 9.0ms inference, 0.0ms postprocess per image at shape (1, 3, 480, 640)\n",
      "\n",
      "0: 480x640 (no detections), 8.0ms\n",
      "Speed: 2.0ms preprocess, 8.0ms inference, 1.0ms postprocess per image at shape (1, 3, 480, 640)\n",
      "\n",
      "0: 480x640 (no detections), 9.0ms\n",
      "Speed: 2.0ms preprocess, 9.0ms inference, 1.0ms postprocess per image at shape (1, 3, 480, 640)\n",
      "\n"
     ]
    },
    {
     "name": "stdout",
     "output_type": "stream",
     "text": [
      "box not found\n",
      "總執行時間：0.033999 秒 ####################\n",
      "box not found\n",
      "總執行時間：0.042002 秒 ####################\n",
      "No Mask\n",
      "No Mask\n",
      "No Mask\n"
     ]
    },
    {
     "name": "stderr",
     "output_type": "stream",
     "text": [
      "0: 480x640 (no detections), 8.0ms\n",
      "Speed: 2.0ms preprocess, 8.0ms inference, 1.0ms postprocess per image at shape (1, 3, 480, 640)\n",
      "\n",
      "0: 480x640 (no detections), 9.0ms\n",
      "Speed: 2.0ms preprocess, 9.0ms inference, 1.0ms postprocess per image at shape (1, 3, 480, 640)\n",
      "\n",
      "0: 480x640 (no detections), 8.0ms\n",
      "Speed: 1.0ms preprocess, 8.0ms inference, 0.6ms postprocess per image at shape (1, 3, 480, 640)\n",
      "\n",
      "0: 480x640 (no detections), 8.0ms\n",
      "Speed: 2.0ms preprocess, 8.0ms inference, 1.0ms postprocess per image at shape (1, 3, 480, 640)\n",
      "\n",
      "0: 480x640 (no detections), 9.0ms\n",
      "Speed: 2.0ms preprocess, 9.0ms inference, 0.0ms postprocess per image at shape (1, 3, 480, 640)\n",
      "\n"
     ]
    },
    {
     "name": "stdout",
     "output_type": "stream",
     "text": [
      "No Mask\n",
      "No Mask\n",
      "No Mask\n",
      "No Mask\n",
      "No Mask\n"
     ]
    },
    {
     "name": "stderr",
     "output_type": "stream",
     "text": [
      "0: 480x640 (no detections), 10.0ms\n",
      "Speed: 2.0ms preprocess, 10.0ms inference, 0.6ms postprocess per image at shape (1, 3, 480, 640)\n",
      "\n",
      "0: 480x640 (no detections), 8.0ms\n",
      "Speed: 2.0ms preprocess, 8.0ms inference, 1.0ms postprocess per image at shape (1, 3, 480, 640)\n",
      "\n",
      "0: 480x640 (no detections), 9.0ms\n",
      "Speed: 2.0ms preprocess, 9.0ms inference, 0.0ms postprocess per image at shape (1, 3, 480, 640)\n",
      "\n",
      "0: 480x640 (no detections), 8.5ms\n",
      "Speed: 2.0ms preprocess, 8.5ms inference, 0.0ms postprocess per image at shape (1, 3, 480, 640)\n",
      "\n",
      "0: 480x640 (no detections), 9.0ms\n",
      "Speed: 2.0ms preprocess, 9.0ms inference, 1.0ms postprocess per image at shape (1, 3, 480, 640)\n",
      "\n",
      "0: 480x640 (no detections), 7.0ms\n",
      "Speed: 3.0ms preprocess, 7.0ms inference, 1.0ms postprocess per image at shape (1, 3, 480, 640)\n",
      "\n",
      "0: 480x640 (no detections), 8.0ms\n",
      "Speed: 2.0ms preprocess, 8.0ms inference, 1.0ms postprocess per image at shape (1, 3, 480, 640)\n",
      "\n"
     ]
    },
    {
     "name": "stdout",
     "output_type": "stream",
     "text": [
      "No Mask\n",
      "No Mask\n",
      "No Mask\n",
      "No Mask\n",
      "No Mask\n",
      "No Mask\n",
      "No Mask\n"
     ]
    },
    {
     "name": "stderr",
     "output_type": "stream",
     "text": [
      "0: 480x640 1 cube, 8.0ms\n",
      "Speed: 3.0ms preprocess, 8.0ms inference, 2.0ms postprocess per image at shape (1, 3, 480, 640)\n",
      "\n",
      "0: 480x640 1 cube, 9.0ms\n",
      "Speed: 2.0ms preprocess, 9.0ms inference, 3.0ms postprocess per image at shape (1, 3, 480, 640)\n",
      "\n",
      "0: 480x640 1 cube, 8.0ms\n",
      "Speed: 2.0ms preprocess, 8.0ms inference, 3.0ms postprocess per image at shape (1, 3, 480, 640)\n",
      "\n",
      "0: 480x640 (no detections), 8.0ms\n",
      "Speed: 2.0ms preprocess, 8.0ms inference, 1.0ms postprocess per image at shape (1, 3, 480, 640)\n",
      "\n"
     ]
    },
    {
     "name": "stdout",
     "output_type": "stream",
     "text": [
      "box not found\n",
      "總執行時間：0.030999 秒 ####################\n",
      "box not found\n",
      "總執行時間：0.062999 秒 ####################\n",
      "box not found\n",
      "總執行時間：0.044997 秒 ####################\n",
      "No Mask\n"
     ]
    },
    {
     "name": "stderr",
     "output_type": "stream",
     "text": [
      "0: 480x640 (no detections), 8.0ms\n",
      "Speed: 2.0ms preprocess, 8.0ms inference, 1.0ms postprocess per image at shape (1, 3, 480, 640)\n",
      "\n",
      "0: 480x640 (no detections), 9.0ms\n",
      "Speed: 2.0ms preprocess, 9.0ms inference, 0.0ms postprocess per image at shape (1, 3, 480, 640)\n",
      "\n",
      "0: 480x640 (no detections), 8.0ms\n",
      "Speed: 2.0ms preprocess, 8.0ms inference, 1.0ms postprocess per image at shape (1, 3, 480, 640)\n",
      "\n",
      "0: 480x640 (no detections), 8.0ms\n",
      "Speed: 2.0ms preprocess, 8.0ms inference, 1.0ms postprocess per image at shape (1, 3, 480, 640)\n",
      "\n",
      "0: 480x640 1 cube, 8.0ms\n",
      "Speed: 2.0ms preprocess, 8.0ms inference, 2.0ms postprocess per image at shape (1, 3, 480, 640)\n",
      "\n",
      "0: 480x640 1 cube, 9.0ms\n",
      "Speed: 2.0ms preprocess, 9.0ms inference, 3.0ms postprocess per image at shape (1, 3, 480, 640)\n",
      "\n"
     ]
    },
    {
     "name": "stdout",
     "output_type": "stream",
     "text": [
      "No Mask\n",
      "No Mask\n",
      "No Mask\n",
      "No Mask\n",
      "box not found\n",
      "總執行時間：0.036003 秒 ####################\n",
      "box not found\n",
      "總執行時間：0.033000 秒 ####################\n"
     ]
    },
    {
     "name": "stderr",
     "output_type": "stream",
     "text": [
      "0: 480x640 (no detections), 8.5ms\n",
      "Speed: 2.0ms preprocess, 8.5ms inference, 1.0ms postprocess per image at shape (1, 3, 480, 640)\n",
      "\n",
      "0: 480x640 1 cube, 9.0ms\n",
      "Speed: 2.0ms preprocess, 9.0ms inference, 2.0ms postprocess per image at shape (1, 3, 480, 640)\n",
      "\n",
      "0: 480x640 (no detections), 9.0ms\n",
      "Speed: 2.0ms preprocess, 9.0ms inference, 0.0ms postprocess per image at shape (1, 3, 480, 640)\n",
      "\n",
      "0: 480x640 (no detections), 8.5ms\n",
      "Speed: 2.0ms preprocess, 8.5ms inference, 0.0ms postprocess per image at shape (1, 3, 480, 640)\n",
      "\n"
     ]
    },
    {
     "name": "stdout",
     "output_type": "stream",
     "text": [
      "No Mask\n",
      "box not found\n",
      "總執行時間：0.031000 秒 ####################\n",
      "No Mask\n",
      "No Mask\n"
     ]
    },
    {
     "name": "stderr",
     "output_type": "stream",
     "text": [
      "0: 480x640 (no detections), 8.0ms\n",
      "Speed: 2.0ms preprocess, 8.0ms inference, 1.0ms postprocess per image at shape (1, 3, 480, 640)\n",
      "\n",
      "0: 480x640 (no detections), 8.0ms\n",
      "Speed: 2.0ms preprocess, 8.0ms inference, 1.0ms postprocess per image at shape (1, 3, 480, 640)\n",
      "\n",
      "0: 480x640 1 cube, 8.0ms\n",
      "Speed: 2.0ms preprocess, 8.0ms inference, 3.0ms postprocess per image at shape (1, 3, 480, 640)\n",
      "\n",
      "0: 480x640 1 cube, 8.5ms\n",
      "Speed: 2.0ms preprocess, 8.5ms inference, 3.0ms postprocess per image at shape (1, 3, 480, 640)\n",
      "\n",
      "0: 480x640 1 cube, 8.0ms\n",
      "Speed: 2.0ms preprocess, 8.0ms inference, 3.0ms postprocess per image at shape (1, 3, 480, 640)\n",
      "\n"
     ]
    },
    {
     "name": "stdout",
     "output_type": "stream",
     "text": [
      "No Mask\n",
      "No Mask\n",
      "box not found\n",
      "總執行時間：0.028306 秒 ####################\n",
      "box not found\n",
      "總執行時間：0.031513 秒 ####################\n",
      "box not found\n",
      "總執行時間：0.029000 秒 ####################\n"
     ]
    },
    {
     "name": "stderr",
     "output_type": "stream",
     "text": [
      "0: 480x640 (no detections), 8.0ms\n",
      "Speed: 2.0ms preprocess, 8.0ms inference, 1.0ms postprocess per image at shape (1, 3, 480, 640)\n",
      "\n",
      "0: 480x640 1 cube, 8.0ms\n",
      "Speed: 2.0ms preprocess, 8.0ms inference, 3.0ms postprocess per image at shape (1, 3, 480, 640)\n",
      "\n",
      "0: 480x640 1 cube, 9.0ms\n",
      "Speed: 2.0ms preprocess, 9.0ms inference, 3.0ms postprocess per image at shape (1, 3, 480, 640)\n",
      "\n",
      "0: 480x640 1 cube, 8.0ms\n",
      "Speed: 2.0ms preprocess, 8.0ms inference, 3.0ms postprocess per image at shape (1, 3, 480, 640)\n",
      "\n"
     ]
    },
    {
     "name": "stdout",
     "output_type": "stream",
     "text": [
      "No Mask\n",
      "box not found\n",
      "總執行時間：0.029999 秒 ####################\n",
      "box not found\n",
      "總執行時間：0.032999 秒 ####################\n",
      "box not found\n",
      "總執行時間：0.032027 秒 ####################\n"
     ]
    },
    {
     "name": "stderr",
     "output_type": "stream",
     "text": [
      "0: 480x640 (no detections), 9.0ms\n",
      "Speed: 2.0ms preprocess, 9.0ms inference, 0.0ms postprocess per image at shape (1, 3, 480, 640)\n",
      "\n",
      "0: 480x640 (no detections), 8.0ms\n",
      "Speed: 2.0ms preprocess, 8.0ms inference, 0.0ms postprocess per image at shape (1, 3, 480, 640)\n",
      "\n",
      "0: 480x640 (no detections), 8.0ms\n",
      "Speed: 2.0ms preprocess, 8.0ms inference, 0.0ms postprocess per image at shape (1, 3, 480, 640)\n",
      "\n",
      "0: 480x640 (no detections), 9.0ms\n",
      "Speed: 2.0ms preprocess, 9.0ms inference, 0.0ms postprocess per image at shape (1, 3, 480, 640)\n",
      "\n",
      "0: 480x640 1 cube, 8.0ms\n",
      "Speed: 2.0ms preprocess, 8.0ms inference, 3.0ms postprocess per image at shape (1, 3, 480, 640)\n",
      "\n",
      "0: 480x640 1 cube, 9.0ms\n",
      "Speed: 2.0ms preprocess, 9.0ms inference, 3.0ms postprocess per image at shape (1, 3, 480, 640)\n"
     ]
    },
    {
     "name": "stdout",
     "output_type": "stream",
     "text": [
      "No Mask\n",
      "No Mask\n",
      "No Mask\n",
      "No Mask\n",
      "box not found\n",
      "總執行時間：0.031025 秒 ####################\n"
     ]
    },
    {
     "name": "stderr",
     "output_type": "stream",
     "text": [
      "\n",
      "0: 480x640 1 cube, 8.0ms\n",
      "Speed: 2.0ms preprocess, 8.0ms inference, 3.0ms postprocess per image at shape (1, 3, 480, 640)\n",
      "\n",
      "0: 480x640 (no detections), 8.5ms\n",
      "Speed: 2.0ms preprocess, 8.5ms inference, 1.0ms postprocess per image at shape (1, 3, 480, 640)\n",
      "\n",
      "0: 480x640 (no detections), 8.0ms\n",
      "Speed: 2.0ms preprocess, 8.0ms inference, 1.0ms postprocess per image at shape (1, 3, 480, 640)\n",
      "\n",
      "0: 480x640 1 cube, 9.0ms\n"
     ]
    },
    {
     "name": "stdout",
     "output_type": "stream",
     "text": [
      "box not found\n",
      "總執行時間：0.030000 秒 ####################\n",
      "box not found\n",
      "總執行時間：0.097048 秒 ####################\n",
      "No Mask\n",
      "No Mask\n"
     ]
    },
    {
     "name": "stderr",
     "output_type": "stream",
     "text": [
      "Speed: 2.0ms preprocess, 9.0ms inference, 2.0ms postprocess per image at shape (1, 3, 480, 640)\n",
      "\n",
      "0: 480x640 1 cube, 9.0ms\n",
      "Speed: 2.0ms preprocess, 9.0ms inference, 3.0ms postprocess per image at shape (1, 3, 480, 640)\n",
      "\n",
      "0: 480x640 1 cube, 7.6ms\n",
      "Speed: 2.0ms preprocess, 7.6ms inference, 4.0ms postprocess per image at shape (1, 3, 480, 640)\n",
      "\n",
      "0: 480x640 1 cube, 8.0ms\n",
      "Speed: 2.0ms preprocess, 8.0ms inference, 2.0ms postprocess per image at shape (1, 3, 480, 640)\n",
      "\n",
      "0: 480x640 (no detections), 8.0ms\n",
      "Speed: 2.0ms preprocess, 8.0ms inference, 1.0ms postprocess per image at shape (1, 3, 480, 640)\n"
     ]
    },
    {
     "name": "stdout",
     "output_type": "stream",
     "text": [
      "box not found\n",
      "總執行時間：0.033000 秒 ####################\n",
      "box not found\n",
      "總執行時間：0.032000 秒 ####################\n",
      "box not found\n",
      "總執行時間：0.029632 秒 ####################\n",
      "box not found\n",
      "總執行時間：0.030000 秒 ####################\n",
      "No Mask\n"
     ]
    },
    {
     "name": "stderr",
     "output_type": "stream",
     "text": [
      "\n",
      "0: 480x640 1 cube, 8.0ms\n",
      "Speed: 2.0ms preprocess, 8.0ms inference, 3.0ms postprocess per image at shape (1, 3, 480, 640)\n",
      "\n",
      "0: 480x640 (no detections), 8.5ms\n",
      "Speed: 2.0ms preprocess, 8.5ms inference, 1.0ms postprocess per image at shape (1, 3, 480, 640)\n",
      "\n",
      "0: 480x640 (no detections), 9.0ms\n",
      "Speed: 2.0ms preprocess, 9.0ms inference, 1.0ms postprocess per image at shape (1, 3, 480, 640)\n",
      "\n",
      "0: 480x640 (no detections), 8.0ms\n",
      "Speed: 2.0ms preprocess, 8.0ms inference, 0.0ms postprocess per image at shape (1, 3, 480, 640)\n",
      "\n",
      "0: 480x640 (no detections), 9.0ms\n",
      "Speed: 2.0ms preprocess, 9.0ms inference, 1.0ms postprocess per image at shape (1, 3, 480, 640)\n",
      "\n"
     ]
    },
    {
     "name": "stdout",
     "output_type": "stream",
     "text": [
      "box not found\n",
      "總執行時間：0.038001 秒 ####################\n",
      "No Mask\n",
      "No Mask\n",
      "No Mask\n",
      "No Mask\n"
     ]
    },
    {
     "name": "stderr",
     "output_type": "stream",
     "text": [
      "0: 480x640 (no detections), 8.0ms\n",
      "Speed: 2.0ms preprocess, 8.0ms inference, 1.0ms postprocess per image at shape (1, 3, 480, 640)\n",
      "\n",
      "0: 480x640 1 cube, 8.0ms\n",
      "Speed: 2.0ms preprocess, 8.0ms inference, 4.0ms postprocess per image at shape (1, 3, 480, 640)\n",
      "\n",
      "0: 480x640 1 cube, 9.0ms\n",
      "Speed: 2.0ms preprocess, 9.0ms inference, 2.0ms postprocess per image at shape (1, 3, 480, 640)\n",
      "\n",
      "0: 480x640 (no detections), 7.8ms\n",
      "Speed: 2.0ms preprocess, 7.8ms inference, 1.0ms postprocess per image at shape (1, 3, 480, 640)\n",
      "\n",
      "0: 480x640 (no detections), 8.0ms\n",
      "Speed: 2.0ms preprocess, 8.0ms inference, 1.0ms postprocess per image at shape (1, 3, 480, 640)\n",
      "\n",
      "0: 480x640 (no detections), 9.0ms\n"
     ]
    },
    {
     "name": "stdout",
     "output_type": "stream",
     "text": [
      "No Mask\n",
      "box not found\n",
      "總執行時間：0.032001 秒 ####################\n",
      "box not found\n",
      "總執行時間：0.032998 秒 ####################\n",
      "No Mask\n",
      "No Mask\n"
     ]
    },
    {
     "name": "stderr",
     "output_type": "stream",
     "text": [
      "Speed: 2.0ms preprocess, 9.0ms inference, 1.0ms postprocess per image at shape (1, 3, 480, 640)\n",
      "\n",
      "0: 480x640 (no detections), 9.0ms\n",
      "Speed: 2.0ms preprocess, 9.0ms inference, 1.0ms postprocess per image at shape (1, 3, 480, 640)\n",
      "\n",
      "0: 480x640 (no detections), 9.0ms\n",
      "Speed: 2.0ms preprocess, 9.0ms inference, 0.0ms postprocess per image at shape (1, 3, 480, 640)\n",
      "\n",
      "0: 480x640 1 cube, 8.0ms\n",
      "Speed: 2.0ms preprocess, 8.0ms inference, 3.0ms postprocess per image at shape (1, 3, 480, 640)\n",
      "\n",
      "0: 480x640 (no detections), 8.0ms\n",
      "Speed: 2.0ms preprocess, 8.0ms inference, 1.0ms postprocess per image at shape (1, 3, 480, 640)\n",
      "\n",
      "0: 480x640 (no detections), 10.0ms\n",
      "Speed: 2.0ms preprocess, 10.0ms inference, 1.0ms postprocess per image at shape (1, 3, 480, 640)\n",
      "\n",
      "0: 480x640 1 cube, 9.0ms\n"
     ]
    },
    {
     "name": "stdout",
     "output_type": "stream",
     "text": [
      "No Mask\n",
      "No Mask\n",
      "No Mask\n",
      "box not found\n",
      "總執行時間：0.048042 秒 ####################\n",
      "No Mask\n",
      "No Mask\n"
     ]
    },
    {
     "name": "stderr",
     "output_type": "stream",
     "text": [
      "Speed: 2.0ms preprocess, 9.0ms inference, 3.0ms postprocess per image at shape (1, 3, 480, 640)\n",
      "\n",
      "0: 480x640 1 cube, 9.0ms\n",
      "Speed: 2.0ms preprocess, 9.0ms inference, 3.0ms postprocess per image at shape (1, 3, 480, 640)\n",
      "\n",
      "0: 480x640 (no detections), 9.0ms\n",
      "Speed: 2.0ms preprocess, 9.0ms inference, 1.0ms postprocess per image at shape (1, 3, 480, 640)\n",
      "\n",
      "0: 480x640 (no detections), 8.0ms\n",
      "Speed: 2.0ms preprocess, 8.0ms inference, 1.0ms postprocess per image at shape (1, 3, 480, 640)\n",
      "\n",
      "0: 480x640 (no detections), 9.0ms\n",
      "Speed: 2.0ms preprocess, 9.0ms inference, 1.0ms postprocess per image at shape (1, 3, 480, 640)\n",
      "\n",
      "0: 480x640 (no detections), 8.0ms\n",
      "Speed: 2.0ms preprocess, 8.0ms inference, 1.0ms postprocess per image at shape (1, 3, 480, 640)\n",
      "\n"
     ]
    },
    {
     "name": "stdout",
     "output_type": "stream",
     "text": [
      "box not found\n",
      "總執行時間：0.030003 秒 ####################\n",
      "box not found\n",
      "總執行時間：0.030998 秒 ####################\n",
      "No Mask\n",
      "No Mask\n",
      "No Mask\n",
      "No Mask\n"
     ]
    },
    {
     "name": "stderr",
     "output_type": "stream",
     "text": [
      "0: 480x640 (no detections), 8.0ms\n",
      "Speed: 2.0ms preprocess, 8.0ms inference, 1.0ms postprocess per image at shape (1, 3, 480, 640)\n",
      "\n",
      "0: 480x640 (no detections), 10.0ms\n",
      "Speed: 2.0ms preprocess, 10.0ms inference, 1.0ms postprocess per image at shape (1, 3, 480, 640)\n",
      "\n",
      "0: 480x640 (no detections), 8.0ms\n",
      "Speed: 2.0ms preprocess, 8.0ms inference, 1.0ms postprocess per image at shape (1, 3, 480, 640)\n",
      "\n",
      "0: 480x640 (no detections), 8.0ms\n",
      "Speed: 2.0ms preprocess, 8.0ms inference, 0.0ms postprocess per image at shape (1, 3, 480, 640)\n",
      "\n",
      "0: 480x640 1 cube, 8.0ms\n",
      "Speed: 2.0ms preprocess, 8.0ms inference, 3.0ms postprocess per image at shape (1, 3, 480, 640)\n",
      "\n",
      "0: 480x640 1 cube, 8.0ms\n",
      "Speed: 2.0ms preprocess, 8.0ms inference, 4.0ms postprocess per image at shape (1, 3, 480, 640)\n",
      "\n"
     ]
    },
    {
     "name": "stdout",
     "output_type": "stream",
     "text": [
      "No Mask\n",
      "No Mask\n",
      "No Mask\n",
      "No Mask\n",
      "box not found\n",
      "總執行時間：0.037001 秒 ####################\n",
      "box not found\n",
      "總執行時間：0.032000 秒 ####################\n"
     ]
    },
    {
     "name": "stderr",
     "output_type": "stream",
     "text": [
      "0: 480x640 (no detections), 8.0ms\n",
      "Speed: 2.0ms preprocess, 8.0ms inference, 1.0ms postprocess per image at shape (1, 3, 480, 640)\n",
      "\n",
      "0: 480x640 (no detections), 9.0ms\n",
      "Speed: 2.0ms preprocess, 9.0ms inference, 0.0ms postprocess per image at shape (1, 3, 480, 640)\n",
      "\n",
      "0: 480x640 (no detections), 8.0ms\n",
      "Speed: 2.0ms preprocess, 8.0ms inference, 1.0ms postprocess per image at shape (1, 3, 480, 640)\n",
      "\n",
      "0: 480x640 (no detections), 9.3ms\n",
      "Speed: 2.0ms preprocess, 9.3ms inference, 0.5ms postprocess per image at shape (1, 3, 480, 640)\n",
      "\n",
      "0: 480x640 (no detections), 9.0ms\n",
      "Speed: 2.0ms preprocess, 9.0ms inference, 1.0ms postprocess per image at shape (1, 3, 480, 640)\n",
      "\n",
      "0: 480x640 (no detections), 8.0ms\n",
      "Speed: 2.0ms preprocess, 8.0ms inference, 1.0ms postprocess per image at shape (1, 3, 480, 640)\n",
      "\n",
      "0: 480x640 (no detections), 8.0ms\n",
      "Speed: 3.0ms preprocess, 8.0ms inference, 1.0ms postprocess per image at shape (1, 3, 480, 640)\n",
      "\n"
     ]
    },
    {
     "name": "stdout",
     "output_type": "stream",
     "text": [
      "No Mask\n",
      "No Mask\n",
      "No Mask\n",
      "No Mask\n",
      "No Mask\n",
      "No Mask\n",
      "No Mask\n"
     ]
    },
    {
     "name": "stderr",
     "output_type": "stream",
     "text": [
      "0: 480x640 (no detections), 8.0ms\n",
      "Speed: 2.0ms preprocess, 8.0ms inference, 1.0ms postprocess per image at shape (1, 3, 480, 640)\n",
      "\n",
      "0: 480x640 1 cube, 8.0ms\n",
      "Speed: 2.0ms preprocess, 8.0ms inference, 3.0ms postprocess per image at shape (1, 3, 480, 640)\n",
      "\n",
      "0: 480x640 1 cube, 8.0ms\n",
      "Speed: 2.0ms preprocess, 8.0ms inference, 3.0ms postprocess per image at shape (1, 3, 480, 640)\n",
      "\n",
      "0: 480x640 1 cube, 9.0ms\n",
      "Speed: 2.0ms preprocess, 9.0ms inference, 2.0ms postprocess per image at shape (1, 3, 480, 640)\n",
      "\n",
      "0: 480x640 1 cube, 9.0ms\n",
      "Speed: 2.0ms preprocess, 9.0ms inference, 3.0ms postprocess per image at shape (1, 3, 480, 640)\n"
     ]
    },
    {
     "name": "stdout",
     "output_type": "stream",
     "text": [
      "No Mask\n",
      "box not found\n",
      "總執行時間：0.031000 秒 ####################\n",
      "box not found\n",
      "總執行時間：0.034000 秒 ####################\n",
      "box not found\n",
      "總執行時間：0.034001 秒 ####################\n",
      "box not found\n",
      "總執行時間：0.035000 秒 ####################\n"
     ]
    },
    {
     "name": "stderr",
     "output_type": "stream",
     "text": [
      "\n",
      "0: 480x640 1 cube, 9.0ms\n",
      "Speed: 2.0ms preprocess, 9.0ms inference, 2.0ms postprocess per image at shape (1, 3, 480, 640)\n",
      "\n",
      "0: 480x640 1 cube, 8.0ms\n",
      "Speed: 2.0ms preprocess, 8.0ms inference, 3.0ms postprocess per image at shape (1, 3, 480, 640)\n",
      "\n",
      "0: 480x640 1 cube, 8.0ms\n",
      "Speed: 2.0ms preprocess, 8.0ms inference, 3.0ms postprocess per image at shape (1, 3, 480, 640)\n",
      "\n",
      "0: 480x640 (no detections), 9.0ms\n",
      "Speed: 2.0ms preprocess, 9.0ms inference, 1.0ms postprocess per image at shape (1, 3, 480, 640)\n",
      "\n",
      "0: 480x640 (no detections), 8.0ms\n",
      "Speed: 3.0ms preprocess, 8.0ms inference, 0.0ms postprocess per image at shape (1, 3, 480, 640)\n",
      "\n"
     ]
    },
    {
     "name": "stdout",
     "output_type": "stream",
     "text": [
      "box not found\n",
      "總執行時間：0.057030 秒 ####################\n",
      "box not found\n",
      "總執行時間：0.032513 秒 ####################\n",
      "box not found\n",
      "總執行時間：0.031003 秒 ####################\n",
      "No Mask\n",
      "No Mask\n"
     ]
    },
    {
     "name": "stderr",
     "output_type": "stream",
     "text": [
      "0: 480x640 (no detections), 9.0ms\n",
      "Speed: 2.0ms preprocess, 9.0ms inference, 1.0ms postprocess per image at shape (1, 3, 480, 640)\n",
      "\n",
      "0: 480x640 (no detections), 8.0ms\n",
      "Speed: 2.0ms preprocess, 8.0ms inference, 1.0ms postprocess per image at shape (1, 3, 480, 640)\n",
      "\n",
      "0: 480x640 (no detections), 9.0ms\n",
      "Speed: 2.0ms preprocess, 9.0ms inference, 1.0ms postprocess per image at shape (1, 3, 480, 640)\n",
      "\n",
      "0: 480x640 (no detections), 8.0ms\n",
      "Speed: 2.0ms preprocess, 8.0ms inference, 1.0ms postprocess per image at shape (1, 3, 480, 640)\n",
      "\n",
      "0: 480x640 1 cube, 9.0ms\n",
      "Speed: 2.0ms preprocess, 9.0ms inference, 3.0ms postprocess per image at shape (1, 3, 480, 640)\n",
      "\n",
      "0: 480x640 1 cube, 8.0ms\n",
      "Speed: 2.0ms preprocess, 8.0ms inference, 3.0ms postprocess per image at shape (1, 3, 480, 640)\n"
     ]
    },
    {
     "name": "stdout",
     "output_type": "stream",
     "text": [
      "No Mask\n",
      "No Mask\n",
      "No Mask\n",
      "No Mask\n",
      "box not found\n",
      "總執行時間：0.030001 秒 ####################\n",
      "box not found\n",
      "總執行時間：0.031021 秒 ####################\n"
     ]
    }
   ],
   "source": [
    "# Loop through the video frames\n",
    "while cap.isOpened():\n",
    "    # Read a frame from the video\n",
    "    success, frame = cap.read()\n",
    "\n",
    "    if success:\n",
    "        start_total = time.time()\n",
    "        height = 600\n",
    "        scale = height / frame.shape[0]\n",
    "        frame = cv2.resize(\n",
    "            frame, None, fx=scale, fy=scale, interpolation=cv2.INTER_LINEAR\n",
    "        )\n",
    "\n",
    "        # Run YOLOv8 inference on the frame\n",
    "        results = model(frame)\n",
    "        # img = results[0].plot(labels=False, boxes=False, masks=False)\n",
    "        img = results[0].plot(labels=False, boxes=False, masks=True)\n",
    "        colors = []\n",
    "        gpu_img = cv2.cuda_GpuMat()\n",
    "        masks = results[0].masks\n",
    "        # boxes = results[0].boxes\n",
    "        if masks is None:\n",
    "            print(\"No Mask\")\n",
    "\n",
    "            cv2.imshow(\"YOLOv8 Inference\", img)\n",
    "\n",
    "            continue\n",
    "        for mask in masks:\n",
    "            segment = np.where(mask.data.cpu()[0] != 0, 255, 0).astype(np.uint8)\n",
    "            segment = cv2.resize(\n",
    "                segment, None, fx=scale, fy=scale, interpolation=cv2.INTER_LINEAR\n",
    "            )\n",
    "            offset = (segment.shape[1] - img.shape[1]) // 2\n",
    "            segment = segment[:, offset : offset + img.shape[1]]\n",
    "            masked_image = cv2.bitwise_and(img, img, mask=segment)\n",
    "            indices = np.where(segment != 0)\n",
    "            y1, y2 = min(indices[0]) - 5, max(indices[0]) + 5\n",
    "            x1, x2 = min(indices[1]) - 5, max(indices[1]) + 5\n",
    "            masked_image = masked_image[y1:y2, x1:x2]\n",
    "\n",
    "            if not ( masked_image.shape[0] > 0 and masked_image.shape[1] > 0 and masked_image is not None):\n",
    "                print(\"box not found\")\n",
    "                continue\n",
    "            # x1, y1, x2, y2 = box.xyxyn.cpu()[0].numpy()\n",
    "            # x1, x2 = map(lambda x: int(x * masked_image.shape[1]), [x1, x2])\n",
    "            # y1, y2 = map(lambda x: int(x * masked_image.shape[0]), [y1, y2])\n",
    "            # masked_image = masked_image[y1:y2, x1:x2]\n",
    "            box_scale = 300 / masked_image.shape[0]\n",
    "            masked_image = cv2.resize(masked_image, None, fx=box_scale, fy=box_scale)\n",
    "            start = time.time()\n",
    "            color, color_rgb = color_detect(masked_image)\n",
    "            end = time.time()\n",
    "\n",
    "            colors.append(color)\n",
    "\n",
    "            cv2.convertScaleAbs(masked_image, masked_image, 1, 25)\n",
    "            cv2.detailEnhance(masked_image, masked_image, 10, 0.1)\n",
    "\n",
    "            gray = cv2.cvtColor(masked_image, cv2.COLOR_BGR2GRAY)\n",
    "\n",
    "            kernel_size = 21\n",
    "            gray = cv2.GaussianBlur(gray, (kernel_size, kernel_size), 1)\n",
    "\n",
    "            cv2.edgePreservingFilter(gray, gray, 1, 120, 0.1)\n",
    "\n",
    "            sobel_x = cv2.Sobel(gray, cv2.CV_64F, 1, 0, ksize=3)\n",
    "            sobel_y = cv2.Sobel(gray, cv2.CV_64F, 0, 1, ksize=3)\n",
    "\n",
    "            # 計算梯度幅值\n",
    "            gradient_magnitude = np.sqrt(sobel_x**2 + sobel_y**2)\n",
    "\n",
    "            # 將梯度幅值轉換為8位無符號整數\n",
    "            gradient_magnitude = np.uint8(\n",
    "                255 * gradient_magnitude / np.max(gradient_magnitude)\n",
    "            )\n",
    "            # 使用Canny邊緣檢測\n",
    "            segment = segment[y1:y2, x1:x2]\n",
    "            segment = cv2.resize(segment, None, fx=box_scale, fy=box_scale)\n",
    "            contours_outer, _ = cv2.findContours(\n",
    "                segment, cv2.RETR_TREE, cv2.CHAIN_APPROX_SIMPLE\n",
    "            )\n",
    "            contour_outer = max(contours_outer, key=cv2.contourArea)\n",
    "            gradient_magnitude = cv2.drawContours(\n",
    "                gradient_magnitude, [contour_outer], -1, (255, 255, 255), 1\n",
    "            )\n",
    "\n",
    "            cv2.edgePreservingFilter(\n",
    "                gradient_magnitude, gradient_magnitude, 1, 120, 0.1\n",
    "            )\n",
    "            canny_edges = cv2.Canny(gradient_magnitude, 25, 100)\n",
    "\n",
    "            kernel = np.ones((3, 3), dtype=np.uint8)\n",
    "            canny_edges = cv2.dilate(canny_edges, kernel, iterations=2)\n",
    "\n",
    "            erode = cv2.erode(canny_edges, kernel, iterations=1)\n",
    "            contours, hierarchy = cv2.findContours(\n",
    "                erode, cv2.RETR_TREE, cv2.CHAIN_APPROX_SIMPLE\n",
    "            )\n",
    "            contour_image = np.zeros(\n",
    "                (masked_image.shape[0], masked_image.shape[1], 3), dtype=np.uint8\n",
    "            )\n",
    "            contour_image = cv2.drawContours(\n",
    "                contour_image, contours, -1, (0, 0, 255), 1\n",
    "            )\n",
    "\n",
    "            epsilon = 0.02 * cv2.arcLength(contour_outer, True)\n",
    "            outer_points = cv2.approxPolyDP(contour_outer, epsilon, True)\n",
    "            delta = 0.04 * cv2.arcLength(contour_outer, True)\n",
    "\n",
    "            # approx_image = np.zeros((masked_image.shape[0], masked_image.shape[1]), dtype=np.uint8)\n",
    "            # approx_image_correct = np.zeros(\n",
    "            #     (masked_image.shape[0], masked_image.shape[1]), dtype=np.uint8\n",
    "            # )\n",
    "\n",
    "            approx_points_pack = []\n",
    "            isClosed = True\n",
    "\n",
    "            contourArea_outer = cv2.contourArea(contour_outer)\n",
    "            epsilon_outer = 0.01 * cv2.arcLength(contour_outer, isClosed)\n",
    "\n",
    "            for i, contour in enumerate(contours):\n",
    "                if i == 0:\n",
    "                    contour = contour_outer\n",
    "                if cv2.contourArea(contour) < 0.05 * contourArea_outer:\n",
    "                    continue\n",
    "                epsilon = 0.02 * cv2.arcLength(contour, isClosed)\n",
    "                approx_points = cv2.approxPolyDP(contour, epsilon, isClosed)\n",
    "                approx_points_pack.append(approx_points)\n",
    "\n",
    "            new_approx_points_pack, update_points = correct_coordinates(\n",
    "                approx_points_pack, epsilon=epsilon_outer\n",
    "            )\n",
    "\n",
    "            for point in update_points:\n",
    "                x, y = point\n",
    "                x = int(x / box_scale) + x1\n",
    "                y = int(y / box_scale) + y1\n",
    "\n",
    "                cv2.circle(img, (x, y), 5, color_rgb, -1)  # -1 表示填滿圓圈\n",
    "\n",
    "            # print(\"執行時間：%f 秒\" % (end - start))\n",
    "        end_total = time.time()\n",
    "        print(\"總執行時間：%f 秒\" % (end_total - start_total), \"####################\")\n",
    "        # img = cv2.resize(img, None, fx=scale, fy=scale)\n",
    "        frame_number = int(1 / (end_total - start_total))\n",
    "        text = f\"[CPU] FPS: {frame_number}\"\n",
    "        cv2.putText(img, text, (10, 30), cv2.FONT_HERSHEY_SIMPLEX, 1, (255, 0, 255), 2)\n",
    "\n",
    "        cv2.imshow(\"YOLOv8 Inference\", img)\n",
    "        # cv2.imshow(\"YOLOv8 masked\", masked_image)\n",
    "        # cv2.imshow(\"YOLOv8 contour\", contour_image)\n",
    "        # Break the loop if 'q' is pressed\n",
    "        if cv2.waitKey(1) & 0xFF == ord(\"q\"):\n",
    "            break\n",
    "    else:\n",
    "        # Break the loop if the end of the video is reached\n",
    "        break\n",
    "\n",
    "# Release the video capture object and close the display window\n",
    "\n",
    "\n",
    "cv2.destroyAllWindows()"
   ]
  },
  {
   "attachments": {},
   "cell_type": "markdown",
   "metadata": {},
   "source": [
    "#### GPU version"
   ]
  },
  {
   "attachments": {},
   "cell_type": "markdown",
   "metadata": {},
   "source": [
    "Make sure you have already installed OpenCV with CUDA support."
   ]
  },
  {
   "cell_type": "code",
   "execution_count": 8,
   "metadata": {},
   "outputs": [],
   "source": [
    "# Loop through the video frames\n",
    "while cap.isOpened():\n",
    "    # Read a frame from the video\n",
    "    success, frame = cap.read()\n",
    "\n",
    "    if success:\n",
    "        start_total = time.time()\n",
    "        height = 600\n",
    "        scale = height / frame.shape[0]\n",
    "        frame = cv2.resize(\n",
    "            frame, None, fx=scale, fy=scale, interpolation=cv2.INTER_LINEAR\n",
    "        )\n",
    "\n",
    "        # Run YOLOv8 inference on the frame\n",
    "        results = model(frame)\n",
    "        img = results[0].plot(labels=False, boxes=False, masks=False)\n",
    "        img_masked = results[0].plot(labels=False, boxes=False, masks=True)\n",
    "        colors = []\n",
    "        gpu_img = cv2.cuda_GpuMat()\n",
    "        masks = results[0].masks\n",
    "        boxes = results[0].boxes\n",
    "\n",
    "        for mask, box in zip(masks, boxes):\n",
    "            segment = np.where(mask.data.cpu()[0] != 0, 255, 0).astype(np.uint8)\n",
    "            segment = cv2.resize(segment, None, fx=scale, fy=scale)\n",
    "            offset = (segment.shape[1] - img.shape[1]) // 2\n",
    "            segment = segment[:, offset : offset + img.shape[1]]\n",
    "            masked_image = cv2.bitwise_and(img, img, mask=segment)\n",
    "            x1, y1, x2, y2 = box.xyxyn.cpu()[0].numpy()\n",
    "            x1, x2 = map(lambda x: int(x * masked_image.shape[1]), [x1, x2])\n",
    "            y1, y2 = map(lambda x: int(x * masked_image.shape[0]), [y1, y2])\n",
    "            masked_image = masked_image[y1:y2, x1:x2]\n",
    "            box_scale = 300 / masked_image.shape[0]\n",
    "            masked_image = cv2.resize(masked_image, None, fx=box_scale, fy=box_scale)\n",
    "            start = time.time()\n",
    "            color, color_rgb = color_detect(masked_image)\n",
    "            end = time.time()\n",
    "\n",
    "            colors.append(color)\n",
    "\n",
    "            cv2.convertScaleAbs(masked_image, masked_image, 1, 25)\n",
    "\n",
    "            gray = cv2.cvtColor(masked_image, cv2.COLOR_BGR2GRAY)\n",
    "\n",
    "            kernel_size = 21\n",
    "            gray = cv2.GaussianBlur(gray, (kernel_size, kernel_size), 1)\n",
    "            gpu_img.upload(gray)\n",
    "            # cv2.cuda.fastNlMeansDenoising(gpu_img,10,gpu_img,7,21)\n",
    "            gpu_img = cv2.cuda.bilateralFilter(gpu_img, 40, 10, 20)\n",
    "            gray = gpu_img.download()\n",
    "\n",
    "            gpu_img.upload(gray)\n",
    "            # 雙邊濾波\n",
    "            sobel_x = sobelFilterX.apply(gpu_img).download()\n",
    "            sobel_y = sobelFilterY.apply(gpu_img).download()\n",
    "\n",
    "            # 計算梯度幅值\n",
    "            gradient_magnitude = np.sqrt(sobel_x**2 + sobel_y**2)\n",
    "\n",
    "            # 將梯度幅值轉換為8位無符號整數\n",
    "            gradient_magnitude = np.uint8(\n",
    "                255 * gradient_magnitude / np.max(gradient_magnitude)\n",
    "            )\n",
    "        \n",
    "            segment = segment[y1:y2, x1:x2]\n",
    "            segment = cv2.resize(segment, None, fx=box_scale, fy=box_scale)\n",
    "            contours_outer, _ = cv2.findContours(\n",
    "                segment, cv2.RETR_TREE, cv2.CHAIN_APPROX_SIMPLE\n",
    "            )\n",
    "            contour_outer = max(contours_outer, key=cv2.contourArea)\n",
    "            gradient_magnitude = cv2.drawContours(\n",
    "                gradient_magnitude, [contour_outer], -1, (255, 255, 255), 2\n",
    "            )\n",
    "\n",
    "            gpu_img.upload(gradient_magnitude)\n",
    "            gpu_img = cv2.cuda.bilateralFilter(gpu_img, 5, 10, 20)\n",
    "            gradient_magnitude = gpu_img.download()\n",
    "\n",
    "            canny_edges = cv2.Canny(gradient_magnitude, 25, 100)\n",
    "\n",
    "            kernel = np.ones((3, 3), dtype=np.uint8)\n",
    "            canny_edges = cv2.dilate(canny_edges, kernel, iterations=2)\n",
    "\n",
    "            erode = cv2.erode(canny_edges, kernel, iterations=1)\n",
    "            contours, hierarchy = cv2.findContours(\n",
    "                erode, cv2.RETR_TREE, cv2.CHAIN_APPROX_SIMPLE\n",
    "            )\n",
    "            contour_image = np.zeros(\n",
    "                (masked_image.shape[0], masked_image.shape[1], 3), dtype=np.uint8\n",
    "            )\n",
    "            contour_image = cv2.drawContours(\n",
    "                contour_image, contours, -1, (0, 0, 255), 1\n",
    "            )\n",
    "\n",
    "            epsilon = 0.02 * cv2.arcLength(contour_outer, True)\n",
    "            outer_points = cv2.approxPolyDP(contour_outer, epsilon, True)\n",
    "            delta = 0.04 * cv2.arcLength(contour_outer, True)\n",
    "\n",
    "            approx_points_pack = []\n",
    "            isClosed = True\n",
    "\n",
    "            contourArea_outer = cv2.contourArea(contour_outer)\n",
    "            epsilon_outer = 0.01 * cv2.arcLength(contour_outer, isClosed)\n",
    "\n",
    "            for i, contour in enumerate(contours):\n",
    "                if i == 0:\n",
    "                    contour = contour_outer\n",
    "                if cv2.contourArea(contour) < 0.05 * contourArea_outer:\n",
    "                    continue\n",
    "                epsilon = 0.02 * cv2.arcLength(contour, isClosed)\n",
    "                approx_points = cv2.approxPolyDP(contour, epsilon, isClosed)\n",
    "                approx_points_pack.append(approx_points)\n",
    "\n",
    "            new_approx_points_pack, update_points = correct_coordinates(\n",
    "                approx_points_pack, epsilon=epsilon_outer\n",
    "            )\n",
    "\n",
    "            for point in update_points:\n",
    "                x, y = point\n",
    "                x = int(x / box_scale) + x1\n",
    "                y = int(y / box_scale) + y1\n",
    "\n",
    "                cv2.circle(img, (x, y), 5, color_rgb, -1)  # -1 表示填滿圓圈\n",
    "\n",
    "            # print(\"執行時間：%f 秒\" % (end - start))\n",
    "        end_total = time.time()\n",
    "        print(\"總執行時間：%f 秒\" % (end_total - start_total), \"####################\")\n",
    "        img = cv2.resize(img, None, fx=scale, fy=scale)\n",
    "        frame_number = int(1 / (end_total - start_total))\n",
    "        text = f\"[GPU] FPS: {frame_number}\"\n",
    "        cv2.putText(img, text, (10, 30), cv2.FONT_HERSHEY_SIMPLEX, 1, (0, 255, 0), 2)\n",
    "\n",
    "        cv2.imshow(\"Inference\", img)\n",
    "        cv2.imshow(\"masked\", masked_image)\n",
    "        cv2.imshow(\"contour\", contour_image)\n",
    "        # Break the loop if 'q' is pressed\n",
    "        if cv2.waitKey(1) & 0xFF == ord(\"q\"):\n",
    "            break\n",
    "    else:\n",
    "        # Break the loop if the end of the video is reached\n",
    "        break\n",
    "\n",
    "cv2.destroyAllWindows()\n"
   ]
  }
 ],
 "metadata": {
  "kernelspec": {
   "display_name": "cleanEnv",
   "language": "python",
   "name": "python3"
  },
  "language_info": {
   "codemirror_mode": {
    "name": "ipython",
    "version": 3
   },
   "file_extension": ".py",
   "mimetype": "text/x-python",
   "name": "python",
   "nbconvert_exporter": "python",
   "pygments_lexer": "ipython3",
   "version": "3.11.3"
  },
  "orig_nbformat": 4
 },
 "nbformat": 4,
 "nbformat_minor": 2
}
