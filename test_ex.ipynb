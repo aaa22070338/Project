{
 "cells": [
  {
   "cell_type": "code",
   "execution_count": 1,
   "metadata": {},
   "outputs": [
    {
     "name": "stdout",
     "output_type": "stream",
     "text": [
      "True\n"
     ]
    }
   ],
   "source": [
    "from ultralytics import YOLO\n",
    "import numpy as np\n",
    "import cv2\n",
    "import pickle\n",
    "import catcher_ex as CT\n",
    "import torch\n",
    "import SaveSystem_by_grip\n",
    "\n",
    "print(torch.cuda.is_available())\n",
    "Save_2_grip = SaveSystem_by_grip.save_system()\n",
    "\n",
    "surface_model = YOLO(\"cube_surface_seg2.pt\")\n",
    "cube_model = YOLO(\"yolov8n-seg-custom.pt\")\n",
    "color_model = YOLO(\"cube_color.pt\")\n",
    "\n",
    "with open('./hand_matrix/calibration.pkl', 'rb') as file:\n",
    "    camera_matrix, dist_coeff = pickle.load(file)\n",
    "    \n",
    "CT = CT.block_detect(surface_model, cube_model)"
   ]
  },
  {
   "cell_type": "code",
   "execution_count": null,
   "metadata": {},
   "outputs": [],
   "source": [
    "#抓圖片\n",
    "img = cv2.imread(\"./images/img0.png\")\n",
    "\n",
    "object_points = np.array([\n",
    "    [0,0,0],#1\n",
    "    [0,25,0],#2\n",
    "    [25,25,0],#3\n",
    "    [25,0,0],#4\n",
    "    [0,0,25],#5\n",
    "    [0,25,25],#6\n",
    "    [25,25,25],#7\n",
    "    [25,0,25],#8\n",
    "], dtype=np.float32)\n",
    "\n",
    "text_offset = 34\n",
    "vertical_offset = 0\n",
    "# text_img = np.zeros((img.shape[0], img.shape[1], 3), dtype=np.uint8)\n",
    "for image_points in CT.detect_parts(img):\n",
    "    # image_points = np.array(image_points, dtype=np.float32)\n",
    "    for color_name, rgb in CT.get_color_text(img):\n",
    "        image_points = np.float32(image_points)\n",
    "        retval, rvec, tvec = cv2.solvePnP(object_points[:4], image_points, camera_matrix, dist_coeff)\n",
    "        x = tvec[0]\n",
    "        y = tvec[1]\n",
    "        z = tvec[2]\n",
    "        rotation_matrix, _ = cv2.Rodrigues(rvec)\n",
    "        # 使用旋转矩阵计算欧拉角（roll-pitch-yaw 顺序）\n",
    "        yaw = np.arctan2(rotation_matrix[1, 0], rotation_matrix[0, 0])\n",
    "        pitch = np.arctan2(\n",
    "            -rotation_matrix[2, 0],\n",
    "            np.sqrt(rotation_matrix[2, 1] ** 2 + rotation_matrix[2, 2] ** 2),\n",
    "        )\n",
    "        roll = np.arctan2(rotation_matrix[2, 1], rotation_matrix[2, 2])\n",
    "        # 将弧度转换为度数\n",
    "        rz = np.degrees(yaw)\n",
    "        ry = np.degrees(pitch)\n",
    "        rx = np.degrees(roll)\n",
    "        RotationZ = np.array([rz])\n",
    "        text_loc_tvec = (5, 15 + vertical_offset)\n",
    "        text_loc_rvec = (5, 32 + vertical_offset)\n",
    "        text_loc_check = (400, 15 + vertical_offset)\n",
    "        # print(color_name)\n",
    "        # print(f\"{x=}\")\n",
    "        # print(f\"{y=}\")\n",
    "        # print(f\"{rx=}\")\n",
    "        xyz_str = [f\"{c}: {v[0]:.2f}\" for c, v in zip(\"xyz\", [x, y, z])]\n",
    "        cv2.putText(img, f\"{color_name} {', '.join(xyz_str)}\", text_loc_tvec, cv2.FONT_HERSHEY_SIMPLEX, 0.5, rgb, 2)\n",
    "        cv2.putText(img, f\"Rotate Z: {rz:.1f},   Rotate Y: {ry:.1f},   Rotate X: {rx:.1f}\", text_loc_rvec, cv2.FONT_HERSHEY_SIMPLEX, 0.5, rgb, 2)\n",
    "        if -10 < x < 10 and -10 < y < 10:\n",
    "            cv2.putText(img, \"OK\", text_loc_check, cv2.FONT_HERSHEY_SIMPLEX, 0.5, (0, 255, 0), 2)\n",
    "        else:\n",
    "            cv2.putText(img, \"Moving\", text_loc_check, cv2.FONT_HERSHEY_SIMPLEX, 0.5, (0, 0, 255) ,2)\n",
    "        cv2.circle(img, (int(x[0]), int(y[0])), 5, (0, 0, 255), -1)\n",
    "        vertical_offset += 34\n",
    "\n",
    "cv2.imshow('img', img)\n",
    "cv2.waitKey(0)\n",
    "cv2.destroyAllWindows()"
   ]
  },
  {
   "cell_type": "code",
   "execution_count": 2,
   "metadata": {},
   "outputs": [],
   "source": [
    "lens = cv2.VideoCapture(0,cv2.CAP_DSHOW)"
   ]
  },
  {
   "cell_type": "code",
   "execution_count": 5,
   "metadata": {},
   "outputs": [],
   "source": [
    "lens.release()"
   ]
  },
  {
   "cell_type": "code",
   "execution_count": 4,
   "metadata": {},
   "outputs": [],
   "source": [
    "object_points = np.array(\n",
    "    [   [-25, -25, 0],  # 1\n",
    "        [-25, 25, 0],  # 2\n",
    "        [25, 25, 0],  # 3\n",
    "        [25, -25, 0],  # 4\n",
    "    ], dtype=np.float32)\n",
    "\n",
    "Save_2_grip.reset()\n",
    "\n",
    "offset_x = 0\n",
    "offset_y = 0\n",
    "\n",
    "while True:\n",
    "    ret, img = lens.read()\n",
    "    if not ret:\n",
    "        break\n",
    "    vertical_offset = 0\n",
    "    for image_points in CT.detect_parts(img):\n",
    "        for color_name, rgb in CT.get_color_text(img):\n",
    "            image_points = np.float32(image_points)\n",
    "            retval, rvec, tvec = cv2.solvePnP(object_points[:4], image_points, camera_matrix, dist_coeff)\n",
    "            if not retval:\n",
    "                break\n",
    "            x = tvec[0] - offset_x\n",
    "            y = tvec[1] - offset_y\n",
    "            z = tvec[2]\n",
    "            rotation_matrix, _ = cv2.Rodrigues(rvec)\n",
    "            # 使用旋转矩阵计算欧拉角（roll-pitch-yaw 顺序）\n",
    "            yaw = np.arctan2(rotation_matrix[1, 0], rotation_matrix[0, 0])\n",
    "            pitch = np.arctan2(-rotation_matrix[2, 0],np.sqrt(rotation_matrix[2, 1] ** 2 + rotation_matrix[2, 2] ** 2))\n",
    "            roll = np.arctan2(rotation_matrix[2, 1], rotation_matrix[2, 2])\n",
    "            # 将弧度转换为度数\n",
    "            rz = np.degrees(yaw)\n",
    "            ry = np.degrees(pitch)\n",
    "            rx = np.degrees(roll)\n",
    "            RotationZ = np.array([rz])\n",
    "            text_loc_tvec = (5, 15 + vertical_offset)\n",
    "            text_loc_rvec = (5, 32 + vertical_offset)\n",
    "            text_loc_check = (400, 15 + vertical_offset)\n",
    "\n",
    "            Save_2_grip.save_coordinate_by_color(color_name, x, y,RotationZ, 10)\n",
    "            xyz_str = [f\"{c}: {v[0]:.2f}\" for c, v in zip(\"xyz\", [x, y, z])]\n",
    "            cv2.putText(img, f\"{color_name} {', '.join(xyz_str)}\", text_loc_tvec, cv2.FONT_HERSHEY_SIMPLEX, 0.5, rgb, 2)\n",
    "            cv2.putText(img, f\"Rotate Z: {rz:.1f},   Rotate Y: {ry:.1f},   Rotate X: {rx:.1f}\", text_loc_rvec, cv2.FONT_HERSHEY_SIMPLEX, 0.5, rgb, 2)\n",
    "            if -10 < x < 10 and -10 < y < 10:\n",
    "                cv2.putText(img, \"OK\", text_loc_check, cv2.FONT_HERSHEY_SIMPLEX, 0.5, (0, 255, 0), 2)\n",
    "            else:\n",
    "                cv2.putText(img, \"Moving\", text_loc_check, cv2.FONT_HERSHEY_SIMPLEX, 0.5, (0, 0, 255) ,2)\n",
    "            vertical_offset += 34\n",
    "\n",
    "    else:\n",
    "        pass\n",
    "    cv2.imshow(\"test\", img)\n",
    "    key = cv2.waitKey(1)\n",
    "    if key == 27:\n",
    "        break\n",
    "cv2.destroyAllWindows()"
   ]
  },
  {
   "cell_type": "code",
   "execution_count": null,
   "metadata": {},
   "outputs": [],
   "source": [
    "import cv2\n",
    "from ultralytics import YOLO\n",
    "\n",
    "model = YOLO('./cube_color.pt')\n",
    "cap = cv2.VideoCapture(1,cv2.CAP_DSHOW)\n",
    "while cap.isOpened():\n",
    "    success, frame = cap.read()\n",
    "    if success:\n",
    "        # Run YOLOv8 inference on the frame\n",
    "        results = model(frame,conf=0.8)\n",
    "        color = None\n",
    "        if results == None:\n",
    "            continue\n",
    "        for result in results:\n",
    "            for box in result.boxes:\n",
    "                if box[0] == 0:\n",
    "                    color = \"red\"\n",
    "                elif box[0] == 1:\n",
    "                    color = \"black\"\n",
    "                elif box[0] == 2:\n",
    "                    color = \"yellow\"\n",
    "                elif box[0] == 3:\n",
    "                    color = \"green\"\n",
    "                elif box[0] == 4:\n",
    "                    color = \"purple\"\n",
    "                print(box[0])\n",
    "                print(color)\n",
    "                annotated_frame = results[0].plot(labels=True, verbose = False)\n",
    "\n",
    "\n",
    "        cv2.imshow(\"YOLOv8 Inference\", annotated_frame)\n",
    "        if cv2.waitKey(1) & 0xFF == ord(\"q\"):\n",
    "            break\n",
    "    else:\n",
    "        break\n",
    "\n",
    "\n",
    "cap.release()\n",
    "cv2.destroyAllWindows()"
   ]
  },
  {
   "cell_type": "code",
   "execution_count": 3,
   "metadata": {},
   "outputs": [
    {
     "name": "stderr",
     "output_type": "stream",
     "text": [
      "\n",
      "0: 480x640 (no detections), 66.1ms\n",
      "Speed: 2.0ms preprocess, 66.1ms inference, 1.0ms postprocess per image at shape (1, 3, 480, 640)\n"
     ]
    },
    {
     "ename": "NameError",
     "evalue": "name 'annotated_frame' is not defined",
     "output_type": "error",
     "traceback": [
      "\u001b[1;31m---------------------------------------------------------------------------\u001b[0m",
      "\u001b[1;31mNameError\u001b[0m                                 Traceback (most recent call last)",
      "Cell \u001b[1;32mIn[3], line 27\u001b[0m\n\u001b[0;32m     23\u001b[0m             color \u001b[38;5;241m=\u001b[39m \u001b[38;5;124m\"\u001b[39m\u001b[38;5;124mpurple\u001b[39m\u001b[38;5;124m\"\u001b[39m\n\u001b[0;32m     25\u001b[0m         annotated_frame \u001b[38;5;241m=\u001b[39m results[\u001b[38;5;241m0\u001b[39m]\u001b[38;5;241m.\u001b[39mplot(labels\u001b[38;5;241m=\u001b[39m\u001b[38;5;28;01mTrue\u001b[39;00m, verbose \u001b[38;5;241m=\u001b[39m \u001b[38;5;28;01mFalse\u001b[39;00m)\n\u001b[1;32m---> 27\u001b[0m cv2\u001b[38;5;241m.\u001b[39mimshow(\u001b[38;5;124m\"\u001b[39m\u001b[38;5;124mYOLOv8 Inference\u001b[39m\u001b[38;5;124m\"\u001b[39m, \u001b[43mannotated_frame\u001b[49m)\n\u001b[0;32m     28\u001b[0m cv2\u001b[38;5;241m.\u001b[39mwaitKey(\u001b[38;5;241m0\u001b[39m)\n\u001b[0;32m     29\u001b[0m cv2\u001b[38;5;241m.\u001b[39mdestroyAllWindows()\n",
      "\u001b[1;31mNameError\u001b[0m: name 'annotated_frame' is not defined"
     ]
    }
   ],
   "source": [
    "import cv2\n",
    "from ultralytics import YOLO\n",
    "img = cv2.imread(\"./images/img0.png\")\n",
    "\n",
    "model = YOLO('./cube_color.pt')\n",
    "\n",
    "results = model(img,conf=0.9)\n",
    "color = None\n",
    "\n",
    "for result in results:\n",
    "    for box in result.boxes:\n",
    "        if box.cls.cpu().numpy()[0] == 0:\n",
    "            color = \"red\"\n",
    "        elif box.cls.cpu().numpy()[0] == 1:\n",
    "            color = \"black\"\n",
    "            print(color)\n",
    "            print(box.cls.cpu().numpy()[0])\n",
    "        elif box.cls.cpu().numpy()[0] == 2:\n",
    "            color = \"yellow\"\n",
    "        elif box.cls.cpu().numpy()[0] == 3:\n",
    "            color = \"green\"\n",
    "        elif box.cls.cpu().numpy()[0] == 4:\n",
    "            color = \"purple\"\n",
    "\n",
    "        annotated_frame = results[0].plot(labels=True, verbose = False)\n",
    "\n",
    "cv2.imshow(\"YOLOv8 Inference\", annotated_frame)\n",
    "cv2.waitKey(0)\n",
    "cv2.destroyAllWindows()\n"
   ]
  },
  {
   "cell_type": "code",
   "execution_count": 11,
   "metadata": {},
   "outputs": [
    {
     "name": "stdout",
     "output_type": "stream",
     "text": [
      "<class 'str'>\n"
     ]
    }
   ],
   "source": [
    "series = [\"green\", \"yellow\"]\n",
    "\n",
    "color = \"green\"\n",
    "\n",
    "\n",
    "print(type(color))\n",
    "\n"
   ]
  },
  {
   "cell_type": "code",
   "execution_count": 13,
   "metadata": {},
   "outputs": [
    {
     "data": {
      "text/plain": [
       "<__main__.save_system at 0x2f133480910>"
      ]
     },
     "execution_count": 13,
     "metadata": {},
     "output_type": "execute_result"
    }
   ],
   "source": [
    "class save_system:\n",
    "    def __init__(self, series) -> None:\n",
    "        self.series = series\n",
    "        self.color_set = set()\n",
    "        for i in range(len(self.series)):\n",
    "            setattr(self, f\"color_{i}\", False)\n",
    "\n",
    "    def save(self):\n",
    "        if(len(self.color_set) == len(self.series)):\n",
    "            return print(\"complete save\")\n",
    "        \n",
    "        for i in range(len(self.series)):\n",
    "            if (sum(1 for line in open(\"SaveCoor_environment.txt\") if line.startswith(self.series[i])) >= 1):\n",
    "                setattr(self, f\"color_{i}\", True)\n",
    "                self.color_set.add(f\"color_{i}\")\n",
    "\n",
    "series = [\"green\", \"yellow\"]\n",
    "save_system(series)"
   ]
  }
 ],
 "metadata": {
  "kernelspec": {
   "display_name": "yolov8_segmentation",
   "language": "python",
   "name": "python3"
  },
  "language_info": {
   "codemirror_mode": {
    "name": "ipython",
    "version": 3
   },
   "file_extension": ".py",
   "mimetype": "text/x-python",
   "name": "python",
   "nbconvert_exporter": "python",
   "pygments_lexer": "ipython3",
   "version": "3.10.12"
  },
  "orig_nbformat": 4
 },
 "nbformat": 4,
 "nbformat_minor": 2
}
