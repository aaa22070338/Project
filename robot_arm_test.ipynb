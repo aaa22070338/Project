{
 "cells": [
  {
   "cell_type": "code",
   "execution_count": 23,
   "metadata": {},
   "outputs": [
    {
     "name": "stdout",
     "output_type": "stream",
     "text": [
      "夾爪已移動至:  [500.000188743507, 199.999691474004, 600.000471117018, -179.999891797795, -8.42932699366608e-05, -59.999957793261]\n",
      "夾爪已移動至:  [-99.9999210141078, 460.000425411421, 400.001153001586, -179.999740089795, -2.19434887928076e-05, 0.000102692449871201]\n",
      "夾爪已移動至:  []\n"
     ]
    },
    {
     "data": {
      "text/plain": [
       "<robot.robot.robotic_arm at 0x7f2f05ad9c10>"
      ]
     },
     "execution_count": 23,
     "metadata": {},
     "output_type": "execute_result"
    }
   ],
   "source": [
    "import robot.robot as bot\n",
    "import socket\n",
    "\n",
    "TCP_IP = \"192.168.0.1\"  #  Robot IP address. Start the TCP server from the robot before starting this code\n",
    "TCP_PORT = 3000  #  Robot Port\n",
    "BUFFER_SIZE = 1024  #  Buffer size of the channel, probably 1024 or 4096\n",
    "\n",
    "gripper_port = '/dev/ttyUSB2'  # gripper USB port to linux\n",
    "# gripper_port = \"COM8\"  # gripper USB port to windows\n",
    "\n",
    "global c\n",
    "c = socket.socket(socket.AF_INET, socket.SOCK_STREAM)  #  Initialize the communication the robot through TCP as a client, the robot is the server.\n",
    "#  Connect the ethernet cable to the robot electric box first\n",
    "c.connect((TCP_IP, TCP_PORT))\n",
    "\n",
    "arm = bot.robotic_arm(gripper_port,c)\n",
    "arm.set_arm_sleep_time(0.05)\n",
    "arm.set_girpper_sleep_time(0.75)\n",
    "# arm.move_to([500,200,400,-180,0,0])\n",
    "# arm.grip_activate()\n",
    "# arm.move_to_origin()\n",
    "# arm.grip_move(128, 255, 128)\n",
    "# arm.stay()\n",
    "# arm.move_to([500,200,400,-180,0,0])\n",
    "# arm.move_to_origin()\n",
    "# arm.move_to([500,200,400,-180,0,0])\n",
    "arm.move_to_origin()\n",
    "arm.grip_complete_open()\n",
    "arm.move_to([-100,460,400,-180,0,0])\n",
    "\n",
    "arm.terminate()"
   ]
  }
 ],
 "metadata": {
  "kernelspec": {
   "display_name": "Python 3",
   "language": "python",
   "name": "python3"
  },
  "language_info": {
   "codemirror_mode": {
    "name": "ipython",
    "version": 3
   },
   "file_extension": ".py",
   "mimetype": "text/x-python",
   "name": "python",
   "nbconvert_exporter": "python",
   "pygments_lexer": "ipython3",
   "version": "3.11.4"
  },
  "orig_nbformat": 4
 },
 "nbformat": 4,
 "nbformat_minor": 2
}
