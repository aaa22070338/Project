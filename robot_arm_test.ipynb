{
 "cells": [
  {
   "cell_type": "code",
   "execution_count": 21,
   "metadata": {},
   "outputs": [
    {
     "name": "stdout",
     "output_type": "stream",
     "text": [
      "請先連接到手臂網路\n",
      "請先連接到手臂網路\n"
     ]
    },
    {
     "ename": "SerialException",
     "evalue": "could not open port '/dev/ttyUSB2': FileNotFoundError(2, 'The system cannot find the path specified.', None, 3)",
     "output_type": "error",
     "traceback": [
      "\u001b[1;31m---------------------------------------------------------------------------\u001b[0m",
      "\u001b[1;31mSerialException\u001b[0m                           Traceback (most recent call last)",
      "Cell \u001b[1;32mIn[21], line 29\u001b[0m\n\u001b[0;32m     27\u001b[0m arm\u001b[39m.\u001b[39mmove_to_origin()\n\u001b[0;32m     28\u001b[0m arm\u001b[39m.\u001b[39mmove_to(x\u001b[39m=\u001b[39m\u001b[39m500\u001b[39m, y\u001b[39m=\u001b[39m\u001b[39m200\u001b[39m, z\u001b[39m=\u001b[39m\u001b[39m400\u001b[39m, rx\u001b[39m=\u001b[39m\u001b[39m-\u001b[39m\u001b[39m180\u001b[39m)\n\u001b[1;32m---> 29\u001b[0m arm\u001b[39m.\u001b[39;49mgrip_complete_open()\n\u001b[0;32m     30\u001b[0m arm\u001b[39m.\u001b[39mmove_to([\u001b[39m-\u001b[39m\u001b[39m100\u001b[39m,\u001b[39m460\u001b[39m,\u001b[39m400\u001b[39m,\u001b[39m-\u001b[39m\u001b[39m180\u001b[39m,\u001b[39m0\u001b[39m,\u001b[39m0\u001b[39m])\n\u001b[0;32m     32\u001b[0m arm\u001b[39m.\u001b[39mterminate()\n",
      "File \u001b[1;32mf:\\Coding\\project\\cube_loaction_detect_git\\robot\\robot.py:119\u001b[0m, in \u001b[0;36mrobotic_arm.grip_complete_open\u001b[1;34m(self)\u001b[0m\n\u001b[0;32m    118\u001b[0m \u001b[39mdef\u001b[39;00m \u001b[39mgrip_complete_open\u001b[39m(\u001b[39mself\u001b[39m):\n\u001b[1;32m--> 119\u001b[0m     gripMove(\u001b[39m0\u001b[39;49m, \u001b[39m255\u001b[39;49m, \u001b[39m255\u001b[39;49m, \u001b[39mself\u001b[39;49m\u001b[39m.\u001b[39;49mgripper_port, \u001b[39mself\u001b[39;49m\u001b[39m.\u001b[39;49mgripper_sleep_time)\n\u001b[0;32m    120\u001b[0m     \u001b[39mreturn\u001b[39;00m \u001b[39mself\u001b[39m\n",
      "File \u001b[1;32mf:\\Coding\\project\\cube_loaction_detect_git\\robot\\helpers.py:45\u001b[0m, in \u001b[0;36mgripMove\u001b[1;34m(postion, velocity, force, COM, sleep_time)\u001b[0m\n\u001b[0;32m     40\u001b[0m activation_request \u001b[39m=\u001b[39m serial\u001b[39m.\u001b[39mto_bytes(\n\u001b[0;32m     41\u001b[0m     [\u001b[39m0x09\u001b[39m, \u001b[39m0x10\u001b[39m, \u001b[39m0x03\u001b[39m, \u001b[39m0xE8\u001b[39m, \u001b[39m0x00\u001b[39m, \u001b[39m0x03\u001b[39m, \u001b[39m0x06\u001b[39m, \u001b[39m0x00\u001b[39m, \u001b[39m0x00\u001b[39m, \u001b[39m0x00\u001b[39m, \u001b[39m0x00\u001b[39m, \u001b[39m0x00\u001b[39m, \u001b[39m0x00\u001b[39m, \u001b[39m0x73\u001b[39m, \u001b[39m0xA9\u001b[39m])\u001b[39m#A9\u001b[39;00m\n\u001b[0;32m     42\u001b[0m command \u001b[39m=\u001b[39m serial\u001b[39m.\u001b[39mto_bytes(\n\u001b[0;32m     43\u001b[0m     [\u001b[39m0x09\u001b[39m, \u001b[39m0x10\u001b[39m, \u001b[39m0x03\u001b[39m, \u001b[39m0xE8\u001b[39m, \u001b[39m0x00\u001b[39m, \u001b[39m0x03\u001b[39m, \u001b[39m0x06\u001b[39m, \u001b[39m0x09\u001b[39m, \u001b[39m0x00\u001b[39m, \u001b[39m0x00\u001b[39m, postion, velocity, force, crc[\u001b[39m0\u001b[39m], crc[\u001b[39m1\u001b[39m]])\n\u001b[1;32m---> 45\u001b[0m ser \u001b[39m=\u001b[39m serial\u001b[39m.\u001b[39;49mSerial(port\u001b[39m=\u001b[39;49mCOM, baudrate\u001b[39m=\u001b[39;49m\u001b[39m115200\u001b[39;49m, timeout\u001b[39m=\u001b[39;49m\u001b[39m1\u001b[39;49m,\n\u001b[0;32m     46\u001b[0m                     parity\u001b[39m=\u001b[39;49mserial\u001b[39m.\u001b[39;49mPARITY_NONE, stopbits\u001b[39m=\u001b[39;49mserial\u001b[39m.\u001b[39;49mSTOPBITS_ONE,\n\u001b[0;32m     47\u001b[0m                     bytesize\u001b[39m=\u001b[39;49mserial\u001b[39m.\u001b[39;49mEIGHTBITS)\n\u001b[0;32m     49\u001b[0m ser\u001b[39m.\u001b[39mwrite(activation_request)\n\u001b[0;32m     50\u001b[0m time\u001b[39m.\u001b[39msleep(sleep_time)\n",
      "File \u001b[1;32mc:\\Python311\\Lib\\site-packages\\serial\\serialwin32.py:33\u001b[0m, in \u001b[0;36mSerial.__init__\u001b[1;34m(self, *args, **kwargs)\u001b[0m\n\u001b[0;32m     31\u001b[0m \u001b[39mself\u001b[39m\u001b[39m.\u001b[39m_overlapped_read \u001b[39m=\u001b[39m \u001b[39mNone\u001b[39;00m\n\u001b[0;32m     32\u001b[0m \u001b[39mself\u001b[39m\u001b[39m.\u001b[39m_overlapped_write \u001b[39m=\u001b[39m \u001b[39mNone\u001b[39;00m\n\u001b[1;32m---> 33\u001b[0m \u001b[39msuper\u001b[39;49m(Serial, \u001b[39mself\u001b[39;49m)\u001b[39m.\u001b[39;49m\u001b[39m__init__\u001b[39;49m(\u001b[39m*\u001b[39;49margs, \u001b[39m*\u001b[39;49m\u001b[39m*\u001b[39;49mkwargs)\n",
      "File \u001b[1;32mc:\\Python311\\Lib\\site-packages\\serial\\serialutil.py:244\u001b[0m, in \u001b[0;36mSerialBase.__init__\u001b[1;34m(self, port, baudrate, bytesize, parity, stopbits, timeout, xonxoff, rtscts, write_timeout, dsrdtr, inter_byte_timeout, exclusive, **kwargs)\u001b[0m\n\u001b[0;32m    241\u001b[0m     \u001b[39mraise\u001b[39;00m \u001b[39mValueError\u001b[39;00m(\u001b[39m'\u001b[39m\u001b[39munexpected keyword arguments: \u001b[39m\u001b[39m{!r}\u001b[39;00m\u001b[39m'\u001b[39m\u001b[39m.\u001b[39mformat(kwargs))\n\u001b[0;32m    243\u001b[0m \u001b[39mif\u001b[39;00m port \u001b[39mis\u001b[39;00m \u001b[39mnot\u001b[39;00m \u001b[39mNone\u001b[39;00m:\n\u001b[1;32m--> 244\u001b[0m     \u001b[39mself\u001b[39;49m\u001b[39m.\u001b[39;49mopen()\n",
      "File \u001b[1;32mc:\\Python311\\Lib\\site-packages\\serial\\serialwin32.py:64\u001b[0m, in \u001b[0;36mSerial.open\u001b[1;34m(self)\u001b[0m\n\u001b[0;32m     62\u001b[0m \u001b[39mif\u001b[39;00m \u001b[39mself\u001b[39m\u001b[39m.\u001b[39m_port_handle \u001b[39m==\u001b[39m win32\u001b[39m.\u001b[39mINVALID_HANDLE_VALUE:\n\u001b[0;32m     63\u001b[0m     \u001b[39mself\u001b[39m\u001b[39m.\u001b[39m_port_handle \u001b[39m=\u001b[39m \u001b[39mNone\u001b[39;00m    \u001b[39m# 'cause __del__ is called anyway\u001b[39;00m\n\u001b[1;32m---> 64\u001b[0m     \u001b[39mraise\u001b[39;00m SerialException(\u001b[39m\"\u001b[39m\u001b[39mcould not open port \u001b[39m\u001b[39m{!r}\u001b[39;00m\u001b[39m: \u001b[39m\u001b[39m{!r}\u001b[39;00m\u001b[39m\"\u001b[39m\u001b[39m.\u001b[39mformat(\u001b[39mself\u001b[39m\u001b[39m.\u001b[39mportstr, ctypes\u001b[39m.\u001b[39mWinError()))\n\u001b[0;32m     66\u001b[0m \u001b[39mtry\u001b[39;00m:\n\u001b[0;32m     67\u001b[0m     \u001b[39mself\u001b[39m\u001b[39m.\u001b[39m_overlapped_read \u001b[39m=\u001b[39m win32\u001b[39m.\u001b[39mOVERLAPPED()\n",
      "\u001b[1;31mSerialException\u001b[0m: could not open port '/dev/ttyUSB2': FileNotFoundError(2, 'The system cannot find the path specified.', None, 3)"
     ]
    }
   ],
   "source": [
    "import robot.robot as bot\n",
    "import socket\n",
    "\n",
    "TCP_IP = \"192.168.0.1\"  #  Robot IP address. Start the TCP server from the robot before starting this code\n",
    "TCP_PORT = 3000  #  Robot Port\n",
    "BUFFER_SIZE = 1024  #  Buffer size of the channel, probably 1024 or 4096\n",
    "\n",
    "gripper_port = '/dev/ttyUSB2'  # gripper USB port to linux\n",
    "# gripper_port = \"COM8\"  # gripper USB port to windows\n",
    "\n",
    "global c\n",
    "c = socket.socket(socket.AF_INET, socket.SOCK_STREAM)  #  Initialize the communication the robot through TCP as a client, the robot is the server.\n",
    "#  Connect the ethernet cable to the robot electric box first\n",
    "# c.connect((TCP_IP, TCP_PORT))\n",
    "\n",
    "arm = bot.robotic_arm(gripper_port)\n",
    "arm.set_arm_sleep_time(0.05)\n",
    "arm.set_girpper_sleep_time(0.75)\n",
    "# arm.move_to([500,200,400,-180,0,0])\n",
    "# arm.grip_activate()\n",
    "# arm.move_to_origin()\n",
    "# arm.grip_move(128, 255, 128)\n",
    "# arm.stay()\n",
    "# arm.move_to([500,200,400,-180,0,0])\n",
    "# arm.move_to_origin()\n",
    "# arm.move_to([500,200,400,-180,0,0])\n",
    "arm.move_to_origin()\n",
    "arm.move_to(x=500, y=200, z=400, rx=-180)\n",
    "arm.grip_complete_open()\n",
    "arm.move_to([-100,460,400,-180,0,0])\n",
    "\n",
    "arm.terminate()"
   ]
  }
 ],
 "metadata": {
  "kernelspec": {
   "display_name": "Python 3",
   "language": "python",
   "name": "python3"
  },
  "language_info": {
   "codemirror_mode": {
    "name": "ipython",
    "version": 3
   },
   "file_extension": ".py",
   "mimetype": "text/x-python",
   "name": "python",
   "nbconvert_exporter": "python",
   "pygments_lexer": "ipython3",
   "version": "3.11.3"
  },
  "orig_nbformat": 4
 },
 "nbformat": 4,
 "nbformat_minor": 2
}
