{
 "cells": [
  {
   "cell_type": "code",
   "execution_count": 3,
   "metadata": {},
   "outputs": [
    {
     "name": "stdout",
     "output_type": "stream",
     "text": [
      "夾爪已移動至:  [355.000023761079, -24.9997196811999, 499.999793650429, -177.000088793271, 0.999967892546772, -59.9999198507096]\n",
      "夾爪已移動至:  [354.999854056414, -24.9994695787688, 174.999887841876, -177.000030888807, 1.00002391933077, -59.9999406438086]\n",
      "夾爪已移動至:  [355.000194973602, -24.9994889434183, 225.000002714597, -177.000015321991, 0.999999564604496, -59.9998725851574]\n",
      "夾爪已移動至:  [354.999814870755, -24.9994932275095, 275.000057995445, -177.000077306814, 1.0000104382638, -59.9997947708972]\n",
      "夾爪已移動至:  [355.000099083849, -24.9995040719081, 325.00019906796, -176.999967353244, 0.999953983723523, -59.9998402663258]\n",
      "夾爪已移動至:  [355.000023761079, -24.9997196811999, 499.999793650429, -177.000088793271, 0.999967892546772, -59.9999198507096]\n"
     ]
    },
    {
     "data": {
      "text/plain": [
       "<robot.robot.robotic_arm at 0x2134ce26f50>"
      ]
     },
     "execution_count": 3,
     "metadata": {},
     "output_type": "execute_result"
    }
   ],
   "source": [
    "import robot.robot as bot\n",
    "import socket\n",
    "\n",
    "TCP_IP = \"192.168.0.1\"  #  Robot IP address. Start the TCP server from the robot before starting this code\n",
    "TCP_PORT = 3000  #  Robot Port\n",
    "BUFFER_SIZE = 1024  #  Buffer size of the channel, probably 1024 or 4096\n",
    "\n",
    "# gripper_port = '/dev/ttyUSB2'  # gripper USB port to linux\n",
    "gripper_port = \"COM12\"  # gripper USB port to windows\n",
    "\n",
    "global c\n",
    "c = socket.socket(socket.AF_INET, socket.SOCK_STREAM)  #  Initialize the communication the robot through TCP as a client, the robot is the server.\n",
    "#  Connect the ethernet cable to the robot electric box first\n",
    "c.connect((TCP_IP, TCP_PORT))\n",
    "\n",
    "arm = bot.robotic_arm(gripper_port, c)\n",
    "arm.set_arm_sleep_time(0.05)\n",
    "arm.set_girpper_sleep_time(0.75)\n",
    "# arm.move_to([500,200,400,-180,0,0])\n",
    "# arm.grip_activate()\n",
    "# arm.move_to_origin()\n",
    "# arm.grip_move(110, 255, 100)\n",
    "# arm.stay()\n",
    "# arm.move_to([190,560,350,-177,1,-60])\n",
    "arm.move_to_origin()\n",
    "arm.move_to([355,-25,175,-177,1,-60])\n",
    "arm.move_to([355,-25,225,-177,1,-60])\n",
    "arm.move_to([355,-25,275,-177,1,-60])\n",
    "arm.move_to([355,-25,325,-177,1,-60])\n",
    "arm.grip_complete_open()\n",
    "arm.move_to_origin()\n",
    "# arm.move_to(x=500, y=200, z=400, rx=-180)\n",
    "# arm.grip_complete_close()\n",
    "# arm.move_to([-100,460,400,-180,0,0])\n",
    "\n",
    "arm.terminate()"
   ]
  }
 ],
 "metadata": {
  "kernelspec": {
   "display_name": "Python 3",
   "language": "python",
   "name": "python3"
  },
  "language_info": {
   "codemirror_mode": {
    "name": "ipython",
    "version": 3
   },
   "file_extension": ".py",
   "mimetype": "text/x-python",
   "name": "python",
   "nbconvert_exporter": "python",
   "pygments_lexer": "ipython3",
   "version": "3.10.12"
  },
  "orig_nbformat": 4
 },
 "nbformat": 4,
 "nbformat_minor": 2
}
