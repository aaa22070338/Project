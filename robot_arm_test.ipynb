{
 "cells": [
  {
   "cell_type": "code",
   "execution_count": 9,
   "metadata": {},
   "outputs": [
    {
     "name": "stdout",
     "output_type": "stream",
     "text": [
      "設定偏移量為: rx_offset=3, ry_offset=1.5, rz_offset=-93\n",
      "夾爪已移動至:  202.29, 465.87, 305.90, 176.45, -4.47, 7.78\n",
      "夾爪已移動至:  202.29, 465.87, 305.90, 176.45, -4.47, 45.00\n"
     ]
    },
    {
     "data": {
      "text/plain": [
       "<robot.robot.robotic_arm at 0x150dbeea740>"
      ]
     },
     "execution_count": 9,
     "metadata": {},
     "output_type": "execute_result"
    }
   ],
   "source": [
    "import robot.robot as bot\n",
    "import socket\n",
    "# import SaveSystem as SS\n",
    "\n",
    "TCP_IP = \"192.168.0.1\"  #  Robot IP address. Start the TCP server from the robot before starting this code\n",
    "TCP_PORT = 3000  #  Robot Port\n",
    "BUFFER_SIZE = 1024  #  Buffer size of the channel, probably 1024 or 4096\n",
    "\n",
    "# gripper_port = '/dev/ttyUSB2'  # gripper USB port to linux\n",
    "gripper_port = \"COM15\"  # gripper USB port to windows\n",
    "\n",
    "global c\n",
    "c = socket.socket(socket.AF_INET, socket.SOCK_STREAM)  #  Initialize the communication the robot through TCP as a client, the robot is the server.\n",
    "#  Connect the ethernet cable to the robot electric box first\n",
    "c.connect((TCP_IP, TCP_PORT))\n",
    "\n",
    "arm = bot.robotic_arm(None ,c)\n",
    "arm.set_arm_sleep_time(0.05)\n",
    "arm.set_girpper_sleep_time(1)\n",
    "# arm.move_to_origin()\n",
    "arm.set_offset(3,1.5,-93)\n",
    "arm.move_to(rz=45)\n",
    "arm.cam_move_to(1.75, -2.19)\n",
    "# arm.cam_rotate_to(180)\n",
    "\n",
    "\n",
    "# arm.set_offset(3,0,-90)\n",
    "# arm.move_to_origin()\n",
    "# arm.move_by(rz=20)\n",
    "# arm.move_to(x=500)\n",
    "# coordinates = SS.get_coordinates_by_color([\"orange\", \"white\"])\n",
    "# for i in range(0, len(coordinates), 1):\n",
    "#     x = coordinates[i][0]\n",
    "\n",
    "#     y = coordinates[i][1]\n",
    "#     rx = coordinates[i][2]\n",
    "#     arm.move_to(x=x,y=y)\n",
    "# arm.grip_move(110, 255, 110)#夾起\n",
    "# arm.grip_move(90, 10, 100)#放開\n",
    "# arm.grip_move(110, 110, 110)#夾起\n",
    "# arm.cam_move_to(x=2.6, y=0)\n",
    "# arm.cam_move_to(1.6,1.)\n",
    "# arm.move_to([500,200,400,-180,0,0])\n",
    "# arm.grip_activate()\n",
    "# arm.grip_move(111,111,111)\n",
    "\n",
    "\n",
    "# arm.set_C2G_transfer_matrix(x=1.18514,y=32.6082)\n",
    "\n",
    "# 149.44, 516.85, 349.47, -182.05, -0.05, -0.01\n",
    "arm.terminate()\n",
    "# 118.00, 447.00, 350.00,"
   ]
  },
  {
   "cell_type": "code",
   "execution_count": null,
   "metadata": {},
   "outputs": [],
   "source": [
    "arm.set_girpper_sleep_time(1)\n",
    "arm.grip_complete_close()\n",
    "arm.grip_complete_open()\n"
   ]
  }
 ],
 "metadata": {
  "kernelspec": {
   "display_name": "Python 3",
   "language": "python",
   "name": "python3"
  },
  "language_info": {
   "codemirror_mode": {
    "name": "ipython",
    "version": 3
   },
   "file_extension": ".py",
   "mimetype": "text/x-python",
   "name": "python",
   "nbconvert_exporter": "python",
   "pygments_lexer": "ipython3",
   "version": "3.10.12"
  },
  "orig_nbformat": 4
 },
 "nbformat": 4,
 "nbformat_minor": 2
}
