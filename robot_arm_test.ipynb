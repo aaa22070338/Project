{
 "cells": [
  {
   "cell_type": "code",
   "execution_count": 1,
   "metadata": {},
   "outputs": [
    {
     "name": "stdout",
     "output_type": "stream",
     "text": [
      "設定偏移量為: rx_offset=3, ry_offset=1, rz_offset=-60\n"
     ]
    },
    {
     "ename": "",
     "evalue": "",
     "output_type": "error",
     "traceback": [
      "\u001b[1;31mThe Kernel crashed while executing code in the the current cell or a previous cell. Please review the code in the cell(s) to identify a possible cause of the failure. Click <a href='https://aka.ms/vscodeJupyterKernelCrash'>here</a> for more info. View Jupyter <a href='command:jupyter.viewOutput'>log</a> for further details."
     ]
    }
   ],
   "source": [
    "import robot.robot as bot\n",
    "import socket\n",
    "\n",
    "TCP_IP = \"192.168.0.1\"  #  Robot IP address. Start the TCP server from the robot before starting this code\n",
    "TCP_PORT = 3000  #  Robot Port\n",
    "BUFFER_SIZE = 1024  #  Buffer size of the channel, probably 1024 or 4096\n",
    "\n",
    "# gripper_port = '/dev/ttyUSB2'  # gripper USB port to linux\n",
    "gripper_port = \"COM12\"  # gripper USB port to windows\n",
    "\n",
    "global c\n",
    "c = socket.socket(socket.AF_INET, socket.SOCK_STREAM)  #  Initialize the communication the robot through TCP as a client, the robot is the server.\n",
    "#  Connect the ethernet cable to the robot electric box first\n",
    "c.connect((TCP_IP, TCP_PORT))\n",
    "\n",
    "arm = bot.robotic_arm(gripper_port ,c)\n",
    "arm.set_arm_sleep_time(0.05)\n",
    "arm.set_girpper_sleep_time(0.75)\n",
    "arm.set_offset(3,1,-60)\n",
    "# arm.move_to([500,200,400,-180,0,0])\n",
    "# arm.grip_activate()\n",
    "arm.move_to_origin()\n",
    "# arm.grip_move(110, 255, 1010)#夾起\n",
    "# arm.grip_move(90, 10, 100)#放開\n",
    "# arm.move_to([355,-25,175,-180,0,0])\n",
    "\n",
    "# arm.stay()\n",
    "\n",
    "# arm.set_C2G_transfer_matrix(x=9,y=30)\n",
    "# arm.move_to([115+44,384,350,-180,0,0])\n",
    "# arm.grip_move_to(0,20)\n",
    "# arm.grip_move_to(0,-20)\n",
    "# arm.move_by(rz=-30)\n",
    "\n",
    "# arm.move_by(x=10)\n",
    "# arm.move_by(y=10)\n",
    "# arm.move_by(rx=10)\n",
    "# arm.move_by(ry=10)\n",
    "# arm.move_by(rz=10)\n",
    "arm.cam_move_to(10,10, 30)\n",
    "# arm.cam_rotate_to(40)\n",
    "# arm.move_to_origin()\n",
    "# arm.grip_complete_open()\n",
    "# arm.move_to_origin()\n",
    "# arm.move_to(x=500, y=200, z=400, rx=-180)\n",
    "# arm.grip_complete_close()\n",
    "# arm.move_to([-100,460,400,-180,0,0])\n",
    "# print()\n",
    "arm.terminate()\n",
    "# 118.00, 447.00, 350.00,"
   ]
  }
 ],
 "metadata": {
  "kernelspec": {
   "display_name": "Python 3",
   "language": "python",
   "name": "python3"
  },
  "language_info": {
   "codemirror_mode": {
    "name": "ipython",
    "version": 3
   },
   "file_extension": ".py",
   "mimetype": "text/x-python",
   "name": "python",
   "nbconvert_exporter": "python",
   "pygments_lexer": "ipython3",
   "version": "3.10.12"
  },
  "orig_nbformat": 4
 },
 "nbformat": 4,
 "nbformat_minor": 2
}
